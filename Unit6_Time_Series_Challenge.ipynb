{
 "cells": [
  {
   "cell_type": "code",
   "execution_count": 83,
   "metadata": {},
   "outputs": [],
   "source": [
    "import numpy as np\n",
    "import pandas as pd\n",
    "import scipy\n",
    "from datetime import datetime\n",
    "import datetime as dt\n",
    "import matplotlib.pyplot as plt\n",
    "%matplotlib inline\n",
    "\n",
    "import warnings\n",
    "\n",
    "# Suppressing annoying harmless error\n",
    "warnings.filterwarnings(\n",
    "    action=\"ignore\",\n",
    "    module=\"scipy\",\n",
    "    message=\"^internal gelsd\"\n",
    ")\n",
    "warnings.simplefilter('ignore')"
   ]
  },
  {
   "cell_type": "code",
   "execution_count": 84,
   "metadata": {},
   "outputs": [],
   "source": [
    "# We read the consumer price index (CPI) data from this website: https://fred.stlouisfed.org/series/CPIAUCSL\n",
    "cpi_data = pd.read_excel('CPIAUCSL.xls', skiprows=10)\n",
    "\n",
    "# Remove NA's\n",
    "cpi_data.dropna(inplace=True)"
   ]
  },
  {
   "cell_type": "code",
   "execution_count": 85,
   "metadata": {},
   "outputs": [
    {
     "data": {
      "text/html": [
       "<div>\n",
       "<style scoped>\n",
       "    .dataframe tbody tr th:only-of-type {\n",
       "        vertical-align: middle;\n",
       "    }\n",
       "\n",
       "    .dataframe tbody tr th {\n",
       "        vertical-align: top;\n",
       "    }\n",
       "\n",
       "    .dataframe thead th {\n",
       "        text-align: right;\n",
       "    }\n",
       "</style>\n",
       "<table border=\"1\" class=\"dataframe\">\n",
       "  <thead>\n",
       "    <tr style=\"text-align: right;\">\n",
       "      <th></th>\n",
       "      <th>observation_date</th>\n",
       "      <th>CPIAUCSL</th>\n",
       "    </tr>\n",
       "  </thead>\n",
       "  <tbody>\n",
       "    <tr>\n",
       "      <th>0</th>\n",
       "      <td>1947-01-01</td>\n",
       "      <td>21.48</td>\n",
       "    </tr>\n",
       "    <tr>\n",
       "      <th>1</th>\n",
       "      <td>1947-02-01</td>\n",
       "      <td>21.62</td>\n",
       "    </tr>\n",
       "    <tr>\n",
       "      <th>2</th>\n",
       "      <td>1947-03-01</td>\n",
       "      <td>22.00</td>\n",
       "    </tr>\n",
       "    <tr>\n",
       "      <th>3</th>\n",
       "      <td>1947-04-01</td>\n",
       "      <td>22.00</td>\n",
       "    </tr>\n",
       "    <tr>\n",
       "      <th>4</th>\n",
       "      <td>1947-05-01</td>\n",
       "      <td>21.95</td>\n",
       "    </tr>\n",
       "  </tbody>\n",
       "</table>\n",
       "</div>"
      ],
      "text/plain": [
       "  observation_date  CPIAUCSL\n",
       "0       1947-01-01     21.48\n",
       "1       1947-02-01     21.62\n",
       "2       1947-03-01     22.00\n",
       "3       1947-04-01     22.00\n",
       "4       1947-05-01     21.95"
      ]
     },
     "execution_count": 85,
     "metadata": {},
     "output_type": "execute_result"
    }
   ],
   "source": [
    "cpi_data.head()"
   ]
  },
  {
   "cell_type": "code",
   "execution_count": 86,
   "metadata": {},
   "outputs": [
    {
     "data": {
      "text/html": [
       "<div>\n",
       "<style scoped>\n",
       "    .dataframe tbody tr th:only-of-type {\n",
       "        vertical-align: middle;\n",
       "    }\n",
       "\n",
       "    .dataframe tbody tr th {\n",
       "        vertical-align: top;\n",
       "    }\n",
       "\n",
       "    .dataframe thead th {\n",
       "        text-align: right;\n",
       "    }\n",
       "</style>\n",
       "<table border=\"1\" class=\"dataframe\">\n",
       "  <thead>\n",
       "    <tr style=\"text-align: right;\">\n",
       "      <th></th>\n",
       "      <th>cpi</th>\n",
       "    </tr>\n",
       "    <tr>\n",
       "      <th>observation_date</th>\n",
       "      <th></th>\n",
       "    </tr>\n",
       "  </thead>\n",
       "  <tbody>\n",
       "    <tr>\n",
       "      <th>1947-01-01</th>\n",
       "      <td>21.48</td>\n",
       "    </tr>\n",
       "    <tr>\n",
       "      <th>1947-02-01</th>\n",
       "      <td>21.62</td>\n",
       "    </tr>\n",
       "    <tr>\n",
       "      <th>1947-03-01</th>\n",
       "      <td>22.00</td>\n",
       "    </tr>\n",
       "    <tr>\n",
       "      <th>1947-04-01</th>\n",
       "      <td>22.00</td>\n",
       "    </tr>\n",
       "    <tr>\n",
       "      <th>1947-05-01</th>\n",
       "      <td>21.95</td>\n",
       "    </tr>\n",
       "  </tbody>\n",
       "</table>\n",
       "</div>"
      ],
      "text/plain": [
       "                    cpi\n",
       "observation_date       \n",
       "1947-01-01        21.48\n",
       "1947-02-01        21.62\n",
       "1947-03-01        22.00\n",
       "1947-04-01        22.00\n",
       "1947-05-01        21.95"
      ]
     },
     "execution_count": 86,
     "metadata": {},
     "output_type": "execute_result"
    }
   ],
   "source": [
    "# Take the observation_date column and convert it to an index to make it easier to plot\n",
    "# Drop the observation_date after converting\n",
    "cpi_data.index = pd.to_datetime(cpi_data.observation_date)\n",
    "cpi_data.drop(['observation_date'], axis=1, inplace=True)\n",
    "\n",
    "# Rename the CPIAUCSL column name to a simpler name like cpi\n",
    "cpi_data.rename(columns={'CPIAUCSL': 'cpi'}, inplace=True)\n",
    "cpi_data.head()"
   ]
  },
  {
   "cell_type": "code",
   "execution_count": 87,
   "metadata": {},
   "outputs": [
    {
     "data": {
      "image/png": "[encoded data removed]",
      "text/plain": [
       "<Figure size 432x288 with 1 Axes>"
      ]
     },
     "metadata": {
      "needs_background": "light"
     },
     "output_type": "display_data"
    }
   ],
   "source": [
    "# Plot the raw CPI data with the dates as the index\n",
    "cpi_data.plot()\n",
    "plt.title('US Consumer Price Index Time Series')\n",
    "plt.ylabel('Consumer Price Index')\n",
    "plt.show()"
   ]
  },
  {
   "cell_type": "code",
   "execution_count": 88,
   "metadata": {},
   "outputs": [
    {
     "data": {
      "image/png": "[encoded data removed]",
      "text/plain": [
       "<Figure size 432x288 with 1 Axes>"
      ]
     },
     "metadata": {
      "needs_background": "light"
     },
     "output_type": "display_data"
    }
   ],
   "source": [
    "# Here we induce stationarity by calcluating the difference between current and previous values\n",
    "# and plot the difference\n",
    "cpi_data['diff_1'] = cpi_data.cpi - cpi_data.cpi.shift()\n",
    "cpi_data.plot(y='diff_1')\n",
    "plt.title('CPI Time Series')\n",
    "plt.ylabel(\"Consumer Price Index\")\n",
    "plt.show()"
   ]
  },
  {
   "cell_type": "code",
   "execution_count": 89,
   "metadata": {},
   "outputs": [
    {
     "data": {
      "text/plain": [
       "Text(0.5, 1.0, 'US CPI PACF')"
      ]
     },
     "execution_count": 89,
     "metadata": {},
     "output_type": "execute_result"
    },
    {
     "data": {
      "image/png": "[encoded data removed]",
      "text/plain": [
       "<Figure size 432x288 with 1 Axes>"
      ]
     },
     "metadata": {
      "needs_background": "light"
     },
     "output_type": "display_data"
    }
   ],
   "source": [
    "# Partial Auto Corrrelation Factor\n",
    "# On the original values of CPI\n",
    "\n",
    "from statsmodels.tsa.stattools import pacf\n",
    "x_acf = pd.DataFrame(pacf(cpi_data.cpi))\n",
    "x_acf.plot(kind='bar')\n",
    "plt.ylabel('CPI Diff')\n",
    "plt.title(\"US CPI PACF\")"
   ]
  },
  {
   "cell_type": "code",
   "execution_count": 90,
   "metadata": {},
   "outputs": [
    {
     "data": {
      "text/plain": [
       "<matplotlib.legend.Legend at 0x12302e7f0>"
      ]
     },
     "execution_count": 90,
     "metadata": {},
     "output_type": "execute_result"
    },
    {
     "data": {
      "image/png": "[encoded data removed]",
      "text/plain": [
       "<Figure size 432x288 with 1 Axes>"
      ]
     },
     "metadata": {
      "needs_background": "light"
     },
     "output_type": "display_data"
    }
   ],
   "source": [
    "# Partial Auto Corrrelation Factor\n",
    "# after inducing staionarity in CPI values\n",
    "\n",
    "x_acf = pd.DataFrame(pacf(cpi_data.diff_1[1:]))\n",
    "x_acf.plot(kind='bar')\n",
    "plt.title(\"US CPI Diff PACF\")\n",
    "plt.legend(['Difference'])"
   ]
  },
  {
   "cell_type": "code",
   "execution_count": 91,
   "metadata": {},
   "outputs": [
    {
     "data": {
      "text/html": [
       "<div>\n",
       "<style scoped>\n",
       "    .dataframe tbody tr th:only-of-type {\n",
       "        vertical-align: middle;\n",
       "    }\n",
       "\n",
       "    .dataframe tbody tr th {\n",
       "        vertical-align: top;\n",
       "    }\n",
       "\n",
       "    .dataframe thead th {\n",
       "        text-align: right;\n",
       "    }\n",
       "</style>\n",
       "<table border=\"1\" class=\"dataframe\">\n",
       "  <thead>\n",
       "    <tr style=\"text-align: right;\">\n",
       "      <th></th>\n",
       "      <th>cpi</th>\n",
       "      <th>diff_1</th>\n",
       "    </tr>\n",
       "    <tr>\n",
       "      <th>observation_date</th>\n",
       "      <th></th>\n",
       "      <th></th>\n",
       "    </tr>\n",
       "  </thead>\n",
       "  <tbody>\n",
       "    <tr>\n",
       "      <th>1947-01-01</th>\n",
       "      <td>21.48</td>\n",
       "      <td>NaN</td>\n",
       "    </tr>\n",
       "    <tr>\n",
       "      <th>1947-02-01</th>\n",
       "      <td>21.62</td>\n",
       "      <td>0.14</td>\n",
       "    </tr>\n",
       "    <tr>\n",
       "      <th>1947-03-01</th>\n",
       "      <td>22.00</td>\n",
       "      <td>0.38</td>\n",
       "    </tr>\n",
       "    <tr>\n",
       "      <th>1947-04-01</th>\n",
       "      <td>22.00</td>\n",
       "      <td>0.00</td>\n",
       "    </tr>\n",
       "    <tr>\n",
       "      <th>1947-05-01</th>\n",
       "      <td>21.95</td>\n",
       "      <td>-0.05</td>\n",
       "    </tr>\n",
       "  </tbody>\n",
       "</table>\n",
       "</div>"
      ],
      "text/plain": [
       "                    cpi  diff_1\n",
       "observation_date               \n",
       "1947-01-01        21.48     NaN\n",
       "1947-02-01        21.62    0.14\n",
       "1947-03-01        22.00    0.38\n",
       "1947-04-01        22.00    0.00\n",
       "1947-05-01        21.95   -0.05"
      ]
     },
     "execution_count": 91,
     "metadata": {},
     "output_type": "execute_result"
    }
   ],
   "source": [
    "cpi_data.head()"
   ]
  },
  {
   "cell_type": "code",
   "execution_count": 92,
   "metadata": {},
   "outputs": [
    {
     "name": "stdout",
     "output_type": "stream",
     "text": [
      "                             ARIMA Model Results                              \n",
      "==============================================================================\n",
      "Dep. Variable:                  D.cpi   No. Observations:                  868\n",
      "Model:                 ARIMA(0, 1, 0)   Log Likelihood                -407.280\n",
      "Method:                           css   S.D. of innovations              0.387\n",
      "Date:                Thu, 27 Jun 2019   AIC                            818.560\n",
      "Time:                        18:55:31   BIC                            828.093\n",
      "Sample:                    02-01-1947   HQIC                           822.208\n",
      "                         - 05-01-2019                                         \n",
      "==============================================================================\n",
      "                 coef    std err          z      P>|z|      [0.025      0.975]\n",
      "------------------------------------------------------------------------------\n",
      "const          0.2692      0.013     20.503      0.000       0.243       0.295\n",
      "==============================================================================\n",
      "Residuals Description\n",
      "count    8.680000e+02\n",
      "mean     4.513444e-09\n",
      "std      3.870717e-01\n",
      "min     -4.111211e+00\n",
      "25%     -2.107108e-01\n",
      "50%     -6.921082e-02\n",
      "75%      1.640392e-01\n",
      "max      2.430789e+00\n",
      "dtype: float64\n"
     ]
    }
   ],
   "source": [
    "# Run various ARIMA models to see which p, d and q values fit the best\n",
    "# Pick the one with lowest AIC\n",
    "\n",
    "from statsmodels.tsa.arima_model import ARIMA\n",
    "model = ARIMA(cpi_data.cpi, order=(0,1,0))\n",
    "model_fit = model.fit()\n",
    "print(model_fit.summary())\n",
    "print('Residuals Description')\n",
    "print(model_fit.resid.describe())"
   ]
  },
  {
   "cell_type": "code",
   "execution_count": 93,
   "metadata": {},
   "outputs": [
    {
     "name": "stdout",
     "output_type": "stream",
     "text": [
      "                              ARMA Model Results                              \n",
      "==============================================================================\n",
      "Dep. Variable:                    cpi   No. Observations:                  869\n",
      "Model:                     ARMA(1, 0)   Log Likelihood                -588.436\n",
      "Method:                       css-mle   S.D. of innovations              0.471\n",
      "Date:                Thu, 27 Jun 2019   AIC                           1182.873\n",
      "Time:                        18:55:32   BIC                           1197.175\n",
      "Sample:                    01-01-1947   HQIC                          1188.345\n",
      "                         - 05-01-2019                                         \n",
      "==============================================================================\n",
      "                 coef    std err          z      P>|z|      [0.025      0.975]\n",
      "------------------------------------------------------------------------------\n",
      "const        147.1748        nan        nan        nan         nan         nan\n",
      "ar.L1.cpi      1.0000        nan        nan        nan         nan         nan\n",
      "                                    Roots                                    \n",
      "=============================================================================\n",
      "                  Real          Imaginary           Modulus         Frequency\n",
      "-----------------------------------------------------------------------------\n",
      "AR.1            1.0000           +0.0000j            1.0000            0.0000\n",
      "-----------------------------------------------------------------------------\n",
      "Residuals Description\n",
      "count    869.000000\n",
      "mean       0.124258\n",
      "std        4.290512\n",
      "min     -125.694794\n",
      "25%        0.054000\n",
      "50%        0.200000\n",
      "75%        0.431000\n",
      "max        2.700000\n",
      "dtype: float64\n"
     ]
    }
   ],
   "source": [
    "from statsmodels.tsa.arima_model import ARIMA\n",
    "model = ARIMA(cpi_data.cpi, order=(1,0,0))\n",
    "model_fit = model.fit()\n",
    "print(model_fit.summary())\n",
    "print('Residuals Description')\n",
    "print(model_fit.resid.describe())"
   ]
  },
  {
   "cell_type": "code",
   "execution_count": null,
   "metadata": {},
   "outputs": [],
   "source": [
    "# With d = 0 this model returns error. Need to investigate\n",
    "\n",
    "from statsmodels.tsa.arima_model import ARIMA\n",
    "model_101 = ARIMA(cpi_data.cpi, order=(1,0,1))\n",
    "model_101_fit = model.fit(disp=0)\n",
    "print(model_101_fit.summary())\n",
    "print('Residuals Description')\n",
    "print(model_101_fit.resid.describe())"
   ]
  },
  {
   "cell_type": "code",
   "execution_count": 95,
   "metadata": {},
   "outputs": [
    {
     "name": "stdout",
     "output_type": "stream",
     "text": [
      "                             ARIMA Model Results                              \n",
      "==============================================================================\n",
      "Dep. Variable:                  D.cpi   No. Observations:                  868\n",
      "Model:                 ARIMA(1, 1, 1)   Log Likelihood                -259.683\n",
      "Method:                       css-mle   S.D. of innovations              0.326\n",
      "Date:                Thu, 27 Jun 2019   AIC                            527.365\n",
      "Time:                        18:55:50   BIC                            546.430\n",
      "Sample:                    02-01-1947   HQIC                           534.661\n",
      "                         - 05-01-2019                                         \n",
      "===============================================================================\n",
      "                  coef    std err          z      P>|z|      [0.025      0.975]\n",
      "-------------------------------------------------------------------------------\n",
      "const           0.2689      0.021     12.536      0.000       0.227       0.311\n",
      "ar.L1.D.cpi     0.3701      0.058      6.380      0.000       0.256       0.484\n",
      "ma.L1.D.cpi     0.2210      0.061      3.615      0.000       0.101       0.341\n",
      "                                    Roots                                    \n",
      "=============================================================================\n",
      "                  Real          Imaginary           Modulus         Frequency\n",
      "-----------------------------------------------------------------------------\n",
      "AR.1            2.7020           +0.0000j            2.7020            0.0000\n",
      "MA.1           -4.5257           +0.0000j            4.5257            0.5000\n",
      "-----------------------------------------------------------------------------\n",
      "Residuals Description\n",
      "count    868.000000\n",
      "mean       0.000084\n",
      "std        0.326487\n",
      "min       -2.827422\n",
      "25%       -0.140755\n",
      "50%       -0.045749\n",
      "75%        0.130986\n",
      "max        2.004538\n",
      "dtype: float64\n"
     ]
    }
   ],
   "source": [
    "from statsmodels.tsa.arima_model import ARIMA\n",
    "model_111 = ARIMA(cpi_data.cpi, order=(1,1,1))\n",
    "model_111_fit = model_111.fit()\n",
    "print(model_111_fit.summary())\n",
    "print('Residuals Description')\n",
    "print(model_111_fit.resid.describe())"
   ]
  },
  {
   "cell_type": "code",
   "execution_count": 96,
   "metadata": {},
   "outputs": [
    {
     "name": "stdout",
     "output_type": "stream",
     "text": [
      "                             ARIMA Model Results                              \n",
      "==============================================================================\n",
      "Dep. Variable:                  D.cpi   No. Observations:                  868\n",
      "Model:                 ARIMA(5, 1, 5)   Log Likelihood                -227.651\n",
      "Method:                       css-mle   S.D. of innovations              0.314\n",
      "Date:                Thu, 27 Jun 2019   AIC                            479.303\n",
      "Time:                        18:56:00   BIC                            536.497\n",
      "Sample:                    02-01-1947   HQIC                           501.189\n",
      "                         - 05-01-2019                                         \n",
      "===============================================================================\n",
      "                  coef    std err          z      P>|z|      [0.025      0.975]\n",
      "-------------------------------------------------------------------------------\n",
      "const           0.2604      0.086      3.044      0.002       0.093       0.428\n",
      "ar.L1.D.cpi     1.0274      0.228      4.500      0.000       0.580       1.475\n",
      "ar.L2.D.cpi    -0.7594      0.394     -1.929      0.054      -1.531       0.012\n",
      "ar.L3.D.cpi     0.2336      0.419      0.557      0.578      -0.588       1.055\n",
      "ar.L4.D.cpi     0.4338      0.299      1.452      0.147      -0.152       1.019\n",
      "ar.L5.D.cpi     0.0499      0.092      0.540      0.589      -0.131       0.231\n",
      "ma.L1.D.cpi    -0.4917      0.225     -2.181      0.029      -0.934      -0.050\n",
      "ma.L2.D.cpi     0.3405      0.274      1.243      0.214      -0.196       0.877\n",
      "ma.L3.D.cpi     0.0237      0.244      0.097      0.923      -0.455       0.502\n",
      "ma.L4.D.cpi    -0.4099      0.138     -2.967      0.003      -0.681      -0.139\n",
      "ma.L5.D.cpi    -0.3298      0.086     -3.823      0.000      -0.499      -0.161\n",
      "                                    Roots                                    \n",
      "=============================================================================\n",
      "                  Real          Imaginary           Modulus         Frequency\n",
      "-----------------------------------------------------------------------------\n",
      "AR.1            1.0066           -0.0000j            1.0066           -0.0000\n",
      "AR.2            0.2899           -0.9712j            1.0136           -0.2038\n",
      "AR.3            0.2899           +0.9712j            1.0136            0.2038\n",
      "AR.4           -2.4873           -0.0000j            2.4873           -0.5000\n",
      "AR.5           -7.7845           -0.0000j            7.7845           -0.5000\n",
      "MA.1            1.0408           -0.0000j            1.0408           -0.0000\n",
      "MA.2            0.2742           -0.9772j            1.0150           -0.2065\n",
      "MA.3            0.2742           +0.9772j            1.0150            0.2065\n",
      "MA.4           -1.4160           -0.9071j            1.6816           -0.4093\n",
      "MA.5           -1.4160           +0.9071j            1.6816            0.4093\n",
      "-----------------------------------------------------------------------------\n",
      "Residuals Description\n",
      "count    868.000000\n",
      "mean       0.003981\n",
      "std        0.314469\n",
      "min       -3.181479\n",
      "25%       -0.094778\n",
      "50%       -0.006790\n",
      "75%        0.110427\n",
      "max        1.985220\n",
      "dtype: float64\n"
     ]
    }
   ],
   "source": [
    "from statsmodels.tsa.arima_model import ARIMA\n",
    "model = ARIMA(cpi_data.cpi, order=(5,1,5))\n",
    "model_fit = model.fit()\n",
    "print(model_fit.summary())\n",
    "print('Residuals Description')\n",
    "print(model_fit.resid.describe())"
   ]
  },
  {
   "cell_type": "code",
   "execution_count": 97,
   "metadata": {},
   "outputs": [
    {
     "data": {
      "text/plain": [
       "Text(0.5, 1.0, 'Histogram of CPI Residuals')"
      ]
     },
     "execution_count": 97,
     "metadata": {},
     "output_type": "execute_result"
    },
    {
     "data": {
      "image/png": "[encoded data removed]",
      "text/plain": [
       "<Figure size 432x288 with 1 Axes>"
      ]
     },
     "metadata": {
      "needs_background": "light"
     },
     "output_type": "display_data"
    },
    {
     "data": {
      "image/png": "[encoded data removed]",
      "text/plain": [
       "<Figure size 432x288 with 1 Axes>"
      ]
     },
     "metadata": {
      "needs_background": "light"
     },
     "output_type": "display_data"
    }
   ],
   "source": [
    "# Plot the residuals i.e the actual - predicted\n",
    "\n",
    "residuals = pd.DataFrame(model_111_fit.resid)\n",
    "\n",
    "residuals.plot(legend=False)\n",
    "plt.title('Time Series of CPI Residuals')\n",
    "\n",
    "residuals.hist(bins=20)\n",
    "plt.title('Histogram of CPI Residuals')"
   ]
  },
  {
   "cell_type": "code",
   "execution_count": 98,
   "metadata": {},
   "outputs": [
    {
     "data": {
      "image/png": "[encoded data removed]",
      "text/plain": [
       "<Figure size 432x288 with 1 Axes>"
      ]
     },
     "metadata": {
      "needs_background": "light"
     },
     "output_type": "display_data"
    }
   ],
   "source": [
    "# ARIMA model has a function to plot the forecasted (predicted) value with original value\n",
    "model_fit.plot_predict(dynamic=False)\n",
    "plt.show()"
   ]
  },
  {
   "cell_type": "code",
   "execution_count": 111,
   "metadata": {},
   "outputs": [
    {
     "data": {
      "text/html": [
       "<div>\n",
       "<style scoped>\n",
       "    .dataframe tbody tr th:only-of-type {\n",
       "        vertical-align: middle;\n",
       "    }\n",
       "\n",
       "    .dataframe tbody tr th {\n",
       "        vertical-align: top;\n",
       "    }\n",
       "\n",
       "    .dataframe thead th {\n",
       "        text-align: right;\n",
       "    }\n",
       "</style>\n",
       "<table border=\"1\" class=\"dataframe\">\n",
       "  <thead>\n",
       "    <tr style=\"text-align: right;\">\n",
       "      <th></th>\n",
       "      <th>cpi</th>\n",
       "      <th>diff_1</th>\n",
       "    </tr>\n",
       "    <tr>\n",
       "      <th>observation_date</th>\n",
       "      <th></th>\n",
       "      <th></th>\n",
       "    </tr>\n",
       "  </thead>\n",
       "  <tbody>\n",
       "    <tr>\n",
       "      <th>1947-01-01</th>\n",
       "      <td>21.48</td>\n",
       "      <td>NaN</td>\n",
       "    </tr>\n",
       "  </tbody>\n",
       "</table>\n",
       "</div>"
      ],
      "text/plain": [
       "                    cpi  diff_1\n",
       "observation_date               \n",
       "1947-01-01        21.48     NaN"
      ]
     },
     "execution_count": 111,
     "metadata": {},
     "output_type": "execute_result"
    }
   ],
   "source": [
    "cpi_data[cpi_data.isnull().any(axis=1)]"
   ]
  },
  {
   "cell_type": "code",
   "execution_count": 115,
   "metadata": {},
   "outputs": [
    {
     "data": {
      "text/plain": [
       "0"
      ]
     },
     "execution_count": 115,
     "metadata": {},
     "output_type": "execute_result"
    }
   ],
   "source": [
    "(cpi_data.cpi < 0).sum()"
   ]
  },
  {
   "cell_type": "code",
   "execution_count": 62,
   "metadata": {},
   "outputs": [
    {
     "name": "stdout",
     "output_type": "stream",
     "text": [
      "<class 'pandas.core.frame.DataFrame'>\n",
      "DatetimeIndex: 869 entries, 1947-01-01 to 2019-05-01\n",
      "Data columns (total 2 columns):\n",
      "cpi       869 non-null float64\n",
      "diff_1    868 non-null float64\n",
      "dtypes: float64(2)\n",
      "memory usage: 20.4 KB\n"
     ]
    }
   ],
   "source": [
    "cpi_data.info()"
   ]
  },
  {
   "cell_type": "code",
   "execution_count": 64,
   "metadata": {},
   "outputs": [],
   "source": [
    "# Cross validate our model by splitting training and testing datasets at a 70-30 split ratio\n",
    "\n",
    "from statsmodels.tsa.stattools import acf\n",
    "\n",
    "# Create Training and Test\n",
    "train_cpi = cpi_data.cpi[:650]\n",
    "test_cpi = cpi_data.cpi[650:]"
   ]
  },
  {
   "cell_type": "code",
   "execution_count": 73,
   "metadata": {},
   "outputs": [
    {
     "data": {
      "image/png": "[encoded data removed]",
      "text/plain": [
       "<Figure size 1200x500 with 1 Axes>"
      ]
     },
     "metadata": {
      "needs_background": "light"
     },
     "output_type": "display_data"
    }
   ],
   "source": [
    "# Build Model and plot training versus actual versus forecast\n",
    "\n",
    "model = ARIMA(train_cpi, order=(1, 1, 1))  \n",
    "fitted = model.fit(disp=-1)  \n",
    "\n",
    "# Forecast\n",
    "fc, se, conf = fitted.forecast(test_size[0], alpha=0.05)  # 95% conf\n",
    "\n",
    "# Make as pandas series\n",
    "fc_series = pd.Series(fc, index=test_cpi.index)\n",
    "lower_series = pd.Series(conf[:, 0], index=test_cpi.index)\n",
    "upper_series = pd.Series(conf[:, 1], index=test_cpi.index)\n",
    "\n",
    "# Plot\n",
    "plt.figure(figsize=(12,5), dpi=100)\n",
    "plt.plot(train_cpi, label='training')\n",
    "plt.plot(test_cpi, label='actual')\n",
    "plt.plot(fc_series, label='forecast')\n",
    "plt.fill_between(lower_series.index, lower_series, upper_series, \n",
    "                 color='k', alpha=.15)\n",
    "plt.title('Forecast vs Actuals')\n",
    "plt.legend(loc='upper left', fontsize=8)\n",
    "plt.show()"
   ]
  },
  {
   "cell_type": "code",
   "execution_count": null,
   "metadata": {},
   "outputs": [],
   "source": []
  }
 ],
 "metadata": {
  "kernelspec": {
   "display_name": "Python 3",
   "language": "python",
   "name": "python3"
  },
  "language_info": {
   "codemirror_mode": {
    "name": "ipython",
    "version": 3
   },
   "file_extension": ".py",
   "mimetype": "text/x-python",
   "name": "python",
   "nbconvert_exporter": "python",
   "pygments_lexer": "ipython3",
   "version": "3.7.1"
  }
 },
 "nbformat": 4,
 "nbformat_minor": 2
}
