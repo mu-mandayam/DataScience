{
 "cells": [
  {
   "cell_type": "markdown",
   "metadata": {},
   "source": [
    "<h1><center>Promoting Ride Hailing Service</center></h1><br>\n",
    "<h2>Context:</h2><br>\n",
    "Our fictitious company is called RideHail Inc. Ride hailing has become an important service. Thanks to the smartphone era where apps are available to call a taxicab that will show the exact locations of the caller and the driver to each other providing a convenient user experience for both parties. \n",
    "\n",
    "Usage of the service is increasing day by day. According to https://www.ride-guru/ 35% of the people use ride hailing services at least once per week. An additional 68% say they will use such services very soon. Many have indicated that using ride hailing services as opposed to driving themselves gives them a bettwe quality of life.\n",
    "\n",
    "<h2>Objective:</h2><br>\n",
    "Our objective in this experiment is to attract existing customers to use the additional services offered by RideHail Inc. such as luxury card services, limousine services and food delivery. Specifically we will add a loyalty program feature in the app where customers accumulate points for each service used. The total accumulated points can used towards the any other service offered by RideHail.\n",
    "\n",
    "We will use the AB Testing method by a. providing an option in the app to enroll into the loyalty program to one set of the sample; and b.send out emails with an invitation to enroll to a second set and trak the success rate in enrolling the customers through both means.\n",
    "\n",
    "<h3>Success Factor:</h3><br>\n",
    "Our success factor is to see an increase in the loyalty program enrollment. We will track this with a column in the dataset called signed_up.\n",
    "\n",
    "A secondary metric is tracked when customers sign up for the email newsletter informing customers of the ways the loyalty points can be redeemed.\n",
    "\n",
    "<h3>Rollout Plan:</h3>\n",
    "\n",
    "1. Select 20% of the sample and split them into two groups - an experiment group and a control group.<br>\n",
    "   A second set of users will be randomly selected for email marketing.<br>\n",
    "2. Test market the sign up in a particular city where the new services will be rolled out, to avoid any bias.<br>\n",
    "3. Get the feature in the app developed and beta tested with a select few users chosen randomly.<br>\n",
    "4. Have the email body ready and formatted to sent. Send it to a few test accounts.<br>\n",
    "5. View the emails on the popular email applications such as Outlook, Mac Mail, and using browsers such as Chrome, Safari etc. to make sure the formatting is correct and links to enroll are active.<br>"
   ]
  },
  {
   "cell_type": "code",
   "execution_count": 86,
   "metadata": {},
   "outputs": [],
   "source": [
    "%matplotlib inline\n",
    "import pandas as pd\n",
    "import numpy as np\n",
    "import seaborn as sns\n",
    "from matplotlib import pyplot as plt\n",
    "from scipy import stats"
   ]
  },
  {
   "cell_type": "code",
   "execution_count": 87,
   "metadata": {},
   "outputs": [],
   "source": [
    "ride_hail_data = pd.read_csv('churn.csv')"
   ]
  },
  {
   "cell_type": "code",
   "execution_count": 88,
   "metadata": {},
   "outputs": [
    {
     "name": "stdout",
     "output_type": "stream",
     "text": [
      "<class 'pandas.core.frame.DataFrame'>\n",
      "RangeIndex: 50000 entries, 0 to 49999\n",
      "Data columns (total 15 columns):\n",
      "Unnamed: 0                50000 non-null int64\n",
      "avg_dist                  50000 non-null float64\n",
      "avg_rating_by_driver      49799 non-null float64\n",
      "avg_rating_of_driver      41878 non-null float64\n",
      "avg_surge                 50000 non-null float64\n",
      "city                      50000 non-null object\n",
      "last_trip_date            50000 non-null object\n",
      "phone                     49604 non-null object\n",
      "signup_date               50000 non-null object\n",
      "surge_pct                 50000 non-null float64\n",
      "trips_in_first_30_days    50000 non-null int64\n",
      "luxury_car_user           50000 non-null bool\n",
      "weekday_pct               50000 non-null float64\n",
      "loyalty_pgm               50000 non-null int64\n",
      "signed_up                 50000 non-null int64\n",
      "dtypes: bool(1), float64(6), int64(4), object(4)\n",
      "memory usage: 5.4+ MB\n"
     ]
    }
   ],
   "source": [
    "# Print to see if any NULL value records are present\n",
    "ride_hail_data.info()"
   ]
  },
  {
   "cell_type": "code",
   "execution_count": 89,
   "metadata": {},
   "outputs": [],
   "source": [
    "#\n",
    "# Drop NULL value rows\n",
    "#\n",
    "ride_hail_data.dropna(subset=['avg_rating_of_driver'], inplace=True)\n",
    "ride_hail_data.dropna(subset=['phone'], inplace=True)\n",
    "ride_hail_data.dropna(subset=['avg_rating_by_driver'], inplace=True)"
   ]
  },
  {
   "cell_type": "code",
   "execution_count": 90,
   "metadata": {},
   "outputs": [
    {
     "name": "stdout",
     "output_type": "stream",
     "text": [
      "<class 'pandas.core.frame.DataFrame'>\n",
      "Int64Index: 41445 entries, 0 to 49998\n",
      "Data columns (total 15 columns):\n",
      "Unnamed: 0                41445 non-null int64\n",
      "avg_dist                  41445 non-null float64\n",
      "avg_rating_by_driver      41445 non-null float64\n",
      "avg_rating_of_driver      41445 non-null float64\n",
      "avg_surge                 41445 non-null float64\n",
      "city                      41445 non-null object\n",
      "last_trip_date            41445 non-null object\n",
      "phone                     41445 non-null object\n",
      "signup_date               41445 non-null object\n",
      "surge_pct                 41445 non-null float64\n",
      "trips_in_first_30_days    41445 non-null int64\n",
      "luxury_car_user           41445 non-null bool\n",
      "weekday_pct               41445 non-null float64\n",
      "loyalty_pgm               41445 non-null int64\n",
      "signed_up                 41445 non-null int64\n",
      "dtypes: bool(1), float64(6), int64(4), object(4)\n",
      "memory usage: 4.8+ MB\n"
     ]
    }
   ],
   "source": [
    "ride_hail_data.info()"
   ]
  },
  {
   "cell_type": "code",
   "execution_count": 91,
   "metadata": {},
   "outputs": [
    {
     "data": {
      "text/html": [
       "<div>\n",
       "<style scoped>\n",
       "    .dataframe tbody tr th:only-of-type {\n",
       "        vertical-align: middle;\n",
       "    }\n",
       "\n",
       "    .dataframe tbody tr th {\n",
       "        vertical-align: top;\n",
       "    }\n",
       "\n",
       "    .dataframe thead th {\n",
       "        text-align: right;\n",
       "    }\n",
       "</style>\n",
       "<table border=\"1\" class=\"dataframe\">\n",
       "  <thead>\n",
       "    <tr style=\"text-align: right;\">\n",
       "      <th></th>\n",
       "      <th>Unnamed: 0</th>\n",
       "      <th>avg_dist</th>\n",
       "      <th>avg_rating_by_driver</th>\n",
       "      <th>avg_rating_of_driver</th>\n",
       "      <th>avg_surge</th>\n",
       "      <th>city</th>\n",
       "      <th>last_trip_date</th>\n",
       "      <th>phone</th>\n",
       "      <th>signup_date</th>\n",
       "      <th>surge_pct</th>\n",
       "      <th>trips_in_first_30_days</th>\n",
       "      <th>luxury_car_user</th>\n",
       "      <th>weekday_pct</th>\n",
       "      <th>loyalty_pgm</th>\n",
       "      <th>signed_up</th>\n",
       "    </tr>\n",
       "  </thead>\n",
       "  <tbody>\n",
       "    <tr>\n",
       "      <th>0</th>\n",
       "      <td>0</td>\n",
       "      <td>3.67</td>\n",
       "      <td>5.0</td>\n",
       "      <td>4.7</td>\n",
       "      <td>1.10</td>\n",
       "      <td>King's Landing</td>\n",
       "      <td>6/17/14</td>\n",
       "      <td>iPhone</td>\n",
       "      <td>1/25/14</td>\n",
       "      <td>15.4</td>\n",
       "      <td>4</td>\n",
       "      <td>True</td>\n",
       "      <td>46.2</td>\n",
       "      <td>0</td>\n",
       "      <td>1</td>\n",
       "    </tr>\n",
       "    <tr>\n",
       "      <th>1</th>\n",
       "      <td>1</td>\n",
       "      <td>8.26</td>\n",
       "      <td>5.0</td>\n",
       "      <td>5.0</td>\n",
       "      <td>1.00</td>\n",
       "      <td>Astapor</td>\n",
       "      <td>5/5/14</td>\n",
       "      <td>Android</td>\n",
       "      <td>1/29/14</td>\n",
       "      <td>0.0</td>\n",
       "      <td>0</td>\n",
       "      <td>False</td>\n",
       "      <td>50.0</td>\n",
       "      <td>0</td>\n",
       "      <td>0</td>\n",
       "    </tr>\n",
       "    <tr>\n",
       "      <th>2</th>\n",
       "      <td>2</td>\n",
       "      <td>0.77</td>\n",
       "      <td>5.0</td>\n",
       "      <td>4.3</td>\n",
       "      <td>1.00</td>\n",
       "      <td>Astapor</td>\n",
       "      <td>1/7/14</td>\n",
       "      <td>iPhone</td>\n",
       "      <td>1/6/14</td>\n",
       "      <td>0.0</td>\n",
       "      <td>3</td>\n",
       "      <td>False</td>\n",
       "      <td>100.0</td>\n",
       "      <td>1</td>\n",
       "      <td>1</td>\n",
       "    </tr>\n",
       "    <tr>\n",
       "      <th>3</th>\n",
       "      <td>3</td>\n",
       "      <td>2.36</td>\n",
       "      <td>4.9</td>\n",
       "      <td>4.6</td>\n",
       "      <td>1.14</td>\n",
       "      <td>King's Landing</td>\n",
       "      <td>6/29/14</td>\n",
       "      <td>iPhone</td>\n",
       "      <td>1/10/14</td>\n",
       "      <td>20.0</td>\n",
       "      <td>9</td>\n",
       "      <td>True</td>\n",
       "      <td>80.0</td>\n",
       "      <td>1</td>\n",
       "      <td>0</td>\n",
       "    </tr>\n",
       "    <tr>\n",
       "      <th>4</th>\n",
       "      <td>4</td>\n",
       "      <td>3.13</td>\n",
       "      <td>4.9</td>\n",
       "      <td>4.4</td>\n",
       "      <td>1.19</td>\n",
       "      <td>Winterfell</td>\n",
       "      <td>3/15/14</td>\n",
       "      <td>Android</td>\n",
       "      <td>1/27/14</td>\n",
       "      <td>11.8</td>\n",
       "      <td>14</td>\n",
       "      <td>False</td>\n",
       "      <td>82.4</td>\n",
       "      <td>1</td>\n",
       "      <td>0</td>\n",
       "    </tr>\n",
       "  </tbody>\n",
       "</table>\n",
       "</div>"
      ],
      "text/plain": [
       "   Unnamed: 0  avg_dist  avg_rating_by_driver  avg_rating_of_driver  \\\n",
       "0           0      3.67                   5.0                   4.7   \n",
       "1           1      8.26                   5.0                   5.0   \n",
       "2           2      0.77                   5.0                   4.3   \n",
       "3           3      2.36                   4.9                   4.6   \n",
       "4           4      3.13                   4.9                   4.4   \n",
       "\n",
       "   avg_surge            city last_trip_date    phone signup_date  surge_pct  \\\n",
       "0       1.10  King's Landing        6/17/14   iPhone     1/25/14       15.4   \n",
       "1       1.00         Astapor         5/5/14  Android     1/29/14        0.0   \n",
       "2       1.00         Astapor         1/7/14   iPhone      1/6/14        0.0   \n",
       "3       1.14  King's Landing        6/29/14   iPhone     1/10/14       20.0   \n",
       "4       1.19      Winterfell        3/15/14  Android     1/27/14       11.8   \n",
       "\n",
       "   trips_in_first_30_days  luxury_car_user  weekday_pct  loyalty_pgm  \\\n",
       "0                       4             True         46.2            0   \n",
       "1                       0            False         50.0            0   \n",
       "2                       3            False        100.0            1   \n",
       "3                       9             True         80.0            1   \n",
       "4                      14            False         82.4            1   \n",
       "\n",
       "   signed_up  \n",
       "0          1  \n",
       "1          0  \n",
       "2          1  \n",
       "3          0  \n",
       "4          0  "
      ]
     },
     "execution_count": 91,
     "metadata": {},
     "output_type": "execute_result"
    }
   ],
   "source": [
    "ride_hail_data.head()"
   ]
  },
  {
   "cell_type": "markdown",
   "metadata": {},
   "source": [
    "The data contains:\n",
    "\n",
    "avg_dist: The average distance (in miles) per trip taken in the first 30 days after signup<br>\n",
    "avg_rating_by_driver: The rider’s average rating over all of their trips<br>\n",
    "avg_rating_of_driver: The rider’s average rating of their drivers over all of their trips<br>\n",
    "avg_surge: The average surge multiplier over all of this user’s trips<br>\n",
    "city: City this user signed up in phone: primary device for this user<br>\n",
    "last_trip_date: The last time this user completed a trip; in the form YYYYMMDD<br>\n",
    "phone: Whether iPhone or Android phone was used to register<br>\n",
    "signup_date: Date of account registration; in the form YYYYMMDD<br>\n",
    "surge_pct: The percent of trips taken with surge multiplier > 1<br>\n",
    "trips_in_first_30_days: The number of trips this user took in the first 30 days after signing up<br>\n",
    "luxury_car_user: TRUE if the user took a luxury car in their first 30 days; FALSE otherwise<br>\n",
    "weekday_pct: The percent of the user’s trips occurring during a weekday<br>\n",
    "loyalty_pgm: Whether customers are in the Experimentation group or Control group. 1 = Experiment; 0 = Control<br>\n",
    "signed_up: Whether customers signed up for the loyalty program. 1 = Yes; 0 = No<br>"
   ]
  },
  {
   "cell_type": "code",
   "execution_count": 92,
   "metadata": {},
   "outputs": [],
   "source": [
    "#\n",
    "# Convert the loyalty_pgm and email_ltr to integer type to make it easy to compare\n",
    "#\n",
    "ride_hail_data['loyalty_pgm'] = pd.to_numeric(ride_hail_data['loyalty_pgm'], downcast='integer')\n",
    "ride_hail_data['signed_up'] = pd.to_numeric(ride_hail_data['signed_up'], downcast='integer')"
   ]
  },
  {
   "cell_type": "markdown",
   "metadata": {},
   "source": [
    "The column **loyalty_pgm** tells us if the customer is signed for the program or not. A 1 indicates they have signed up and are in the Experiment group, and a 0 means they are in Control group. The **signed_up** column tells us whether the users have signed up to the newsletter program or not."
   ]
  },
  {
   "cell_type": "code",
   "execution_count": 93,
   "metadata": {},
   "outputs": [
    {
     "name": "stdout",
     "output_type": "stream",
     "text": [
      "The number of people in the Experiment group are =  20846\n",
      "The number of people in the Control group are =  20599\n",
      "The test group sign up rate is =  0.5003837666698647\n",
      "The control group sign up rate is =  0.502694305548813\n"
     ]
    },
    {
     "data": {
      "text/plain": [
       "Ttest_indResult(statistic=-0.47036430768828963, pvalue=0.6380972352511026)"
      ]
     },
     "execution_count": 93,
     "metadata": {},
     "output_type": "execute_result"
    }
   ],
   "source": [
    "# We check the size of each group\n",
    "test_loyalty = len(ride_hail_data[ride_hail_data.loyalty_pgm == 1])\n",
    "print('The number of people in the Experiment group are = ', test_loyalty)\n",
    "#\n",
    "control_loyalty = len(ride_hail_data[ride_hail_data.loyalty_pgm == 0])\n",
    "print('The number of people in the Control group are = ', control_loyalty)\n",
    "\n",
    "# Check the signup rate of test and control groups for loyalty program\n",
    "test_loyalty_sign_up_rate = ride_hail_data[ride_hail_data.loyalty_pgm == 1].signed_up.mean()\n",
    "print('The test group sign up rate is = ', test_loyalty_sign_up_rate)\n",
    "\n",
    "control_loyalty_sign_up_rate = ride_hail_data[ride_hail_data.loyalty_pgm == 0].signed_up.mean()\n",
    "print('The control group sign up rate is = ', control_loyalty_sign_up_rate)\n",
    "\n",
    "# Are the test and control groups significantly different?\n",
    "stats.ttest_ind(ride_hail_data[ride_hail_data.loyalty_pgm == 1].signed_up,\n",
    "                ride_hail_data[ride_hail_data.loyalty_pgm == 0].signed_up)"
   ]
  },
  {
   "cell_type": "markdown",
   "metadata": {},
   "source": [
    "The two groups are almost equal if not identical. The p-value indicates that there is a very good chance that the experimental and control groups are not different."
   ]
  },
  {
   "cell_type": "code",
   "execution_count": 101,
   "metadata": {},
   "outputs": [
    {
     "data": {
      "image/png": "[encoded data removed]",
      "text/plain": [
       "<Figure size 432x288 with 1 Axes>"
      ]
     },
     "metadata": {
      "needs_background": "light"
     },
     "output_type": "display_data"
    }
   ],
   "source": [
    "fig = ride_hail_data[ride_hail_data.phone=='iPhone'][\n",
    "    ['signup_date', 'signed_up']].groupby('signup_date').mean().plot()\n",
    "ride_hail_data[ride_hail_data.phone=='Android'][\n",
    "    ['signup_date', 'signed_up']].groupby('signup_date').mean().plot(ax=fig)\n",
    "plt.legend(['iPhone','Android'])\n",
    "plt.title('Comparing Signup Rates by Phone')\n",
    "plt.show()"
   ]
  },
  {
   "cell_type": "code",
   "execution_count": 100,
   "metadata": {},
   "outputs": [
    {
     "data": {
      "image/png": "[encoded data removed]",
      "text/plain": [
       "<Figure size 432x288 with 1 Axes>"
      ]
     },
     "metadata": {
      "needs_background": "light"
     },
     "output_type": "display_data"
    }
   ],
   "source": [
    "# Plot the experiment and control groups' sign up by date\n",
    "fig = ride_hail_data[ride_hail_data.loyalty_pgm==1][\n",
    "    ['signup_date', 'signed_up']].groupby('signup_date').mean().plot()\n",
    "ride_hail_data[ride_hail_data.loyalty_pgm==0][\n",
    "    ['signup_date', 'signed_up']].groupby('signup_date').mean().plot(ax=fig)\n",
    "plt.legend(['experiment','control'])\n",
    "plt.title('Comparing Signup Rates by Phone')\n",
    "plt.show()\n",
    "\n",
    "\n",
    "# Generate a test statistic comparing test and control on treatment date\n",
    "#print('T-Test Results by Date')\n",
    "\n",
    "#for date in experiment_data.treatment_date.unique():\n",
    "#    dated_data = experiment_data[experiment_data.treatment_date == date]\n",
    "#    print(stats.ttest_ind(dated_data[dated_data.test == 1].is_signed_up,\n",
    "#                          dated_data[dated_data.test == 0].is_signed_up))"
   ]
  },
  {
   "cell_type": "markdown",
   "metadata": {},
   "source": [
    "<h2>Conclusion</h2><br>\n",
    "Though the experimental and control group are very similar the p-value indicates that there is a good probability that the samples are close to reality. Given the iPhone's popularity with the ride hailing application we can continue adding features to iPhone, and the Android apps and test market it in other cities also before launching it country-wide."
   ]
  },
  {
   "cell_type": "code",
   "execution_count": null,
   "metadata": {},
   "outputs": [],
   "source": []
  }
 ],
 "metadata": {
  "kernelspec": {
   "display_name": "Python 3",
   "language": "python",
   "name": "python3"
  },
  "language_info": {
   "codemirror_mode": {
    "name": "ipython",
    "version": 3
   },
   "file_extension": ".py",
   "mimetype": "text/x-python",
   "name": "python",
   "nbconvert_exporter": "python",
   "pygments_lexer": "ipython3",
   "version": "3.7.1"
  }
 },
 "nbformat": 4,
 "nbformat_minor": 2
}
