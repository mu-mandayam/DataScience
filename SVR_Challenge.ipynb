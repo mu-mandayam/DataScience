{
 "cells": [
  {
   "cell_type": "code",
   "execution_count": 230,
   "metadata": {},
   "outputs": [],
   "source": [
    "import numpy as np\n",
    "import pandas as pd\n",
    "import scipy\n",
    "import matplotlib.pyplot as plt\n",
    "import seaborn as sns\n",
    "%matplotlib inline"
   ]
  },
  {
   "cell_type": "code",
   "execution_count": 231,
   "metadata": {},
   "outputs": [],
   "source": [
    "raw_data = pd.read_csv('epi_r.csv')"
   ]
  },
  {
   "cell_type": "code",
   "execution_count": 232,
   "metadata": {},
   "outputs": [
    {
     "data": {
      "text/plain": [
       "count    20052.000000\n",
       "mean         3.714467\n",
       "std          1.340829\n",
       "min          0.000000\n",
       "25%          3.750000\n",
       "50%          4.375000\n",
       "75%          4.375000\n",
       "max          5.000000\n",
       "Name: rating, dtype: float64"
      ]
     },
     "execution_count": 232,
     "metadata": {},
     "output_type": "execute_result"
    }
   ],
   "source": [
    "raw_data.rating.describe()"
   ]
  },
  {
   "cell_type": "code",
   "execution_count": 233,
   "metadata": {},
   "outputs": [],
   "source": [
    "# Convert our label ('rating') from regression to a binary classifier using the mean value\n",
    "# if rating is > mean then 1 else 0\n",
    "\n",
    "rating_mean = raw_data.rating.mean()\n",
    "\n",
    "raw_data.loc[raw_data.rating >= rating_mean, 'rating'] = 1\n",
    "raw_data.loc[raw_data.rating > 1, 'rating'] = 0"
   ]
  },
  {
   "cell_type": "code",
   "execution_count": 234,
   "metadata": {},
   "outputs": [],
   "source": [
    "# Drop the title column as it is a text data and does not contribute as a feature or label\n",
    "\n",
    "raw_data.drop(['title'], axis=1, inplace=True)"
   ]
  },
  {
   "cell_type": "code",
   "execution_count": 235,
   "metadata": {},
   "outputs": [],
   "source": [
    "# Fill any NaN values to zeros\n",
    "\n",
    "raw_data.fillna(0, inplace=True)"
   ]
  },
  {
   "cell_type": "code",
   "execution_count": 236,
   "metadata": {},
   "outputs": [],
   "source": [
    "# Create our feature set and label data\n",
    "\n",
    "X = raw_data.drop(['rating'], axis=1)\n",
    "y = raw_data['rating']"
   ]
  },
  {
   "cell_type": "code",
   "execution_count": 237,
   "metadata": {},
   "outputs": [],
   "source": [
    "from sklearn.model_selection import train_test_split\n",
    "\n",
    "# test_size: The split between test and train is 80-20 approximately\n",
    "\n",
    "X_train, X_test, y_train, y_test = train_test_split(X, y, test_size=1/7.0, random_state=0)"
   ]
  },
  {
   "cell_type": "code",
   "execution_count": 238,
   "metadata": {},
   "outputs": [],
   "source": [
    "from sklearn.preprocessing import StandardScaler\n",
    "scaler = StandardScaler()\n",
    "\n",
    "# Fit on training set only.\n",
    "scaler.fit(X_train)\n",
    "\n",
    "# Apply transform to both the training set and the test set.\n",
    "X_train = scaler.transform(X_train)\n",
    "X_test = scaler.transform(X_test)"
   ]
  },
  {
   "cell_type": "code",
   "execution_count": 239,
   "metadata": {},
   "outputs": [
    {
     "name": "stdout",
     "output_type": "stream",
     "text": [
      "original shape:    (17187, 678)\n",
      "transformed shape: (17187, 30)\n"
     ]
    }
   ],
   "source": [
    "from sklearn.decomposition import PCA\n",
    "\n",
    "# Fit our scaled data into PCA with 30 components\n",
    "pca = PCA(n_components=30)\n",
    "\n",
    "pca.fit(X_train)\n",
    "X_train_pca = pca.fit_transform(X_train)\n",
    "print(\"original shape:   \", X_train.shape)\n",
    "print(\"transformed shape:\", X_train_pca.shape)"
   ]
  },
  {
   "cell_type": "code",
   "execution_count": 240,
   "metadata": {},
   "outputs": [
    {
     "name": "stdout",
     "output_type": "stream",
     "text": [
      "[[ 2.1945674  -0.42732867 -2.11578314 ...  0.66244516  0.80556531\n",
      "   0.73457622]\n",
      " [ 2.28290646 -1.41003348 -1.13286437 ...  0.48887203  0.10973098\n",
      "   0.51296266]\n",
      " [ 1.75108699 -2.328408   -0.80713441 ...  0.95167724 -0.56581652\n",
      "   1.16634764]\n",
      " ...\n",
      " [-2.67274709  4.20289909 -3.44881033 ... -0.05042623 -0.01623612\n",
      "   0.73932317]\n",
      " [-2.4497152  -1.37465641  0.34731972 ...  1.4490681   0.95062773\n",
      "   2.57781758]\n",
      " [-3.84250793 -0.98541241  1.07095482 ...  0.03764911 -0.43762063\n",
      "   0.17273934]]\n"
     ]
    }
   ],
   "source": [
    "print(X_train_pca)"
   ]
  },
  {
   "cell_type": "code",
   "execution_count": 241,
   "metadata": {},
   "outputs": [
    {
     "data": {
      "text/plain": [
       "array([0.08107704, 0.08714022, 0.05693788, 0.0493189 , 0.09550854])"
      ]
     },
     "execution_count": 241,
     "metadata": {},
     "output_type": "execute_result"
    },
    {
     "data": {
      "image/png": "[encoded data removed]",
      "text/plain": [
       "<Figure size 432x288 with 1 Axes>"
      ]
     },
     "metadata": {
      "needs_background": "light"
     },
     "output_type": "display_data"
    }
   ],
   "source": [
    "from sklearn.svm import SVR\n",
    "svr = SVR(gamma='auto')\n",
    "\n",
    "svr.fit(X_train_pca, y_train)\n",
    "\n",
    "predicted_labels = svr.predict(X_train_pca)\n",
    "plt.scatter(y_train, predicted_labels)\n",
    "\n",
    "svr.score(X_train_pca, y_train)\n",
    "\n",
    "from sklearn.model_selection import cross_val_score\n",
    "cross_val_score(svr, X_train_pca, y_train, cv=5)\n",
    "\n",
    "#pd.Series(predicted_labels).value_counts()"
   ]
  },
  {
   "cell_type": "code",
   "execution_count": 242,
   "metadata": {},
   "outputs": [
    {
     "data": {
      "text/plain": [
       "array([0.96077563, 0.9525269 , 0.90022066, ..., 0.89987177, 0.89970606,\n",
       "       0.96376503])"
      ]
     },
     "execution_count": 242,
     "metadata": {},
     "output_type": "execute_result"
    }
   ],
   "source": [
    "predicted_labels"
   ]
  },
  {
   "cell_type": "code",
   "execution_count": null,
   "metadata": {},
   "outputs": [],
   "source": []
  }
 ],
 "metadata": {
  "kernelspec": {
   "display_name": "Python 3",
   "language": "python",
   "name": "python3"
  },
  "language_info": {
   "codemirror_mode": {
    "name": "ipython",
    "version": 3
   },
   "file_extension": ".py",
   "mimetype": "text/x-python",
   "name": "python",
   "nbconvert_exporter": "python",
   "pygments_lexer": "ipython3",
   "version": "3.7.1"
  }
 },
 "nbformat": 4,
 "nbformat_minor": 2
}
