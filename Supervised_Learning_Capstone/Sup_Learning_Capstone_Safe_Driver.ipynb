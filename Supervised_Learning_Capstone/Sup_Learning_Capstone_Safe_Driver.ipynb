{
 "cells": [
  {
   "cell_type": "markdown",
   "metadata": {},
   "source": [
    "<center><h1>Safe Driver Prediction</h1></center>\n",
    "<center><h2>Capstone project by</h2></center>\n",
    "<center><h2>Murali Mandayam</h2></center>\n",
    "<center><h3>8th March 2019</h3></center>\n",
    "<center><h3>www.thinkful.com</h3></center>\n",
    "\n",
    "\n",
    "Data science has risen to prominence in the last decade due to its capabilities in predictive algorithms. While many business verticals value the benefits of predictive algorithms using Data Science, insurance companies place a lot of importance as data science and predictive algorithms helps them keeps premium low. Data is always been at the core of what insurance companies do analyzing data such as claims, what kind of a vehicle one drives, how many miles do they drive per day among other.\n",
    "<br><br>\n",
    "The data science field is gaining strength with improvements in technology, availability of statistical libraries to compute regression or classifications of data collected. Actuaries, the data scientists at insurance companies as they were called a decade ago, used to collate data from different sources and analyze the premium and claim data to identify fraudulent transactions that helped them keep the premiums low. If anything, data science technology of today has given far more tools to perform their analysis.\n",
    "<br><br>\n",
    "This Capstone project for Supervised Learning uses data from Kaggle (https://www.kaggle.com/mu202199/safe-driver-prediction). The data has a few ordinal, categorical data that needs to be parsed and categorized properly.\n",
    "<br><br>\n",
    "Our goal is to predict a binary outcome of 1, to indicate safe driver, or 0, to indicate that the drivers' data needs a review. We will also look at the continuous variables and fill in the missing data with the mean or median in order to not skew our results.\n",
    "<br><br>\n",
    "After cleaning up the data and filling in missing data we will look at the features and their correlation so that we can drop highly correlated data which may impact our results.\n",
    "<br><br>\n",
    "References:\n",
    "<br>\n",
    "1. https://www.kaggle.com/mu202199/safe-driver-prediction - for dataset\n",
    "2. https://github.com/ngbolin/PortoSeguroXGB - Kaggle project using Brazilian Insurance company data\n",
    "3. https://www.datacamp.com/community/tutorials/categorical-data - For ideas on converting categorical data to numeric<br>\n",
    "4. https://towardsdatascience.com/one-hot-encoding-is-making-your-tree-based-ensembles-worse-heres-why-d64b282b5769 -For ideas on converting categorical data to numeric<br>"
   ]
  },
  {
   "cell_type": "code",
   "execution_count": 1,
   "metadata": {},
   "outputs": [],
   "source": [
    "# Import the necessary packages of Python that we will/may use in this notebook\n",
    "# pandas and numpy for dataframe creation and manipulation\n",
    "# matplot lib for data visualization\n",
    "# sklearn for statistical algorithms and splitting the dataset to training and testing datasets\n",
    "\n",
    "# General \n",
    "import numpy as np\n",
    "import pandas as pd\n",
    "import scipy as sp\n",
    "import scipy.stats as stats\n",
    "\n",
    "# Features pre-processing and principal component analysis (pca) \n",
    "from sklearn.feature_selection import SelectKBest, f_classif\n",
    "from sklearn import preprocessing\n",
    "from sklearn.preprocessing import StandardScaler\n",
    "from sklearn.decomposition import PCA \n",
    "\n",
    "# Train-test split\n",
    "from sklearn.model_selection import train_test_split\n",
    "\n",
    "# Classifiers \n",
    "from sklearn.neighbors import KNeighborsClassifier\n",
    "from sklearn.svm import SVC\n",
    "from sklearn.linear_model import LogisticRegression\n",
    "from sklearn.ensemble import RandomForestClassifier, GradientBoostingClassifier, AdaBoostClassifier, VotingClassifier\n",
    "\n",
    "# Classifiers ensembling\n",
    "from xgboost.sklearn import XGBClassifier\n",
    "import xgboost as xgb\n",
    "from mlxtend.classifier import StackingClassifier\n",
    "\n",
    "# Classifiers evaluation metrics\n",
    "from sklearn.metrics import accuracy_score, roc_auc_score, auc, roc_curve\n",
    "from sklearn.model_selection import cross_val_score\n",
    "from sklearn.metrics import confusion_matrix\n",
    "from sklearn.metrics import classification_report\n",
    "from sklearn.metrics import matthews_corrcoef\n",
    "\n",
    "# Random resampling\n",
    "from imblearn.under_sampling import RandomUnderSampler\n",
    "from collections import Counter\n",
    "\n",
    "# Tuning hyperparameters\n",
    "from sklearn.model_selection import RandomizedSearchCV\n",
    "\n",
    "# Other\n",
    "from time import time\n",
    "from scipy.stats import ttest_ind\n",
    "\n",
    "# Ploting\n",
    "from matplotlib import pyplot as plt\n",
    "%matplotlib inline\n",
    "import seaborn as sns\n",
    "sns.set_style('white')\n",
    "from IPython.display import display\n",
    "pd.options.display.float_format = '{:.3f}'.format\n",
    "\n",
    "# Suppressing annoying harmless error\n",
    "import warnings\n",
    "warnings.filterwarnings(\n",
    "    action=\"ignore\",\n",
    "    module=\"scipy\",\n",
    "    message=\"^internal gelsd\"\n",
    ")\n",
    "warnings.simplefilter('ignore')\n",
    "\n",
    "# ROC-AUC Calculation modules\n",
    "from sklearn.datasets import make_classification\n",
    "\n",
    "from sklearn.metrics import roc_curve\n",
    "from sklearn.metrics import roc_auc_score"
   ]
  },
  {
   "cell_type": "code",
   "execution_count": 2,
   "metadata": {},
   "outputs": [],
   "source": [
    "# Read the data from the local drive\n",
    "\n",
    "safe_driver = pd.read_excel('IT_3.xlsx')"
   ]
  },
  {
   "cell_type": "code",
   "execution_count": 3,
   "metadata": {},
   "outputs": [
    {
     "data": {
      "text/plain": [
       "ID                                                                     0.000\n",
       "target                                                                 0.000\n",
       "Gender                     FFMMMFFFFFMFFFMMMFMFMMMMFFMMMFMFMMMFFMMFMMMMMM...\n",
       "EngineHP                                                               0.000\n",
       "credit_history                                                         0.000\n",
       "Years_Experience                                                       0.000\n",
       "annual_claims                                                          0.000\n",
       "Marital_Status             MarriedMarriedMarriedMarriedMarriedMarriedMarr...\n",
       "Vehicle_Type               CarCarVanVanVanTruckTruckCarCarTruckUtilityTru...\n",
       "Miles_driven_annually                                                  0.000\n",
       "size_of_family                                                         0.000\n",
       "Age_bucket                 <1828-34>4018-27>40>40>40>40>4035-40>4035-40>4...\n",
       "EngineHP_bucket            >350>35090-16090-16090-16090-16090-160<90>3509...\n",
       "Years_Experience_bucket    <315-3015-309-14'>3015-30>3015-30>3015-3015-30...\n",
       "credit_history_bucket      FairGoodGoodGoodVery GoodGoodVery GoodVery Goo...\n",
       "State                      ILNJCTCTWYDENJMECANJKSCTWVCTCTNMSCWYCTCANJCTID...\n",
       "dtype: object"
      ]
     },
     "execution_count": 3,
     "metadata": {},
     "output_type": "execute_result"
    }
   ],
   "source": [
    "# Check if the data has any negaitve values\n",
    "\n",
    "safe_driver.where(safe_driver < 0).sum()"
   ]
  },
  {
   "cell_type": "code",
   "execution_count": 4,
   "metadata": {},
   "outputs": [
    {
     "name": "stdout",
     "output_type": "stream",
     "text": [
      "<class 'pandas.core.frame.DataFrame'>\n",
      "RangeIndex: 30240 entries, 0 to 30239\n",
      "Data columns (total 17 columns):\n",
      "ID                              30240 non-null int64\n",
      "target                          30240 non-null int64\n",
      "Gender                          30240 non-null object\n",
      "EngineHP                        30240 non-null int64\n",
      "credit_history                  30240 non-null int64\n",
      "Years_Experience                30240 non-null int64\n",
      "annual_claims                   30240 non-null int64\n",
      "Marital_Status                  30240 non-null object\n",
      "Vehicle_Type                    30240 non-null object\n",
      "Miles_driven_annually           30232 non-null float64\n",
      "size_of_family                  30240 non-null int64\n",
      "Age_bucket                      30240 non-null object\n",
      "EngineHP_bucket                 30240 non-null object\n",
      "Years_Experience_bucket         30240 non-null object\n",
      "Miles_driven_annually_bucket    30232 non-null object\n",
      "credit_history_bucket           30240 non-null object\n",
      "State                           30240 non-null object\n",
      "dtypes: float64(1), int64(7), object(9)\n",
      "memory usage: 3.9+ MB\n"
     ]
    }
   ],
   "source": [
    "# Check if there are any NULL data that need to be dropped\n",
    "safe_driver.info()"
   ]
  },
  {
   "cell_type": "code",
   "execution_count": 5,
   "metadata": {},
   "outputs": [
    {
     "data": {
      "text/html": [
       "<div>\n",
       "<style scoped>\n",
       "    .dataframe tbody tr th:only-of-type {\n",
       "        vertical-align: middle;\n",
       "    }\n",
       "\n",
       "    .dataframe tbody tr th {\n",
       "        vertical-align: top;\n",
       "    }\n",
       "\n",
       "    .dataframe thead th {\n",
       "        text-align: right;\n",
       "    }\n",
       "</style>\n",
       "<table border=\"1\" class=\"dataframe\">\n",
       "  <thead>\n",
       "    <tr style=\"text-align: right;\">\n",
       "      <th></th>\n",
       "      <th>ID</th>\n",
       "      <th>target</th>\n",
       "      <th>EngineHP</th>\n",
       "      <th>credit_history</th>\n",
       "      <th>Years_Experience</th>\n",
       "      <th>annual_claims</th>\n",
       "      <th>Miles_driven_annually</th>\n",
       "      <th>size_of_family</th>\n",
       "    </tr>\n",
       "  </thead>\n",
       "  <tbody>\n",
       "    <tr>\n",
       "      <th>count</th>\n",
       "      <td>30240.000</td>\n",
       "      <td>30240.000</td>\n",
       "      <td>30240.000</td>\n",
       "      <td>30240.000</td>\n",
       "      <td>30240.000</td>\n",
       "      <td>30240.000</td>\n",
       "      <td>30232.000</td>\n",
       "      <td>30240.000</td>\n",
       "    </tr>\n",
       "    <tr>\n",
       "      <th>mean</th>\n",
       "      <td>15120.500</td>\n",
       "      <td>0.708</td>\n",
       "      <td>196.604</td>\n",
       "      <td>685.770</td>\n",
       "      <td>13.256</td>\n",
       "      <td>1.138</td>\n",
       "      <td>17422.939</td>\n",
       "      <td>4.521</td>\n",
       "    </tr>\n",
       "    <tr>\n",
       "      <th>std</th>\n",
       "      <td>8729.680</td>\n",
       "      <td>0.455</td>\n",
       "      <td>132.347</td>\n",
       "      <td>102.454</td>\n",
       "      <td>9.890</td>\n",
       "      <td>1.083</td>\n",
       "      <td>17483.783</td>\n",
       "      <td>2.287</td>\n",
       "    </tr>\n",
       "    <tr>\n",
       "      <th>min</th>\n",
       "      <td>1.000</td>\n",
       "      <td>0.000</td>\n",
       "      <td>80.000</td>\n",
       "      <td>300.000</td>\n",
       "      <td>1.000</td>\n",
       "      <td>0.000</td>\n",
       "      <td>5000.000</td>\n",
       "      <td>1.000</td>\n",
       "    </tr>\n",
       "    <tr>\n",
       "      <th>25%</th>\n",
       "      <td>7560.750</td>\n",
       "      <td>0.000</td>\n",
       "      <td>111.000</td>\n",
       "      <td>668.000</td>\n",
       "      <td>5.000</td>\n",
       "      <td>0.000</td>\n",
       "      <td>9668.500</td>\n",
       "      <td>3.000</td>\n",
       "    </tr>\n",
       "    <tr>\n",
       "      <th>50%</th>\n",
       "      <td>15120.500</td>\n",
       "      <td>1.000</td>\n",
       "      <td>141.000</td>\n",
       "      <td>705.000</td>\n",
       "      <td>10.000</td>\n",
       "      <td>1.000</td>\n",
       "      <td>12280.000</td>\n",
       "      <td>5.000</td>\n",
       "    </tr>\n",
       "    <tr>\n",
       "      <th>75%</th>\n",
       "      <td>22680.250</td>\n",
       "      <td>1.000</td>\n",
       "      <td>238.000</td>\n",
       "      <td>753.000</td>\n",
       "      <td>20.000</td>\n",
       "      <td>2.000</td>\n",
       "      <td>14697.250</td>\n",
       "      <td>7.000</td>\n",
       "    </tr>\n",
       "    <tr>\n",
       "      <th>max</th>\n",
       "      <td>30240.000</td>\n",
       "      <td>1.000</td>\n",
       "      <td>1005.000</td>\n",
       "      <td>850.000</td>\n",
       "      <td>40.000</td>\n",
       "      <td>4.000</td>\n",
       "      <td>99943.000</td>\n",
       "      <td>8.000</td>\n",
       "    </tr>\n",
       "  </tbody>\n",
       "</table>\n",
       "</div>"
      ],
      "text/plain": [
       "             ID    target  EngineHP  credit_history  Years_Experience  \\\n",
       "count 30240.000 30240.000 30240.000       30240.000         30240.000   \n",
       "mean  15120.500     0.708   196.604         685.770            13.256   \n",
       "std    8729.680     0.455   132.347         102.454             9.890   \n",
       "min       1.000     0.000    80.000         300.000             1.000   \n",
       "25%    7560.750     0.000   111.000         668.000             5.000   \n",
       "50%   15120.500     1.000   141.000         705.000            10.000   \n",
       "75%   22680.250     1.000   238.000         753.000            20.000   \n",
       "max   30240.000     1.000  1005.000         850.000            40.000   \n",
       "\n",
       "       annual_claims  Miles_driven_annually  size_of_family  \n",
       "count      30240.000              30232.000       30240.000  \n",
       "mean           1.138              17422.939           4.521  \n",
       "std            1.083              17483.783           2.287  \n",
       "min            0.000               5000.000           1.000  \n",
       "25%            0.000               9668.500           3.000  \n",
       "50%            1.000              12280.000           5.000  \n",
       "75%            2.000              14697.250           7.000  \n",
       "max            4.000              99943.000           8.000  "
      ]
     },
     "execution_count": 5,
     "metadata": {},
     "output_type": "execute_result"
    }
   ],
   "source": [
    "safe_driver.describe()"
   ]
  },
  {
   "cell_type": "code",
   "execution_count": 6,
   "metadata": {},
   "outputs": [
    {
     "name": "stdout",
     "output_type": "stream",
     "text": [
      "True Claims is  21396\n",
      "Total number of records is 30240\n",
      "The percentage of true claims is 71.0%\n"
     ]
    }
   ],
   "source": [
    "# Check and see if we have an imbalanced class label in the dataset\n",
    "# Calculate the percentage of success data ('target' == 1) with respect to the failure data ('target' == 0)\n",
    "\n",
    "true_claims = (safe_driver['target'] == 1).sum()\n",
    "print('True Claims is  {}'.format(true_claims))\n",
    "\n",
    "total_records = len(safe_driver['target'])\n",
    "print('Total number of records is {}'.format(total_records))\n",
    "\n",
    "print('The percentage of true claims is {}%'.format(round(true_claims / total_records * 100), 2))"
   ]
  },
  {
   "cell_type": "markdown",
   "metadata": {},
   "source": [
    "Our dataset is indeed imbalanced. We will balance it later using SMOTE technique."
   ]
  },
  {
   "cell_type": "markdown",
   "metadata": {},
   "source": [
    "The dataset contains several categorical data that ends with `_bucket` that need to be either dropped or converted to numerical values using dummies. All features that are of type object are categorical variables that needs to either:<br>\n",
    "<br>\n",
    "a. Converted to numeric using dummies<br>\n",
    "b. Dropped or<br>\n",
    "c. Assigned a binary value<br>"
   ]
  },
  {
   "cell_type": "code",
   "execution_count": 7,
   "metadata": {},
   "outputs": [
    {
     "name": "stdout",
     "output_type": "stream",
     "text": [
      "Index(['Gender', 'Marital_Status', 'Vehicle_Type', 'Age_bucket',\n",
      "       'EngineHP_bucket', 'Years_Experience_bucket',\n",
      "       'Miles_driven_annually_bucket', 'credit_history_bucket', 'State'],\n",
      "      dtype='object')\n"
     ]
    }
   ],
   "source": [
    "cat_features = safe_driver.select_dtypes(include=['object']).copy()\n",
    "print(cat_features.columns)"
   ]
  },
  {
   "cell_type": "markdown",
   "metadata": {},
   "source": [
    "Among the categorical variables we retain the following:<br>\n",
    "<br>\n",
    "1. Gender<br>\n",
    "2. Marital_Status<br>\n",
    "3. Vehicle_Type, and<br>\n",
    "4. Age_bucket<br>\n",
    "<br>\n",
    "EngineHP_bucket, Years_Experience_bucket, Miles_driven_annually_bucket, credit_history_bucket have a corresponding continuous variable. Creating each with their own dummies along with the continuous variable does not make sense. We will keep the Age_bucket as there is no continuous variable to represent age.<br>\n",
    "<br>\n",
    "We can split the dataset by State (one sub-dataset for each state) and analyze each state by itself. As each US state has its own regulations it may make sense to analyze each state by itself. We could aggregate our results across states later to get a national statistic.<br>\n",
    "<br>\n",
    "Or, for now, we could drop the State column and analyze the data across the nation later."
   ]
  },
  {
   "cell_type": "code",
   "execution_count": 8,
   "metadata": {},
   "outputs": [],
   "source": [
    "# Drop these 5 columns: ID, EngineHP_bucket, Years_Experience_bucket, Miles_driven_annually_bucket, credit_history_bucket\n",
    "\n",
    "safe_driver.drop(['ID', 'EngineHP_bucket', 'Years_Experience_bucket', \n",
    "                  'Miles_driven_annually_bucket', \n",
    "                  'credit_history_bucket'], axis=1, inplace=True)"
   ]
  },
  {
   "cell_type": "code",
   "execution_count": 9,
   "metadata": {},
   "outputs": [
    {
     "data": {
      "text/plain": [
       "target                   0\n",
       "Gender                   0\n",
       "EngineHP                 0\n",
       "credit_history           0\n",
       "Years_Experience         0\n",
       "annual_claims            0\n",
       "Marital_Status           0\n",
       "Vehicle_Type             0\n",
       "Miles_driven_annually    8\n",
       "size_of_family           0\n",
       "Age_bucket               0\n",
       "State                    0\n",
       "dtype: int64"
      ]
     },
     "execution_count": 9,
     "metadata": {},
     "output_type": "execute_result"
    }
   ],
   "source": [
    "# Check if the dataset has any NaN values as these values will make our algorithms throw an exception\n",
    "\n",
    "safe_driver.isnull().sum()"
   ]
  },
  {
   "cell_type": "markdown",
   "metadata": {},
   "source": [
    "The Miles_driven_annually feature has some null values. Let us explore which particular cells have NaN and ingest them with the median data."
   ]
  },
  {
   "cell_type": "code",
   "execution_count": 10,
   "metadata": {},
   "outputs": [
    {
     "data": {
      "text/html": [
       "<div>\n",
       "<style scoped>\n",
       "    .dataframe tbody tr th:only-of-type {\n",
       "        vertical-align: middle;\n",
       "    }\n",
       "\n",
       "    .dataframe tbody tr th {\n",
       "        vertical-align: top;\n",
       "    }\n",
       "\n",
       "    .dataframe thead th {\n",
       "        text-align: right;\n",
       "    }\n",
       "</style>\n",
       "<table border=\"1\" class=\"dataframe\">\n",
       "  <thead>\n",
       "    <tr style=\"text-align: right;\">\n",
       "      <th></th>\n",
       "      <th>target</th>\n",
       "      <th>Gender</th>\n",
       "      <th>EngineHP</th>\n",
       "      <th>credit_history</th>\n",
       "      <th>Years_Experience</th>\n",
       "      <th>annual_claims</th>\n",
       "      <th>Marital_Status</th>\n",
       "      <th>Vehicle_Type</th>\n",
       "      <th>Miles_driven_annually</th>\n",
       "      <th>size_of_family</th>\n",
       "      <th>Age_bucket</th>\n",
       "      <th>State</th>\n",
       "    </tr>\n",
       "  </thead>\n",
       "  <tbody>\n",
       "    <tr>\n",
       "      <th>1235</th>\n",
       "      <td>1</td>\n",
       "      <td>F</td>\n",
       "      <td>124</td>\n",
       "      <td>793</td>\n",
       "      <td>27</td>\n",
       "      <td>0</td>\n",
       "      <td>Married</td>\n",
       "      <td>Truck</td>\n",
       "      <td>nan</td>\n",
       "      <td>3</td>\n",
       "      <td>&gt;40</td>\n",
       "      <td>NJ</td>\n",
       "    </tr>\n",
       "    <tr>\n",
       "      <th>7365</th>\n",
       "      <td>0</td>\n",
       "      <td>F</td>\n",
       "      <td>465</td>\n",
       "      <td>696</td>\n",
       "      <td>5</td>\n",
       "      <td>0</td>\n",
       "      <td>Married</td>\n",
       "      <td>Truck</td>\n",
       "      <td>nan</td>\n",
       "      <td>8</td>\n",
       "      <td>18-27</td>\n",
       "      <td>SD</td>\n",
       "    </tr>\n",
       "    <tr>\n",
       "      <th>11464</th>\n",
       "      <td>1</td>\n",
       "      <td>F</td>\n",
       "      <td>137</td>\n",
       "      <td>787</td>\n",
       "      <td>18</td>\n",
       "      <td>1</td>\n",
       "      <td>Married</td>\n",
       "      <td>Truck</td>\n",
       "      <td>nan</td>\n",
       "      <td>1</td>\n",
       "      <td>&gt;40</td>\n",
       "      <td>CT</td>\n",
       "    </tr>\n",
       "    <tr>\n",
       "      <th>18158</th>\n",
       "      <td>0</td>\n",
       "      <td>F</td>\n",
       "      <td>108</td>\n",
       "      <td>747</td>\n",
       "      <td>8</td>\n",
       "      <td>1</td>\n",
       "      <td>Married</td>\n",
       "      <td>Truck</td>\n",
       "      <td>nan</td>\n",
       "      <td>1</td>\n",
       "      <td>18-27</td>\n",
       "      <td>OR</td>\n",
       "    </tr>\n",
       "    <tr>\n",
       "      <th>19795</th>\n",
       "      <td>1</td>\n",
       "      <td>F</td>\n",
       "      <td>121</td>\n",
       "      <td>774</td>\n",
       "      <td>19</td>\n",
       "      <td>0</td>\n",
       "      <td>Married</td>\n",
       "      <td>Truck</td>\n",
       "      <td>nan</td>\n",
       "      <td>2</td>\n",
       "      <td>28-34</td>\n",
       "      <td>NY</td>\n",
       "    </tr>\n",
       "    <tr>\n",
       "      <th>25731</th>\n",
       "      <td>1</td>\n",
       "      <td>F</td>\n",
       "      <td>355</td>\n",
       "      <td>694</td>\n",
       "      <td>15</td>\n",
       "      <td>1</td>\n",
       "      <td>Married</td>\n",
       "      <td>Truck</td>\n",
       "      <td>nan</td>\n",
       "      <td>5</td>\n",
       "      <td>28-34</td>\n",
       "      <td>CT</td>\n",
       "    </tr>\n",
       "    <tr>\n",
       "      <th>26512</th>\n",
       "      <td>1</td>\n",
       "      <td>F</td>\n",
       "      <td>109</td>\n",
       "      <td>743</td>\n",
       "      <td>40</td>\n",
       "      <td>0</td>\n",
       "      <td>Married</td>\n",
       "      <td>Truck</td>\n",
       "      <td>nan</td>\n",
       "      <td>1</td>\n",
       "      <td>&gt;40</td>\n",
       "      <td>OR</td>\n",
       "    </tr>\n",
       "    <tr>\n",
       "      <th>27045</th>\n",
       "      <td>1</td>\n",
       "      <td>F</td>\n",
       "      <td>83</td>\n",
       "      <td>784</td>\n",
       "      <td>21</td>\n",
       "      <td>0</td>\n",
       "      <td>Married</td>\n",
       "      <td>Truck</td>\n",
       "      <td>nan</td>\n",
       "      <td>1</td>\n",
       "      <td>&gt;40</td>\n",
       "      <td>CT</td>\n",
       "    </tr>\n",
       "  </tbody>\n",
       "</table>\n",
       "</div>"
      ],
      "text/plain": [
       "       target Gender  EngineHP  credit_history  Years_Experience  \\\n",
       "1235        1      F       124             793                27   \n",
       "7365        0      F       465             696                 5   \n",
       "11464       1      F       137             787                18   \n",
       "18158       0      F       108             747                 8   \n",
       "19795       1      F       121             774                19   \n",
       "25731       1      F       355             694                15   \n",
       "26512       1      F       109             743                40   \n",
       "27045       1      F        83             784                21   \n",
       "\n",
       "       annual_claims Marital_Status Vehicle_Type  Miles_driven_annually  \\\n",
       "1235               0        Married        Truck                    nan   \n",
       "7365               0        Married        Truck                    nan   \n",
       "11464              1        Married        Truck                    nan   \n",
       "18158              1        Married        Truck                    nan   \n",
       "19795              0        Married        Truck                    nan   \n",
       "25731              1        Married        Truck                    nan   \n",
       "26512              0        Married        Truck                    nan   \n",
       "27045              0        Married        Truck                    nan   \n",
       "\n",
       "       size_of_family Age_bucket State  \n",
       "1235                3        >40    NJ  \n",
       "7365                8      18-27    SD  \n",
       "11464               1        >40    CT  \n",
       "18158               1      18-27    OR  \n",
       "19795               2      28-34    NY  \n",
       "25731               5      28-34    CT  \n",
       "26512               1        >40    OR  \n",
       "27045               1        >40    CT  "
      ]
     },
     "execution_count": 10,
     "metadata": {},
     "output_type": "execute_result"
    }
   ],
   "source": [
    "safe_driver[safe_driver.isnull().any(axis=1)]"
   ]
  },
  {
   "cell_type": "markdown",
   "metadata": {},
   "source": [
    "It may make sense to ingest the median of  `Vehicle_Type=='Truck'` as all the NaN values are for Truck only. Let us look at the median of Miles_driven_annually by each vehicle type. "
   ]
  },
  {
   "cell_type": "code",
   "execution_count": 11,
   "metadata": {},
   "outputs": [
    {
     "data": {
      "text/html": [
       "<div>\n",
       "<style scoped>\n",
       "    .dataframe tbody tr th:only-of-type {\n",
       "        vertical-align: middle;\n",
       "    }\n",
       "\n",
       "    .dataframe tbody tr th {\n",
       "        vertical-align: top;\n",
       "    }\n",
       "\n",
       "    .dataframe thead th {\n",
       "        text-align: right;\n",
       "    }\n",
       "</style>\n",
       "<table border=\"1\" class=\"dataframe\">\n",
       "  <thead>\n",
       "    <tr style=\"text-align: right;\">\n",
       "      <th></th>\n",
       "      <th>target</th>\n",
       "      <th>EngineHP</th>\n",
       "      <th>credit_history</th>\n",
       "      <th>Years_Experience</th>\n",
       "      <th>annual_claims</th>\n",
       "      <th>Miles_driven_annually</th>\n",
       "      <th>size_of_family</th>\n",
       "    </tr>\n",
       "    <tr>\n",
       "      <th>Vehicle_Type</th>\n",
       "      <th></th>\n",
       "      <th></th>\n",
       "      <th></th>\n",
       "      <th></th>\n",
       "      <th></th>\n",
       "      <th></th>\n",
       "      <th></th>\n",
       "    </tr>\n",
       "  </thead>\n",
       "  <tbody>\n",
       "    <tr>\n",
       "      <th>Car</th>\n",
       "      <td>1</td>\n",
       "      <td>148</td>\n",
       "      <td>695</td>\n",
       "      <td>7</td>\n",
       "      <td>1</td>\n",
       "      <td>13147.500</td>\n",
       "      <td>4</td>\n",
       "    </tr>\n",
       "    <tr>\n",
       "      <th>Truck</th>\n",
       "      <td>1</td>\n",
       "      <td>150</td>\n",
       "      <td>694</td>\n",
       "      <td>8</td>\n",
       "      <td>1</td>\n",
       "      <td>12370.500</td>\n",
       "      <td>5</td>\n",
       "    </tr>\n",
       "    <tr>\n",
       "      <th>Utility</th>\n",
       "      <td>1</td>\n",
       "      <td>132</td>\n",
       "      <td>741</td>\n",
       "      <td>14</td>\n",
       "      <td>1</td>\n",
       "      <td>11117.000</td>\n",
       "      <td>5</td>\n",
       "    </tr>\n",
       "    <tr>\n",
       "      <th>Van</th>\n",
       "      <td>1</td>\n",
       "      <td>128</td>\n",
       "      <td>721</td>\n",
       "      <td>15</td>\n",
       "      <td>1</td>\n",
       "      <td>11272.000</td>\n",
       "      <td>5</td>\n",
       "    </tr>\n",
       "  </tbody>\n",
       "</table>\n",
       "</div>"
      ],
      "text/plain": [
       "              target  EngineHP  credit_history  Years_Experience  \\\n",
       "Vehicle_Type                                                       \n",
       "Car                1       148             695                 7   \n",
       "Truck              1       150             694                 8   \n",
       "Utility            1       132             741                14   \n",
       "Van                1       128             721                15   \n",
       "\n",
       "              annual_claims  Miles_driven_annually  size_of_family  \n",
       "Vehicle_Type                                                        \n",
       "Car                       1              13147.500               4  \n",
       "Truck                     1              12370.500               5  \n",
       "Utility                   1              11117.000               5  \n",
       "Van                       1              11272.000               5  "
      ]
     },
     "execution_count": 11,
     "metadata": {},
     "output_type": "execute_result"
    }
   ],
   "source": [
    "median_values = safe_driver.groupby('Vehicle_Type').median()\n",
    "median_values"
   ]
  },
  {
   "cell_type": "code",
   "execution_count": 12,
   "metadata": {},
   "outputs": [],
   "source": [
    "# Replace NaN values in Miles_driven_annually with the median value for Truck\n",
    "# There may be better ways to impute missing data. But we have just 8 NaN cells out of some 30,000+ rows which is\n",
    "# less than 0.03%\n",
    "# So, imputing with median for all the 8 cells is not going to skew our results.\n",
    "\n",
    "safe_driver.fillna(median_values.loc[ 'Truck', 'Miles_driven_annually'], inplace=True)"
   ]
  },
  {
   "cell_type": "code",
   "execution_count": 13,
   "metadata": {},
   "outputs": [
    {
     "data": {
      "text/html": [
       "<div>\n",
       "<style scoped>\n",
       "    .dataframe tbody tr th:only-of-type {\n",
       "        vertical-align: middle;\n",
       "    }\n",
       "\n",
       "    .dataframe tbody tr th {\n",
       "        vertical-align: top;\n",
       "    }\n",
       "\n",
       "    .dataframe thead th {\n",
       "        text-align: right;\n",
       "    }\n",
       "</style>\n",
       "<table border=\"1\" class=\"dataframe\">\n",
       "  <thead>\n",
       "    <tr style=\"text-align: right;\">\n",
       "      <th></th>\n",
       "      <th>target</th>\n",
       "      <th>Gender</th>\n",
       "      <th>EngineHP</th>\n",
       "      <th>credit_history</th>\n",
       "      <th>Years_Experience</th>\n",
       "      <th>annual_claims</th>\n",
       "      <th>Marital_Status</th>\n",
       "      <th>Vehicle_Type</th>\n",
       "      <th>Miles_driven_annually</th>\n",
       "      <th>size_of_family</th>\n",
       "      <th>Age_bucket</th>\n",
       "      <th>State</th>\n",
       "    </tr>\n",
       "  </thead>\n",
       "  <tbody>\n",
       "  </tbody>\n",
       "</table>\n",
       "</div>"
      ],
      "text/plain": [
       "Empty DataFrame\n",
       "Columns: [target, Gender, EngineHP, credit_history, Years_Experience, annual_claims, Marital_Status, Vehicle_Type, Miles_driven_annually, size_of_family, Age_bucket, State]\n",
       "Index: []"
      ]
     },
     "execution_count": 13,
     "metadata": {},
     "output_type": "execute_result"
    }
   ],
   "source": [
    "# Check for null values again to make sure we did not miss any accidentally\n",
    "\n",
    "safe_driver[safe_driver.isnull().any(axis=1)]"
   ]
  },
  {
   "cell_type": "code",
   "execution_count": 14,
   "metadata": {},
   "outputs": [
    {
     "name": "stdout",
     "output_type": "stream",
     "text": [
      "<class 'pandas.core.frame.DataFrame'>\n",
      "RangeIndex: 30240 entries, 0 to 30239\n",
      "Data columns (total 12 columns):\n",
      "target                   30240 non-null int64\n",
      "Gender                   30240 non-null object\n",
      "EngineHP                 30240 non-null int64\n",
      "credit_history           30240 non-null int64\n",
      "Years_Experience         30240 non-null int64\n",
      "annual_claims            30240 non-null int64\n",
      "Marital_Status           30240 non-null object\n",
      "Vehicle_Type             30240 non-null object\n",
      "Miles_driven_annually    30240 non-null float64\n",
      "size_of_family           30240 non-null int64\n",
      "Age_bucket               30240 non-null object\n",
      "State                    30240 non-null object\n",
      "dtypes: float64(1), int64(6), object(5)\n",
      "memory usage: 2.8+ MB\n"
     ]
    }
   ],
   "source": [
    "# Check the data types of all remaining features\n",
    "\n",
    "safe_driver.info()"
   ]
  },
  {
   "cell_type": "markdown",
   "metadata": {},
   "source": [
    "Looking at the feature values above, the range of values of each vary a lot. For example `'Miles_driven_annually'` is in the 10s of thousands, whereas 'credit_history' is in the 100s and 'annual-claims' is in single digit. Due to the varying magnitudes of the feature values we will scale the features with Z-scores using `sklearn.preprocessing.scale`.<br>\n",
    "<br>"
   ]
  },
  {
   "cell_type": "code",
   "execution_count": 15,
   "metadata": {},
   "outputs": [],
   "source": [
    "# To standardize the numeric features we need to isolate them first into a separate dataframe\n",
    "\n",
    "safe_driver_num_features = safe_driver.drop(safe_driver.select_dtypes(['object']), axis=1)\n",
    "\n",
    "# Do not standardize 'target' which is our label\n",
    "\n",
    "safe_driver_num_features.drop(['target'], axis=1, inplace=True)\n",
    "\n",
    "safe_driver_cat_features = safe_driver.select_dtypes(['object'])"
   ]
  },
  {
   "cell_type": "code",
   "execution_count": 16,
   "metadata": {},
   "outputs": [
    {
     "data": {
      "text/html": [
       "<div>\n",
       "<style scoped>\n",
       "    .dataframe tbody tr th:only-of-type {\n",
       "        vertical-align: middle;\n",
       "    }\n",
       "\n",
       "    .dataframe tbody tr th {\n",
       "        vertical-align: top;\n",
       "    }\n",
       "\n",
       "    .dataframe thead th {\n",
       "        text-align: right;\n",
       "    }\n",
       "</style>\n",
       "<table border=\"1\" class=\"dataframe\">\n",
       "  <thead>\n",
       "    <tr style=\"text-align: right;\">\n",
       "      <th></th>\n",
       "      <th>EngineHP</th>\n",
       "      <th>credit_history</th>\n",
       "      <th>Years_Experience</th>\n",
       "      <th>annual_claims</th>\n",
       "      <th>Miles_driven_annually</th>\n",
       "      <th>size_of_family</th>\n",
       "    </tr>\n",
       "  </thead>\n",
       "  <tbody>\n",
       "  </tbody>\n",
       "</table>\n",
       "</div>"
      ],
      "text/plain": [
       "Empty DataFrame\n",
       "Columns: [EngineHP, credit_history, Years_Experience, annual_claims, Miles_driven_annually, size_of_family]\n",
       "Index: []"
      ]
     },
     "execution_count": 16,
     "metadata": {},
     "output_type": "execute_result"
    }
   ],
   "source": [
    "# Check if there are any NaN values one more time\n",
    "\n",
    "safe_driver_num_features[safe_driver_num_features.isnull().any(axis=1)]"
   ]
  },
  {
   "cell_type": "code",
   "execution_count": 17,
   "metadata": {},
   "outputs": [],
   "source": [
    "from sklearn import preprocessing\n",
    "\n",
    "# Restore the column names from the original dataset\n",
    "\n",
    "safe_driver_scaled = pd.DataFrame(preprocessing.scale(safe_driver_num_features), \n",
    "                                  columns=safe_driver_num_features.columns)\n",
    "\n",
    "# We now have the scaled feature set. Now we need to concatenate the categorical features back with our scaled\n",
    "# dataset before running OneHotEncoder or dummies."
   ]
  },
  {
   "cell_type": "code",
   "execution_count": 18,
   "metadata": {},
   "outputs": [],
   "source": [
    "# We will concatenate the scaled dataframe with the categorical feature set\n",
    "\n",
    "safe_driver = pd.concat([safe_driver_scaled, safe_driver['target'], safe_driver_cat_features], axis=1)\n",
    "\n",
    "# We will add the 'target' label back to the scaled dataframe as we may need it later\n",
    "safe_driver_scaled = pd.concat([safe_driver_scaled, safe_driver['target']], axis=1)"
   ]
  },
  {
   "cell_type": "code",
   "execution_count": 19,
   "metadata": {},
   "outputs": [
    {
     "data": {
      "text/html": [
       "<div>\n",
       "<style scoped>\n",
       "    .dataframe tbody tr th:only-of-type {\n",
       "        vertical-align: middle;\n",
       "    }\n",
       "\n",
       "    .dataframe tbody tr th {\n",
       "        vertical-align: top;\n",
       "    }\n",
       "\n",
       "    .dataframe thead th {\n",
       "        text-align: right;\n",
       "    }\n",
       "</style>\n",
       "<table border=\"1\" class=\"dataframe\">\n",
       "  <thead>\n",
       "    <tr style=\"text-align: right;\">\n",
       "      <th></th>\n",
       "      <th>EngineHP</th>\n",
       "      <th>credit_history</th>\n",
       "      <th>Years_Experience</th>\n",
       "      <th>annual_claims</th>\n",
       "      <th>Miles_driven_annually</th>\n",
       "      <th>size_of_family</th>\n",
       "      <th>target</th>\n",
       "      <th>Gender</th>\n",
       "      <th>Marital_Status</th>\n",
       "      <th>Vehicle_Type</th>\n",
       "      <th>Age_bucket</th>\n",
       "      <th>State</th>\n",
       "    </tr>\n",
       "  </thead>\n",
       "  <tbody>\n",
       "    <tr>\n",
       "      <th>0</th>\n",
       "      <td>2.459</td>\n",
       "      <td>-0.291</td>\n",
       "      <td>-1.239</td>\n",
       "      <td>-1.051</td>\n",
       "      <td>-0.153</td>\n",
       "      <td>0.209</td>\n",
       "      <td>1</td>\n",
       "      <td>F</td>\n",
       "      <td>Married</td>\n",
       "      <td>Car</td>\n",
       "      <td>&lt;18</td>\n",
       "      <td>IL</td>\n",
       "    </tr>\n",
       "    <tr>\n",
       "      <th>1</th>\n",
       "      <td>3.736</td>\n",
       "      <td>0.178</td>\n",
       "      <td>0.277</td>\n",
       "      <td>-1.051</td>\n",
       "      <td>-0.116</td>\n",
       "      <td>0.647</td>\n",
       "      <td>1</td>\n",
       "      <td>F</td>\n",
       "      <td>Married</td>\n",
       "      <td>Car</td>\n",
       "      <td>28-34</td>\n",
       "      <td>NJ</td>\n",
       "    </tr>\n",
       "    <tr>\n",
       "      <th>2</th>\n",
       "      <td>-0.481</td>\n",
       "      <td>0.051</td>\n",
       "      <td>0.176</td>\n",
       "      <td>-1.051</td>\n",
       "      <td>-0.427</td>\n",
       "      <td>-0.665</td>\n",
       "      <td>1</td>\n",
       "      <td>M</td>\n",
       "      <td>Married</td>\n",
       "      <td>Van</td>\n",
       "      <td>&gt;40</td>\n",
       "      <td>CT</td>\n",
       "    </tr>\n",
       "    <tr>\n",
       "      <th>3</th>\n",
       "      <td>-0.382</td>\n",
       "      <td>0.334</td>\n",
       "      <td>-0.430</td>\n",
       "      <td>-1.051</td>\n",
       "      <td>3.427</td>\n",
       "      <td>-0.665</td>\n",
       "      <td>1</td>\n",
       "      <td>M</td>\n",
       "      <td>Married</td>\n",
       "      <td>Van</td>\n",
       "      <td>18-27</td>\n",
       "      <td>CT</td>\n",
       "    </tr>\n",
       "    <tr>\n",
       "      <th>4</th>\n",
       "      <td>-0.518</td>\n",
       "      <td>0.832</td>\n",
       "      <td>1.996</td>\n",
       "      <td>-0.128</td>\n",
       "      <td>-0.185</td>\n",
       "      <td>-0.228</td>\n",
       "      <td>1</td>\n",
       "      <td>M</td>\n",
       "      <td>Married</td>\n",
       "      <td>Van</td>\n",
       "      <td>&gt;40</td>\n",
       "      <td>WY</td>\n",
       "    </tr>\n",
       "    <tr>\n",
       "      <th>5</th>\n",
       "      <td>-0.397</td>\n",
       "      <td>0.354</td>\n",
       "      <td>0.480</td>\n",
       "      <td>-0.128</td>\n",
       "      <td>-0.298</td>\n",
       "      <td>1.521</td>\n",
       "      <td>1</td>\n",
       "      <td>F</td>\n",
       "      <td>Married</td>\n",
       "      <td>Truck</td>\n",
       "      <td>&gt;40</td>\n",
       "      <td>DE</td>\n",
       "    </tr>\n",
       "    <tr>\n",
       "      <th>6</th>\n",
       "      <td>-0.345</td>\n",
       "      <td>0.998</td>\n",
       "      <td>1.794</td>\n",
       "      <td>1.719</td>\n",
       "      <td>-0.198</td>\n",
       "      <td>-1.103</td>\n",
       "      <td>1</td>\n",
       "      <td>F</td>\n",
       "      <td>Married</td>\n",
       "      <td>Truck</td>\n",
       "      <td>&gt;40</td>\n",
       "      <td>NJ</td>\n",
       "    </tr>\n",
       "    <tr>\n",
       "      <th>7</th>\n",
       "      <td>-0.821</td>\n",
       "      <td>0.598</td>\n",
       "      <td>0.783</td>\n",
       "      <td>-0.128</td>\n",
       "      <td>-0.184</td>\n",
       "      <td>0.209</td>\n",
       "      <td>1</td>\n",
       "      <td>F</td>\n",
       "      <td>Single</td>\n",
       "      <td>Car</td>\n",
       "      <td>&gt;40</td>\n",
       "      <td>ME</td>\n",
       "    </tr>\n",
       "    <tr>\n",
       "      <th>8</th>\n",
       "      <td>3.449</td>\n",
       "      <td>0.305</td>\n",
       "      <td>2.097</td>\n",
       "      <td>-1.051</td>\n",
       "      <td>-0.019</td>\n",
       "      <td>-1.540</td>\n",
       "      <td>1</td>\n",
       "      <td>F</td>\n",
       "      <td>Married</td>\n",
       "      <td>Car</td>\n",
       "      <td>&gt;40</td>\n",
       "      <td>CA</td>\n",
       "    </tr>\n",
       "    <tr>\n",
       "      <th>9</th>\n",
       "      <td>-0.579</td>\n",
       "      <td>0.969</td>\n",
       "      <td>0.581</td>\n",
       "      <td>-0.128</td>\n",
       "      <td>-0.648</td>\n",
       "      <td>-1.540</td>\n",
       "      <td>0</td>\n",
       "      <td>F</td>\n",
       "      <td>Married</td>\n",
       "      <td>Truck</td>\n",
       "      <td>35-40</td>\n",
       "      <td>NJ</td>\n",
       "    </tr>\n",
       "  </tbody>\n",
       "</table>\n",
       "</div>"
      ],
      "text/plain": [
       "   EngineHP  credit_history  Years_Experience  annual_claims  \\\n",
       "0     2.459          -0.291            -1.239         -1.051   \n",
       "1     3.736           0.178             0.277         -1.051   \n",
       "2    -0.481           0.051             0.176         -1.051   \n",
       "3    -0.382           0.334            -0.430         -1.051   \n",
       "4    -0.518           0.832             1.996         -0.128   \n",
       "5    -0.397           0.354             0.480         -0.128   \n",
       "6    -0.345           0.998             1.794          1.719   \n",
       "7    -0.821           0.598             0.783         -0.128   \n",
       "8     3.449           0.305             2.097         -1.051   \n",
       "9    -0.579           0.969             0.581         -0.128   \n",
       "\n",
       "   Miles_driven_annually  size_of_family  target Gender Marital_Status  \\\n",
       "0                 -0.153           0.209       1      F        Married   \n",
       "1                 -0.116           0.647       1      F        Married   \n",
       "2                 -0.427          -0.665       1      M        Married   \n",
       "3                  3.427          -0.665       1      M        Married   \n",
       "4                 -0.185          -0.228       1      M        Married   \n",
       "5                 -0.298           1.521       1      F        Married   \n",
       "6                 -0.198          -1.103       1      F        Married   \n",
       "7                 -0.184           0.209       1      F         Single   \n",
       "8                 -0.019          -1.540       1      F        Married   \n",
       "9                 -0.648          -1.540       0      F        Married   \n",
       "\n",
       "  Vehicle_Type Age_bucket State  \n",
       "0          Car        <18    IL  \n",
       "1          Car      28-34    NJ  \n",
       "2          Van        >40    CT  \n",
       "3          Van      18-27    CT  \n",
       "4          Van        >40    WY  \n",
       "5        Truck        >40    DE  \n",
       "6        Truck        >40    NJ  \n",
       "7          Car        >40    ME  \n",
       "8          Car        >40    CA  \n",
       "9        Truck      35-40    NJ  "
      ]
     },
     "execution_count": 19,
     "metadata": {},
     "output_type": "execute_result"
    }
   ],
   "source": [
    "safe_driver.head(10)"
   ]
  },
  {
   "cell_type": "markdown",
   "metadata": {},
   "source": [
    "Let us use data visualization techniques to find the distribution of the features and also the correlation between different features. We could, may be, drop one or two more features based on distribution or correlation making our dataset cleaner."
   ]
  },
  {
   "cell_type": "code",
   "execution_count": 20,
   "metadata": {},
   "outputs": [
    {
     "data": {
      "image/png": "[encoded data removed]",
      "text/plain": [
       "<Figure size 1080x1080 with 42 Axes>"
      ]
     },
     "metadata": {
      "needs_background": "light"
     },
     "output_type": "display_data"
    }
   ],
   "source": [
    "# Create a scatterplot matrix that shows all the bivariate relationships in one plot made up of subplots.\n",
    "# Let us drop the 'target' variable\n",
    "\n",
    "safe_driver_copy = safe_driver.drop(['target'], axis=1)\n",
    "\n",
    "# Plot with the remaining feature set\n",
    "\n",
    "g = sns.PairGrid(safe_driver_copy.dropna(), diag_sharey=False, hue='Vehicle_Type')\n",
    "# As in the Unit 2 lesson example, create a Scatterplot in the top-right diagonal\n",
    "g.map_upper(plt.scatter, alpha=.5)\n",
    "# Linear relationship of two variables in the bottom-left diagonal\n",
    "g.map_lower(sns.regplot, scatter_kws=dict(alpha=0))\n",
    "# And...univariate distributions of the variables across the diagonal\n",
    "g.map_diag(sns.kdeplot, lw=3)\n",
    "plt.legend()\n",
    "plt.show()\n",
    "\n",
    "# The legend appears at the bottom-right plot\n"
   ]
  },
  {
   "cell_type": "markdown",
   "metadata": {},
   "source": [
    "Our next step is to output a correlation heatmap that can tell us correlation coefficient of the features. If two variables are highly corrrelated our results could be incorrect or skewed.<br>\n",
    "<br>\n",
    "First we have to isolate the continuous variables in a dataframe before invoking the heatmap.<br>\n",
    "<br>\n",
    "Let us create the heatmap."
   ]
  },
  {
   "cell_type": "code",
   "execution_count": 21,
   "metadata": {},
   "outputs": [
    {
     "data": {
      "text/plain": [
       "[]"
      ]
     },
     "execution_count": 21,
     "metadata": {},
     "output_type": "execute_result"
    },
    {
     "data": {
      "image/png": "[encoded data removed]",
      "text/plain": [
       "<Figure size 1440x1440 with 2 Axes>"
      ]
     },
     "metadata": {},
     "output_type": "display_data"
    }
   ],
   "source": [
    "sns.set_style('white')\n",
    "color_map = sns.diverging_palette(220, 10, as_cmap=True)\n",
    "\n",
    "plt.figure(figsize=(20, 20))\n",
    "sns.heatmap(safe_driver_num_features.corr(), annot = True, cmap = color_map)\n",
    "plt.plot()"
   ]
  },
  {
   "cell_type": "markdown",
   "metadata": {},
   "source": [
    "The features are not highly correlated with our target variable. We can keep the remaining features as it is."
   ]
  },
  {
   "cell_type": "code",
   "execution_count": 22,
   "metadata": {},
   "outputs": [],
   "source": [
    "safe_driver_num_features = pd.concat([safe_driver_num_features, safe_driver['target']], axis=1)"
   ]
  },
  {
   "cell_type": "code",
   "execution_count": 23,
   "metadata": {},
   "outputs": [
    {
     "name": "stdout",
     "output_type": "stream",
     "text": [
      "<class 'pandas.core.frame.DataFrame'>\n",
      "RangeIndex: 30240 entries, 0 to 30239\n",
      "Data columns (total 7 columns):\n",
      "EngineHP                 30240 non-null int64\n",
      "credit_history           30240 non-null int64\n",
      "Years_Experience         30240 non-null int64\n",
      "annual_claims            30240 non-null int64\n",
      "Miles_driven_annually    30240 non-null float64\n",
      "size_of_family           30240 non-null int64\n",
      "target                   30240 non-null int64\n",
      "dtypes: float64(1), int64(6)\n",
      "memory usage: 1.6 MB\n"
     ]
    }
   ],
   "source": [
    "safe_driver_num_features.info()"
   ]
  },
  {
   "cell_type": "code",
   "execution_count": 24,
   "metadata": {},
   "outputs": [
    {
     "name": "stdout",
     "output_type": "stream",
     "text": [
      "<class 'pandas.core.frame.DataFrame'>\n",
      "RangeIndex: 181440 entries, 0 to 181439\n",
      "Data columns (total 3 columns):\n",
      "target      181440 non-null int64\n",
      "variable    181440 non-null object\n",
      "value       181440 non-null float64\n",
      "dtypes: float64(1), int64(1), object(1)\n",
      "memory usage: 4.2+ MB\n"
     ]
    },
    {
     "data": {
      "image/png": "[encoded data removed]",
      "text/plain": [
       "<Figure size 864x288 with 6 Axes>"
      ]
     },
     "metadata": {},
     "output_type": "display_data"
    }
   ],
   "source": [
    "# Let us also look at the relationship between our dependent variable with categorical variables\n",
    "\n",
    "# Plot all the variables with boxplots for each continuous variable.\n",
    "\n",
    "# Restructure the data so we can use FacetGrid \n",
    "\n",
    "safe_driver_melt = pd.melt(safe_driver_scaled, id_vars=['target'])\n",
    "safe_driver_melt.info()\n",
    "g = sns.FacetGrid(safe_driver_melt, col='variable', size=4, aspect=.5)\n",
    "g = g.map(sns.boxplot, \"target\", \"value\")\n",
    "\n",
    "plt.show()"
   ]
  },
  {
   "cell_type": "markdown",
   "metadata": {},
   "source": [
    "Our boxplots indicate that there are some outliers in EngineHP, credit_history and Miles_driven_annually. But we may need to keep the outliers unless they affect our results and take another look at them later."
   ]
  },
  {
   "cell_type": "markdown",
   "metadata": {},
   "source": [
    "Here, below, we separate our feature set from the label `target` and convert all the categorical variables to numeric. Then split the feature set into training and test data sets."
   ]
  },
  {
   "cell_type": "markdown",
   "metadata": {},
   "source": [
    "Let us convert some of the categorical features into numeric giving weightage to each variable.<br>\n",
    "<br>\n",
    "1. Gender: 1 = Female and 2 = Male<br>\n",
    "2. Marital_Status: 1 = Single and 2 = Married<br>\n",
    "3. Vehicle_Type: Use `LabelEncoder`<br>\n",
    "4. Age_bucket: Use `LabelEncoder`<br>\n",
    "<br>\n",
    "We are not using `dummies` or `OneHotEncoder` because these create sparse matrices and increase dimensionality. By giving a 1 or a 2 for say Marital_Status we give higher weightage to `Married` by assigning a value of 2."
   ]
  },
  {
   "cell_type": "code",
   "execution_count": 25,
   "metadata": {},
   "outputs": [
    {
     "data": {
      "text/html": [
       "<div>\n",
       "<style scoped>\n",
       "    .dataframe tbody tr th:only-of-type {\n",
       "        vertical-align: middle;\n",
       "    }\n",
       "\n",
       "    .dataframe tbody tr th {\n",
       "        vertical-align: top;\n",
       "    }\n",
       "\n",
       "    .dataframe thead th {\n",
       "        text-align: right;\n",
       "    }\n",
       "</style>\n",
       "<table border=\"1\" class=\"dataframe\">\n",
       "  <thead>\n",
       "    <tr style=\"text-align: right;\">\n",
       "      <th></th>\n",
       "      <th>EngineHP</th>\n",
       "      <th>credit_history</th>\n",
       "      <th>Years_Experience</th>\n",
       "      <th>annual_claims</th>\n",
       "      <th>Miles_driven_annually</th>\n",
       "      <th>size_of_family</th>\n",
       "      <th>target</th>\n",
       "      <th>Gender</th>\n",
       "      <th>Marital_Status</th>\n",
       "      <th>Vehicle_Type</th>\n",
       "      <th>Age_bucket</th>\n",
       "      <th>State</th>\n",
       "    </tr>\n",
       "  </thead>\n",
       "  <tbody>\n",
       "    <tr>\n",
       "      <th>0</th>\n",
       "      <td>2.459</td>\n",
       "      <td>-0.291</td>\n",
       "      <td>-1.239</td>\n",
       "      <td>-1.051</td>\n",
       "      <td>-0.153</td>\n",
       "      <td>0.209</td>\n",
       "      <td>1</td>\n",
       "      <td>F</td>\n",
       "      <td>Married</td>\n",
       "      <td>Car</td>\n",
       "      <td>&lt;18</td>\n",
       "      <td>IL</td>\n",
       "    </tr>\n",
       "    <tr>\n",
       "      <th>1</th>\n",
       "      <td>3.736</td>\n",
       "      <td>0.178</td>\n",
       "      <td>0.277</td>\n",
       "      <td>-1.051</td>\n",
       "      <td>-0.116</td>\n",
       "      <td>0.647</td>\n",
       "      <td>1</td>\n",
       "      <td>F</td>\n",
       "      <td>Married</td>\n",
       "      <td>Car</td>\n",
       "      <td>28-34</td>\n",
       "      <td>NJ</td>\n",
       "    </tr>\n",
       "    <tr>\n",
       "      <th>2</th>\n",
       "      <td>-0.481</td>\n",
       "      <td>0.051</td>\n",
       "      <td>0.176</td>\n",
       "      <td>-1.051</td>\n",
       "      <td>-0.427</td>\n",
       "      <td>-0.665</td>\n",
       "      <td>1</td>\n",
       "      <td>M</td>\n",
       "      <td>Married</td>\n",
       "      <td>Van</td>\n",
       "      <td>&gt;40</td>\n",
       "      <td>CT</td>\n",
       "    </tr>\n",
       "    <tr>\n",
       "      <th>3</th>\n",
       "      <td>-0.382</td>\n",
       "      <td>0.334</td>\n",
       "      <td>-0.430</td>\n",
       "      <td>-1.051</td>\n",
       "      <td>3.427</td>\n",
       "      <td>-0.665</td>\n",
       "      <td>1</td>\n",
       "      <td>M</td>\n",
       "      <td>Married</td>\n",
       "      <td>Van</td>\n",
       "      <td>18-27</td>\n",
       "      <td>CT</td>\n",
       "    </tr>\n",
       "    <tr>\n",
       "      <th>4</th>\n",
       "      <td>-0.518</td>\n",
       "      <td>0.832</td>\n",
       "      <td>1.996</td>\n",
       "      <td>-0.128</td>\n",
       "      <td>-0.185</td>\n",
       "      <td>-0.228</td>\n",
       "      <td>1</td>\n",
       "      <td>M</td>\n",
       "      <td>Married</td>\n",
       "      <td>Van</td>\n",
       "      <td>&gt;40</td>\n",
       "      <td>WY</td>\n",
       "    </tr>\n",
       "    <tr>\n",
       "      <th>5</th>\n",
       "      <td>-0.397</td>\n",
       "      <td>0.354</td>\n",
       "      <td>0.480</td>\n",
       "      <td>-0.128</td>\n",
       "      <td>-0.298</td>\n",
       "      <td>1.521</td>\n",
       "      <td>1</td>\n",
       "      <td>F</td>\n",
       "      <td>Married</td>\n",
       "      <td>Truck</td>\n",
       "      <td>&gt;40</td>\n",
       "      <td>DE</td>\n",
       "    </tr>\n",
       "    <tr>\n",
       "      <th>6</th>\n",
       "      <td>-0.345</td>\n",
       "      <td>0.998</td>\n",
       "      <td>1.794</td>\n",
       "      <td>1.719</td>\n",
       "      <td>-0.198</td>\n",
       "      <td>-1.103</td>\n",
       "      <td>1</td>\n",
       "      <td>F</td>\n",
       "      <td>Married</td>\n",
       "      <td>Truck</td>\n",
       "      <td>&gt;40</td>\n",
       "      <td>NJ</td>\n",
       "    </tr>\n",
       "    <tr>\n",
       "      <th>7</th>\n",
       "      <td>-0.821</td>\n",
       "      <td>0.598</td>\n",
       "      <td>0.783</td>\n",
       "      <td>-0.128</td>\n",
       "      <td>-0.184</td>\n",
       "      <td>0.209</td>\n",
       "      <td>1</td>\n",
       "      <td>F</td>\n",
       "      <td>Single</td>\n",
       "      <td>Car</td>\n",
       "      <td>&gt;40</td>\n",
       "      <td>ME</td>\n",
       "    </tr>\n",
       "    <tr>\n",
       "      <th>8</th>\n",
       "      <td>3.449</td>\n",
       "      <td>0.305</td>\n",
       "      <td>2.097</td>\n",
       "      <td>-1.051</td>\n",
       "      <td>-0.019</td>\n",
       "      <td>-1.540</td>\n",
       "      <td>1</td>\n",
       "      <td>F</td>\n",
       "      <td>Married</td>\n",
       "      <td>Car</td>\n",
       "      <td>&gt;40</td>\n",
       "      <td>CA</td>\n",
       "    </tr>\n",
       "    <tr>\n",
       "      <th>9</th>\n",
       "      <td>-0.579</td>\n",
       "      <td>0.969</td>\n",
       "      <td>0.581</td>\n",
       "      <td>-0.128</td>\n",
       "      <td>-0.648</td>\n",
       "      <td>-1.540</td>\n",
       "      <td>0</td>\n",
       "      <td>F</td>\n",
       "      <td>Married</td>\n",
       "      <td>Truck</td>\n",
       "      <td>35-40</td>\n",
       "      <td>NJ</td>\n",
       "    </tr>\n",
       "  </tbody>\n",
       "</table>\n",
       "</div>"
      ],
      "text/plain": [
       "   EngineHP  credit_history  Years_Experience  annual_claims  \\\n",
       "0     2.459          -0.291            -1.239         -1.051   \n",
       "1     3.736           0.178             0.277         -1.051   \n",
       "2    -0.481           0.051             0.176         -1.051   \n",
       "3    -0.382           0.334            -0.430         -1.051   \n",
       "4    -0.518           0.832             1.996         -0.128   \n",
       "5    -0.397           0.354             0.480         -0.128   \n",
       "6    -0.345           0.998             1.794          1.719   \n",
       "7    -0.821           0.598             0.783         -0.128   \n",
       "8     3.449           0.305             2.097         -1.051   \n",
       "9    -0.579           0.969             0.581         -0.128   \n",
       "\n",
       "   Miles_driven_annually  size_of_family  target Gender Marital_Status  \\\n",
       "0                 -0.153           0.209       1      F        Married   \n",
       "1                 -0.116           0.647       1      F        Married   \n",
       "2                 -0.427          -0.665       1      M        Married   \n",
       "3                  3.427          -0.665       1      M        Married   \n",
       "4                 -0.185          -0.228       1      M        Married   \n",
       "5                 -0.298           1.521       1      F        Married   \n",
       "6                 -0.198          -1.103       1      F        Married   \n",
       "7                 -0.184           0.209       1      F         Single   \n",
       "8                 -0.019          -1.540       1      F        Married   \n",
       "9                 -0.648          -1.540       0      F        Married   \n",
       "\n",
       "  Vehicle_Type Age_bucket State  \n",
       "0          Car        <18    IL  \n",
       "1          Car      28-34    NJ  \n",
       "2          Van        >40    CT  \n",
       "3          Van      18-27    CT  \n",
       "4          Van        >40    WY  \n",
       "5        Truck        >40    DE  \n",
       "6        Truck        >40    NJ  \n",
       "7          Car        >40    ME  \n",
       "8          Car        >40    CA  \n",
       "9        Truck      35-40    NJ  "
      ]
     },
     "execution_count": 25,
     "metadata": {},
     "output_type": "execute_result"
    }
   ],
   "source": [
    "safe_driver.head(10)"
   ]
  },
  {
   "cell_type": "code",
   "execution_count": 26,
   "metadata": {},
   "outputs": [],
   "source": [
    "# Convert Gender to a 1 or a 2\n",
    "safe_driver['Gender'] = np.where(safe_driver['Gender']=='F', 1, 2)\n",
    "\n",
    "# Convert Marital_Status to a 1 or a 2\n",
    "safe_driver['Marital_Status'] = np.where(safe_driver['Marital_Status']=='Single', 1, 2)\n",
    "\n",
    "# Convert Vehicle_Type using LabelEncoder\n",
    "le = preprocessing.LabelEncoder()\n",
    "le.fit(safe_driver['Vehicle_Type'])\n",
    "\n",
    "safe_driver['Vehicle_Type'] = le.transform(safe_driver['Vehicle_Type'])\n",
    "\n",
    "# Convert Age_bucket using LabelEncoder\n",
    "le.fit(safe_driver['Age_bucket'])\n",
    "\n",
    "safe_driver['Age_bucket'] = le.transform(safe_driver['Age_bucket'])"
   ]
  },
  {
   "cell_type": "code",
   "execution_count": 27,
   "metadata": {},
   "outputs": [
    {
     "data": {
      "text/html": [
       "<div>\n",
       "<style scoped>\n",
       "    .dataframe tbody tr th:only-of-type {\n",
       "        vertical-align: middle;\n",
       "    }\n",
       "\n",
       "    .dataframe tbody tr th {\n",
       "        vertical-align: top;\n",
       "    }\n",
       "\n",
       "    .dataframe thead th {\n",
       "        text-align: right;\n",
       "    }\n",
       "</style>\n",
       "<table border=\"1\" class=\"dataframe\">\n",
       "  <thead>\n",
       "    <tr style=\"text-align: right;\">\n",
       "      <th></th>\n",
       "      <th>EngineHP</th>\n",
       "      <th>credit_history</th>\n",
       "      <th>Years_Experience</th>\n",
       "      <th>annual_claims</th>\n",
       "      <th>Miles_driven_annually</th>\n",
       "      <th>size_of_family</th>\n",
       "      <th>target</th>\n",
       "      <th>Gender</th>\n",
       "      <th>Marital_Status</th>\n",
       "      <th>Vehicle_Type</th>\n",
       "      <th>Age_bucket</th>\n",
       "      <th>State</th>\n",
       "    </tr>\n",
       "  </thead>\n",
       "  <tbody>\n",
       "    <tr>\n",
       "      <th>0</th>\n",
       "      <td>2.459</td>\n",
       "      <td>-0.291</td>\n",
       "      <td>-1.239</td>\n",
       "      <td>-1.051</td>\n",
       "      <td>-0.153</td>\n",
       "      <td>0.209</td>\n",
       "      <td>1</td>\n",
       "      <td>1</td>\n",
       "      <td>2</td>\n",
       "      <td>0</td>\n",
       "      <td>3</td>\n",
       "      <td>IL</td>\n",
       "    </tr>\n",
       "    <tr>\n",
       "      <th>1</th>\n",
       "      <td>3.736</td>\n",
       "      <td>0.178</td>\n",
       "      <td>0.277</td>\n",
       "      <td>-1.051</td>\n",
       "      <td>-0.116</td>\n",
       "      <td>0.647</td>\n",
       "      <td>1</td>\n",
       "      <td>1</td>\n",
       "      <td>2</td>\n",
       "      <td>0</td>\n",
       "      <td>1</td>\n",
       "      <td>NJ</td>\n",
       "    </tr>\n",
       "    <tr>\n",
       "      <th>2</th>\n",
       "      <td>-0.481</td>\n",
       "      <td>0.051</td>\n",
       "      <td>0.176</td>\n",
       "      <td>-1.051</td>\n",
       "      <td>-0.427</td>\n",
       "      <td>-0.665</td>\n",
       "      <td>1</td>\n",
       "      <td>2</td>\n",
       "      <td>2</td>\n",
       "      <td>3</td>\n",
       "      <td>4</td>\n",
       "      <td>CT</td>\n",
       "    </tr>\n",
       "    <tr>\n",
       "      <th>3</th>\n",
       "      <td>-0.382</td>\n",
       "      <td>0.334</td>\n",
       "      <td>-0.430</td>\n",
       "      <td>-1.051</td>\n",
       "      <td>3.427</td>\n",
       "      <td>-0.665</td>\n",
       "      <td>1</td>\n",
       "      <td>2</td>\n",
       "      <td>2</td>\n",
       "      <td>3</td>\n",
       "      <td>0</td>\n",
       "      <td>CT</td>\n",
       "    </tr>\n",
       "    <tr>\n",
       "      <th>4</th>\n",
       "      <td>-0.518</td>\n",
       "      <td>0.832</td>\n",
       "      <td>1.996</td>\n",
       "      <td>-0.128</td>\n",
       "      <td>-0.185</td>\n",
       "      <td>-0.228</td>\n",
       "      <td>1</td>\n",
       "      <td>2</td>\n",
       "      <td>2</td>\n",
       "      <td>3</td>\n",
       "      <td>4</td>\n",
       "      <td>WY</td>\n",
       "    </tr>\n",
       "    <tr>\n",
       "      <th>5</th>\n",
       "      <td>-0.397</td>\n",
       "      <td>0.354</td>\n",
       "      <td>0.480</td>\n",
       "      <td>-0.128</td>\n",
       "      <td>-0.298</td>\n",
       "      <td>1.521</td>\n",
       "      <td>1</td>\n",
       "      <td>1</td>\n",
       "      <td>2</td>\n",
       "      <td>1</td>\n",
       "      <td>4</td>\n",
       "      <td>DE</td>\n",
       "    </tr>\n",
       "    <tr>\n",
       "      <th>6</th>\n",
       "      <td>-0.345</td>\n",
       "      <td>0.998</td>\n",
       "      <td>1.794</td>\n",
       "      <td>1.719</td>\n",
       "      <td>-0.198</td>\n",
       "      <td>-1.103</td>\n",
       "      <td>1</td>\n",
       "      <td>1</td>\n",
       "      <td>2</td>\n",
       "      <td>1</td>\n",
       "      <td>4</td>\n",
       "      <td>NJ</td>\n",
       "    </tr>\n",
       "    <tr>\n",
       "      <th>7</th>\n",
       "      <td>-0.821</td>\n",
       "      <td>0.598</td>\n",
       "      <td>0.783</td>\n",
       "      <td>-0.128</td>\n",
       "      <td>-0.184</td>\n",
       "      <td>0.209</td>\n",
       "      <td>1</td>\n",
       "      <td>1</td>\n",
       "      <td>1</td>\n",
       "      <td>0</td>\n",
       "      <td>4</td>\n",
       "      <td>ME</td>\n",
       "    </tr>\n",
       "    <tr>\n",
       "      <th>8</th>\n",
       "      <td>3.449</td>\n",
       "      <td>0.305</td>\n",
       "      <td>2.097</td>\n",
       "      <td>-1.051</td>\n",
       "      <td>-0.019</td>\n",
       "      <td>-1.540</td>\n",
       "      <td>1</td>\n",
       "      <td>1</td>\n",
       "      <td>2</td>\n",
       "      <td>0</td>\n",
       "      <td>4</td>\n",
       "      <td>CA</td>\n",
       "    </tr>\n",
       "    <tr>\n",
       "      <th>9</th>\n",
       "      <td>-0.579</td>\n",
       "      <td>0.969</td>\n",
       "      <td>0.581</td>\n",
       "      <td>-0.128</td>\n",
       "      <td>-0.648</td>\n",
       "      <td>-1.540</td>\n",
       "      <td>0</td>\n",
       "      <td>1</td>\n",
       "      <td>2</td>\n",
       "      <td>1</td>\n",
       "      <td>2</td>\n",
       "      <td>NJ</td>\n",
       "    </tr>\n",
       "  </tbody>\n",
       "</table>\n",
       "</div>"
      ],
      "text/plain": [
       "   EngineHP  credit_history  Years_Experience  annual_claims  \\\n",
       "0     2.459          -0.291            -1.239         -1.051   \n",
       "1     3.736           0.178             0.277         -1.051   \n",
       "2    -0.481           0.051             0.176         -1.051   \n",
       "3    -0.382           0.334            -0.430         -1.051   \n",
       "4    -0.518           0.832             1.996         -0.128   \n",
       "5    -0.397           0.354             0.480         -0.128   \n",
       "6    -0.345           0.998             1.794          1.719   \n",
       "7    -0.821           0.598             0.783         -0.128   \n",
       "8     3.449           0.305             2.097         -1.051   \n",
       "9    -0.579           0.969             0.581         -0.128   \n",
       "\n",
       "   Miles_driven_annually  size_of_family  target  Gender  Marital_Status  \\\n",
       "0                 -0.153           0.209       1       1               2   \n",
       "1                 -0.116           0.647       1       1               2   \n",
       "2                 -0.427          -0.665       1       2               2   \n",
       "3                  3.427          -0.665       1       2               2   \n",
       "4                 -0.185          -0.228       1       2               2   \n",
       "5                 -0.298           1.521       1       1               2   \n",
       "6                 -0.198          -1.103       1       1               2   \n",
       "7                 -0.184           0.209       1       1               1   \n",
       "8                 -0.019          -1.540       1       1               2   \n",
       "9                 -0.648          -1.540       0       1               2   \n",
       "\n",
       "   Vehicle_Type  Age_bucket State  \n",
       "0             0           3    IL  \n",
       "1             0           1    NJ  \n",
       "2             3           4    CT  \n",
       "3             3           0    CT  \n",
       "4             3           4    WY  \n",
       "5             1           4    DE  \n",
       "6             1           4    NJ  \n",
       "7             0           4    ME  \n",
       "8             0           4    CA  \n",
       "9             1           2    NJ  "
      ]
     },
     "execution_count": 27,
     "metadata": {},
     "output_type": "execute_result"
    }
   ],
   "source": [
    "safe_driver.head(10)"
   ]
  },
  {
   "cell_type": "code",
   "execution_count": 28,
   "metadata": {},
   "outputs": [],
   "source": [
    "# Drop the 'target' column from training dataframe as that is our label\n",
    "X = safe_driver.drop(['target', 'State'], 1)\n",
    "\n",
    "# The 'target' column is our label or outcome that we want to predict\n",
    "y = safe_driver['target']\n",
    "\n",
    "# Use pd.dummies to resolve the categorical data (e.g. State) into numerical values\n",
    "#X = pd.get_dummies(X)\n",
    "\n",
    "# Drop and NaN values\n",
    "X = X.dropna(axis=1)"
   ]
  },
  {
   "cell_type": "markdown",
   "metadata": {},
   "source": [
    "We found out much earlier that our target label is 70% failure (bad driver or `target` == 1) and 30% success (good driver or `target` == 0). Let us do class balancing using SMOTE and see the distribution.<br>"
   ]
  },
  {
   "cell_type": "code",
   "execution_count": 29,
   "metadata": {},
   "outputs": [
    {
     "name": "stdout",
     "output_type": "stream",
     "text": [
      "length of oversampled data is  42792\n",
      "Number of negative class in oversampled data 21396\n",
      "Number of positive class in oversampled data 21396\n",
      "Proportion of negative class in oversampled data is  0.5\n",
      "Proportion of positive class in oversampled data is  0.5\n"
     ]
    }
   ],
   "source": [
    "from imblearn.over_sampling import SMOTE\n",
    "from sklearn.model_selection import train_test_split\n",
    "\n",
    "os = SMOTE(random_state=0)\n",
    "\n",
    "columns = X.columns\n",
    "os_data_X, os_data_y = os.fit_sample(X, y)\n",
    "os_data_X = pd.DataFrame(data=os_data_X, columns=columns )\n",
    "os_data_y = pd.DataFrame(data=os_data_y, columns=['y'])\n",
    "\n",
    "#Split the resulting balanced data set as train and test\n",
    "\n",
    "X_train, X_test, y_train, y_test = train_test_split(os_data_X, os_data_y, test_size=0.3, random_state=0)\n",
    "\n",
    "# Check the size of our new data\n",
    "print(\"length of oversampled data is \",len(os_data_X))\n",
    "print(\"Number of negative class in oversampled data\",len(os_data_y[os_data_y['y']==0]))\n",
    "print(\"Number of positive class in oversampled data\",len(os_data_y[os_data_y['y']==1]))\n",
    "print(\"Proportion of negative class in oversampled data is \",len(os_data_y[os_data_y['y']==0])/len(os_data_X))\n",
    "print(\"Proportion of positive class in oversampled data is \",len(os_data_y[os_data_y['y']==1])/len(os_data_X))"
   ]
  },
  {
   "cell_type": "markdown",
   "metadata": {},
   "source": [
    "Let us find out how significant are our features are in predicting our label. We will use the feature_importances_ method from the RandomForestClassifier. After that we plot the relative importance of the features using a barplot.<br>\n",
    "<br>\n",
    "Let us go ahead and select our categorical features, using a RandomForestClassifier."
   ]
  },
  {
   "cell_type": "code",
   "execution_count": 30,
   "metadata": {},
   "outputs": [
    {
     "name": "stdout",
     "output_type": "stream",
     "text": [
      "                       importance\n",
      "credit_history              0.378\n",
      "Miles_driven_annually       0.329\n",
      "EngineHP                    0.203\n",
      "Years_Experience            0.059\n",
      "Gender                      0.031\n",
      "annual_claims               0.000\n",
      "size_of_family              0.000\n",
      "Marital_Status              0.000\n",
      "Vehicle_Type                0.000\n",
      "Age_bucket                  0.000\n"
     ]
    }
   ],
   "source": [
    "# Find out the feature importance using RandomForest\n",
    "\n",
    "from sklearn.ensemble import RandomForestRegressor\n",
    "from sklearn.datasets import make_regression\n",
    "\n",
    "regr = RandomForestRegressor(max_depth=2, random_state=0, n_estimators=12)\n",
    "regr.fit(X, y)\n",
    "\n",
    "# The features identified by RandomForest will be our columns for the training and testing dataset\n",
    "\n",
    "feature_importances = pd.DataFrame(regr.feature_importances_, index = X.columns, \n",
    "                                   columns=['importance']).sort_values('importance', ascending=False)\n",
    "print(feature_importances)"
   ]
  },
  {
   "cell_type": "code",
   "execution_count": 31,
   "metadata": {},
   "outputs": [
    {
     "data": {
      "image/png": "[encoded data removed]",
      "text/plain": [
       "<Figure size 432x288 with 1 Axes>"
      ]
     },
     "metadata": {},
     "output_type": "display_data"
    }
   ],
   "source": [
    "feature_importance = regr.feature_importances_\n",
    "\n",
    "# Make importances relative to max importance.\n",
    "feature_importance = 100.0 * (feature_importance / feature_importance.max())\n",
    "sorted_idx = np.argsort(feature_importance)\n",
    "pos = np.arange(sorted_idx.shape[0]) + .5\n",
    "plt.subplot(1, 2, 2)\n",
    "plt.barh(pos, feature_importance[sorted_idx], align='center')\n",
    "plt.yticks(pos, X.columns[sorted_idx])\n",
    "plt.xlabel('Relative Importance')\n",
    "plt.title('Variable Importance')\n",
    "plt.show()"
   ]
  },
  {
   "cell_type": "markdown",
   "metadata": {},
   "source": [
    "<h2>Decision Tree Classifier</h2>"
   ]
  },
  {
   "cell_type": "code",
   "execution_count": 32,
   "metadata": {},
   "outputs": [],
   "source": [
    "# Run LogisticRgression model on the training data set\n",
    "\n",
    "from sklearn.tree import DecisionTreeClassifier\n",
    "\n",
    "tree = DecisionTreeClassifier()\n",
    "tree.fit(X_train, y_train)\n",
    "\n",
    "y_predict = tree.predict(X_test)\n",
    "tree.score(X_test, y_test) \n",
    "\n",
    "dt_train_scores = cross_val_score(estimator=tree, X=X_train, y=y_train, cv=5, n_jobs=4)\n",
    "dt_test_scores = cross_val_score(estimator=tree, X=X_test, y=y_predict, cv=5, n_jobs=4)"
   ]
  },
  {
   "cell_type": "code",
   "execution_count": 33,
   "metadata": {},
   "outputs": [],
   "source": [
    "# Print the Accuracy, Error, Sensitivity and Specificity from the returned results\n",
    "target_names = ['Safe Driver', 'Non-safe Driver']\n",
    "decision_tree = classification_report(y_test, y_predict, target_names=target_names, output_dict=True)"
   ]
  },
  {
   "cell_type": "code",
   "execution_count": 34,
   "metadata": {},
   "outputs": [
    {
     "data": {
      "text/plain": [
       "array([[4382, 2036],\n",
       "       [2232, 4188]])"
      ]
     },
     "execution_count": 34,
     "metadata": {},
     "output_type": "execute_result"
    }
   ],
   "source": [
    "# Print confusion matrix for DecisionTreeClassifier\n",
    "confusion_matrix(y_test, y_predict)"
   ]
  },
  {
   "cell_type": "code",
   "execution_count": 35,
   "metadata": {},
   "outputs": [
    {
     "data": {
      "image/png": "[encoded data removed]",
      "text/plain": [
       "<Figure size 432x288 with 1 Axes>"
      ]
     },
     "metadata": {},
     "output_type": "display_data"
    },
    {
     "name": "stdout",
     "output_type": "stream",
     "text": [
      "0.6675518328998756\n"
     ]
    }
   ],
   "source": [
    "probs = tree.predict_proba(X_test)\n",
    "\n",
    "# keep probabilities for the positive outcome only\n",
    "probs = probs[:, 1]\n",
    "\n",
    "# calculate roc curve\n",
    "fpr, tpr, thresholds = roc_curve(y_test, probs)\n",
    "\n",
    "# plot no skill\n",
    "plt.plot([0, 1], [0, 1], linestyle='--')\n",
    "# plot the roc curve for the model\n",
    "plt.plot(fpr, tpr)\n",
    "plt.xlabel('FPR')\n",
    "plt.ylabel('TPR')\n",
    "plt.title('ROC Curve')\n",
    "# show the plot\n",
    "plt.show()\n",
    "\n",
    "auc = roc_auc_score(y_test, probs)\n",
    "print(auc)"
   ]
  },
  {
   "cell_type": "markdown",
   "metadata": {},
   "source": [
    "Our confusion matrix based on the DecisionTree does not look good. It is showing a high number of\n",
    "false positives and false negatives"
   ]
  },
  {
   "cell_type": "markdown",
   "metadata": {},
   "source": [
    "<h2>Support Vector Classifier</h2>"
   ]
  },
  {
   "cell_type": "code",
   "execution_count": 36,
   "metadata": {},
   "outputs": [],
   "source": [
    "# Run Support Vector Classifier to verify accuracy\n",
    "\n",
    "from sklearn.svm import SVC\n",
    "svc = SVC(gamma='auto', probability=True)\n",
    "\n",
    "svc.fit(X_train, y_train)\n",
    "\n",
    "y_predict = svc.predict(X_train)\n",
    "\n",
    "svc.score(X_test, y_test)\n",
    "\n",
    "from sklearn.model_selection import cross_val_score\n",
    "svc_train_score = cross_val_score(svc, X_train, y_train, cv=5)\n",
    "svc_test_score = cross_val_score(svc, X_test, y_test, cv=5)"
   ]
  },
  {
   "cell_type": "code",
   "execution_count": 37,
   "metadata": {},
   "outputs": [
    {
     "name": "stdout",
     "output_type": "stream",
     "text": [
      "[0.52086115 0.52411951 0.51443832 0.52270451 0.5245409 ]\n",
      "[0.52803738 0.51985981 0.53543614 0.52863265 0.51421893]\n"
     ]
    }
   ],
   "source": [
    "print(svc_train_score)\n",
    "print(svc_test_score)"
   ]
  },
  {
   "cell_type": "code",
   "execution_count": 38,
   "metadata": {},
   "outputs": [
    {
     "data": {
      "image/png": "[encoded data removed]",
      "text/plain": [
       "<Figure size 432x288 with 1 Axes>"
      ]
     },
     "metadata": {},
     "output_type": "display_data"
    },
    {
     "name": "stdout",
     "output_type": "stream",
     "text": [
      "0.5523303326217444\n"
     ]
    }
   ],
   "source": [
    "probs = svc.predict_proba(X_test)\n",
    "\n",
    "# keep probabilities for the positive outcome only\n",
    "probs = probs[:, 1]\n",
    "\n",
    "# calculate roc curve\n",
    "fpr, tpr, thresholds = roc_curve(y_test, probs)\n",
    "\n",
    "# plot no skill\n",
    "plt.plot([0, 1], [0, 1], linestyle='--')\n",
    "# plot the roc curve for the model\n",
    "plt.plot(fpr, tpr)\n",
    "plt.xlabel('FPR')\n",
    "plt.ylabel('TPR')\n",
    "plt.title('ROC Curve')\n",
    "# show the plot\n",
    "plt.show()\n",
    "\n",
    "auc = roc_auc_score(y_test, probs)\n",
    "print(auc)"
   ]
  },
  {
   "cell_type": "code",
   "execution_count": 39,
   "metadata": {},
   "outputs": [],
   "source": [
    "target_names = ['Safe Driver', 'Non-safe Driver']\n",
    "svc_scores = classification_report(y_train, y_predict, target_names=target_names, output_dict=True)"
   ]
  },
  {
   "cell_type": "code",
   "execution_count": 40,
   "metadata": {},
   "outputs": [
    {
     "data": {
      "text/plain": [
       "array([[10127,  4851],\n",
       "       [ 8381,  6595]])"
      ]
     },
     "execution_count": 40,
     "metadata": {},
     "output_type": "execute_result"
    }
   ],
   "source": [
    "from sklearn.metrics import confusion_matrix\n",
    "confusion_matrix(y_train, y_predict)"
   ]
  },
  {
   "cell_type": "markdown",
   "metadata": {},
   "source": [
    "The SVM Classifier returns less than better results than the DecisionTree model.<br>\n",
    "<br>\n",
    "We will try the SGDClassifier."
   ]
  },
  {
   "cell_type": "markdown",
   "metadata": {},
   "source": [
    "<h2>Stochastic Gradient Descent Classifier</h2>"
   ]
  },
  {
   "cell_type": "code",
   "execution_count": 41,
   "metadata": {},
   "outputs": [
    {
     "data": {
      "text/plain": [
       "0.506176136743006"
      ]
     },
     "execution_count": 41,
     "metadata": {},
     "output_type": "execute_result"
    }
   ],
   "source": [
    "# Let us also run the SGDClassifier model to verify\n",
    "\n",
    "from sklearn import linear_model\n",
    "clf = linear_model.SGDClassifier(max_iter=10000, tol=1e-3)\n",
    "clf.fit(X_train, y_train)\n",
    "\n",
    "y_predict_SGD = clf.predict(X_train)\n",
    "\n",
    "clf.score(X_train, y_train)"
   ]
  },
  {
   "cell_type": "code",
   "execution_count": 42,
   "metadata": {},
   "outputs": [
    {
     "name": "stdout",
     "output_type": "stream",
     "text": [
      "[0.49182243 0.50659322 0.49607745 0.49699499 0.5       ]\n",
      "[0.49805296 0.49104361 0.50038941 0.5029217  0.4990261 ]\n"
     ]
    }
   ],
   "source": [
    "sgd_train_score = cross_val_score(clf, X_train, y_train, cv=5)\n",
    "sgd_test_score = cross_val_score(clf, X_test, y_test, cv=5)\n",
    "print(sgd_train_score)\n",
    "print(sgd_test_score)"
   ]
  },
  {
   "cell_type": "code",
   "execution_count": 43,
   "metadata": {},
   "outputs": [],
   "source": [
    "# Function to calculate Accuracy, Error, Sensitivity and Specificity from the returned results.\n",
    "target_names = ['Safe Driver', 'Non-safe Driver']\n",
    "sgd_scores = classification_report(y_train, y_predict, target_names=target_names, output_dict=True)"
   ]
  },
  {
   "cell_type": "code",
   "execution_count": 44,
   "metadata": {},
   "outputs": [
    {
     "data": {
      "text/plain": [
       "array([[9557, 5421],\n",
       "       [9371, 5605]])"
      ]
     },
     "execution_count": 44,
     "metadata": {},
     "output_type": "execute_result"
    }
   ],
   "source": [
    "confusion_matrix(y_train, y_predict_SGD)"
   ]
  },
  {
   "cell_type": "markdown",
   "metadata": {},
   "source": [
    "<h2>Support Vector Classifier with different tuning parameters</h2>"
   ]
  },
  {
   "cell_type": "markdown",
   "metadata": {},
   "source": [
    "Trying SVC again with better tuning parameters found out from StackOverflow."
   ]
  },
  {
   "cell_type": "code",
   "execution_count": 45,
   "metadata": {},
   "outputs": [],
   "source": [
    "from sklearn.svm import SVC\n",
    "\n",
    "classifier = SVC(C=10, cache_size=200, class_weight='balanced', coef0=0.0,\n",
    "  decision_function_shape=None, degree=3, gamma='auto', kernel='rbf',\n",
    "  max_iter=-1, probability=False, random_state=None, shrinking=True,\n",
    "  tol=0.001, verbose=False)\n",
    "\n",
    "classifier = classifier.fit(X_train, y_train)\n",
    "\n",
    "y_predict = classifier.predict(X_train)"
   ]
  },
  {
   "cell_type": "code",
   "execution_count": 46,
   "metadata": {},
   "outputs": [
    {
     "name": "stdout",
     "output_type": "stream",
     "text": [
      "[0.52653538 0.53747288 0.5386413  0.54440735 0.54373957]\n",
      "[0.53894081 0.5241433  0.54127726 0.540709   0.5290222 ]\n"
     ]
    }
   ],
   "source": [
    "svc_2_train_score = cross_val_score(classifier, X_train, y_train, cv=5)\n",
    "svc_2_test_score = cross_val_score(classifier, X_test, y_test, cv=5)\n",
    "print(svc_2_train_score)\n",
    "print(svc_2_test_score)"
   ]
  },
  {
   "cell_type": "code",
   "execution_count": 47,
   "metadata": {},
   "outputs": [
    {
     "data": {
      "text/plain": [
       "array([[10362,  4616],\n",
       "       [ 7567,  7409]])"
      ]
     },
     "execution_count": 47,
     "metadata": {},
     "output_type": "execute_result"
    }
   ],
   "source": [
    "confusion_matrix(y_train, y_predict)"
   ]
  },
  {
   "cell_type": "code",
   "execution_count": 48,
   "metadata": {},
   "outputs": [],
   "source": [
    "# Print the Accuracy, Error, Sensitivity and Specificity from the returned results.\n",
    "target_names = ['Safe Driver', 'Non-safe Driver']\n",
    "svc_2_scores = classification_report(y_train, y_predict, target_names=target_names, output_dict=True)"
   ]
  },
  {
   "cell_type": "markdown",
   "metadata": {},
   "source": [
    "<h2>Ridge Classifier</h2>"
   ]
  },
  {
   "cell_type": "code",
   "execution_count": 49,
   "metadata": {},
   "outputs": [],
   "source": [
    "# Let us run RidgeClassifier to check results\n",
    "\n",
    "from sklearn.linear_model import RidgeClassifier\n",
    "#\n",
    "clf = RidgeClassifier().fit(X_train, y_train)\n",
    "clf.score(X_train, y_train) \n",
    "y_predict = classifier.predict(X_train)"
   ]
  },
  {
   "cell_type": "code",
   "execution_count": 50,
   "metadata": {},
   "outputs": [
    {
     "name": "stdout",
     "output_type": "stream",
     "text": [
      "[0.50433912 0.50392255 0.49207144 0.50868114 0.50784641]\n",
      "[0.51596573 0.50778816 0.51635514 0.49785742 0.4970783 ]\n"
     ]
    }
   ],
   "source": [
    "ridge_train_score = cross_val_score(clf, X_train, y_train, cv=5)\n",
    "ridge_test_score = cross_val_score(clf, X_test, y_test, cv=5)\n",
    "print(ridge_train_score)\n",
    "print(ridge_test_score)"
   ]
  },
  {
   "cell_type": "code",
   "execution_count": 51,
   "metadata": {},
   "outputs": [],
   "source": [
    "target_names = ['Safe Driver', 'Non-safe Driver']\n",
    "ridge_scores = classification_report(y_train, y_predict, target_names=target_names, \n",
    "                                                                     output_dict=True)"
   ]
  },
  {
   "cell_type": "markdown",
   "metadata": {},
   "source": [
    "<h2>Gradient Boosting Classifier</h2>"
   ]
  },
  {
   "cell_type": "code",
   "execution_count": 52,
   "metadata": {},
   "outputs": [
    {
     "name": "stdout",
     "output_type": "stream",
     "text": [
      "GradientBoostingClassifier(criterion='friedman_mse', init=None,\n",
      "              learning_rate=0.1, loss='deviance', max_depth=10,\n",
      "              max_features=None, max_leaf_nodes=None,\n",
      "              min_impurity_decrease=0.0, min_impurity_split=None,\n",
      "              min_samples_leaf=1, min_samples_split=2,\n",
      "              min_weight_fraction_leaf=0.0, n_estimators=100,\n",
      "              n_iter_no_change=None, presort='auto', random_state=None,\n",
      "              subsample=1.0, tol=0.0001, validation_fraction=0.1,\n",
      "              verbose=0, warm_start=False)\n",
      "Training set score: 0.8932029111304\n"
     ]
    }
   ],
   "source": [
    "# Finally, we try GradientBoostingClassifier\n",
    "\n",
    "from sklearn.ensemble import GradientBoostingClassifier\n",
    "clf = GradientBoostingClassifier(loss = 'deviance', max_depth=10)\n",
    "clf_model = clf.fit(X_train, y_train)\n",
    "print(clf_model)\n",
    "print('Training set score:', clf.score(X_train, y_train))"
   ]
  },
  {
   "cell_type": "code",
   "execution_count": 53,
   "metadata": {},
   "outputs": [
    {
     "name": "stdout",
     "output_type": "stream",
     "text": [
      "\n",
      "Each Cross Validated Accuracy: \n",
      " [0.75450601 0.74294775 0.75529962 0.74457429 0.75308848]\n",
      "\n",
      "Overall Gradient Boosted Classifier Accuracy: 0.75 (+/- 0.01)\n",
      "\n"
     ]
    }
   ],
   "source": [
    "CLF_score = cross_val_score(clf, X_train, y_train, cv=5)\n",
    "print('\\nEach Cross Validated Accuracy: \\n', CLF_score)\n",
    "print(\"\\nOverall Gradient Boosted Classifier Accuracy: %0.2f (+/- %0.2f)\\n\" % (CLF_score.mean(), CLF_score.std() * 2))"
   ]
  },
  {
   "cell_type": "code",
   "execution_count": 54,
   "metadata": {},
   "outputs": [],
   "source": [
    "CLF_test_score = cross_val_score(clf, X_test, y_test, cv=5)"
   ]
  },
  {
   "cell_type": "code",
   "execution_count": 55,
   "metadata": {},
   "outputs": [
    {
     "data": {
      "text/plain": [
       "array([[11837,  3141],\n",
       "       [   58, 14918]])"
      ]
     },
     "execution_count": 55,
     "metadata": {},
     "output_type": "execute_result"
    }
   ],
   "source": [
    "y_predict = clf.predict(X_train)\n",
    "target_names = ['Safe Driver', 'Non-safe Driver']\n",
    "GB_scores = classification_report(y_train, y_predict, target_names=target_names, output_dict=True)\n",
    "confusion_matrix(y_train, y_predict)"
   ]
  },
  {
   "cell_type": "markdown",
   "metadata": {},
   "source": [
    "GradientBoosting seems to be experiencing overfitting? "
   ]
  },
  {
   "cell_type": "markdown",
   "metadata": {},
   "source": [
    "We will try XGBoost model which is supposed to be the 'Queen of All' models or 'GB on Steroids'."
   ]
  },
  {
   "cell_type": "code",
   "execution_count": 56,
   "metadata": {},
   "outputs": [
    {
     "name": "stdout",
     "output_type": "stream",
     "text": [
      "Accuracy: 69.89%\n"
     ]
    }
   ],
   "source": [
    "model = XGBClassifier()\n",
    "model.fit(X_train, y_train)\n",
    "# make predictions for test data\n",
    "y_pred = model.predict(X_test)\n",
    "y_predict = [round(value) for value in y_pred]\n",
    "# evaluate predictions\n",
    "accuracy = accuracy_score(y_test, y_predict)\n",
    "print(\"Accuracy: %.2f%%\" % (accuracy * 100.0))"
   ]
  },
  {
   "cell_type": "code",
   "execution_count": 57,
   "metadata": {},
   "outputs": [
    {
     "name": "stdout",
     "output_type": "stream",
     "text": [
      "[0.69225634 0.69203806 0.70205308 0.69949917 0.70701169]\n",
      "[0.68185358 0.6826324  0.69314642 0.70315543 0.69925984]\n"
     ]
    }
   ],
   "source": [
    "XGB_scores = classification_report(y_test, y_predict, target_names=target_names, output_dict=True)\n",
    "XGB_train_score = cross_val_score(model, X_train, y_train, cv=5)\n",
    "XGB_test_score = cross_val_score(model, X_test, y_test, cv=5)\n",
    "print(XGB_train_score)\n",
    "print(XGB_test_score)"
   ]
  },
  {
   "cell_type": "markdown",
   "metadata": {},
   "source": [
    "<h2>Summary of Precision and Recall scores</h2>"
   ]
  },
  {
   "cell_type": "code",
   "execution_count": 58,
   "metadata": {},
   "outputs": [
    {
     "data": {
      "image/png": "[encoded data removed]",
      "text/plain": [
       "<Figure size 432x288 with 1 Axes>"
      ]
     },
     "metadata": {},
     "output_type": "display_data"
    }
   ],
   "source": [
    "# Collect all the classification scores and plot results as a bargraph to compare performances \n",
    "# of different models\n",
    "\n",
    "# Credit: Josh Hemann (https://matplotlib.org/gallery/statistics/barchart_demo.html)\n",
    "\n",
    "# This plot is for Safe Driver class. Values plotted are the precision and recall scores\n",
    "\n",
    "import numpy as np\n",
    "import matplotlib.pyplot as plt\n",
    "from matplotlib.ticker import MaxNLocator\n",
    "from collections import namedtuple\n",
    "\n",
    "n_groups = 7\n",
    "\n",
    "precision = (decision_tree['Safe Driver']['precision'],\n",
    "             svc_scores['Safe Driver']['precision'],\n",
    "             sgd_scores['Safe Driver']['precision'],\n",
    "             svc_2_scores['Safe Driver']['precision'],\n",
    "             ridge_scores['Safe Driver']['precision'],\n",
    "             GB_scores['Safe Driver']['precision'],\n",
    "             XGB_scores['Safe Driver']['precision'])\n",
    "\n",
    "recall = (decision_tree['Safe Driver']['recall'],\n",
    "          svc_scores['Safe Driver']['recall'],\n",
    "          sgd_scores['Safe Driver']['recall'],\n",
    "          svc_2_scores['Safe Driver']['recall'],\n",
    "          ridge_scores['Safe Driver']['recall'],\n",
    "          GB_scores['Safe Driver']['recall'],\n",
    "          XGB_scores['Safe Driver']['recall'])\n",
    "\n",
    "fig, ax = plt.subplots()\n",
    "\n",
    "index = np.arange(n_groups)\n",
    "bar_width = 0.35\n",
    "\n",
    "opacity = 0.4\n",
    "error_config = {'ecolor': '0.3'}\n",
    "\n",
    "rects1 = ax.bar(index, precision, bar_width,\n",
    "                alpha=opacity, color='b',\n",
    "                error_kw=error_config,\n",
    "                label='Precision')\n",
    "\n",
    "rects2 = ax.bar(index + bar_width, recall, bar_width,\n",
    "                alpha=opacity, color='r',\n",
    "                error_kw=error_config,\n",
    "                label='Recall')\n",
    "\n",
    "ax.set_xlabel('Model')\n",
    "ax.set_ylabel('Scores')\n",
    "ax.set_title('Safe Driver scores by model and classification')\n",
    "ax.set_xticks(index + bar_width / 2)\n",
    "ax.set_xticklabels(('D-Tree', 'SVC', 'SGD', 'SVC-2', 'Ridge', 'GB', 'XGB'))\n",
    "ax.legend()\n",
    "\n",
    "fig.tight_layout()\n",
    "plt.show()"
   ]
  },
  {
   "cell_type": "code",
   "execution_count": 59,
   "metadata": {},
   "outputs": [
    {
     "data": {
      "image/png": "[encoded data removed]",
      "text/plain": [
       "<Figure size 432x288 with 1 Axes>"
      ]
     },
     "metadata": {},
     "output_type": "display_data"
    }
   ],
   "source": [
    "# Collect all the classification scores and plot results as a bargraph to compare performances \n",
    "# of different models\n",
    "\n",
    "# Credit: Josh Hemann (https://matplotlib.org/gallery/statistics/barchart_demo.html)\n",
    "\n",
    "# This plot is for Non-Safe Driver class. Values plotted are the precision and recall scores\n",
    "\n",
    "import numpy as np\n",
    "import matplotlib.pyplot as plt\n",
    "from matplotlib.ticker import MaxNLocator\n",
    "from collections import namedtuple\n",
    "\n",
    "n_groups = 7\n",
    "\n",
    "precision = (decision_tree['Non-safe Driver']['precision'],\n",
    "             svc_scores['Non-safe Driver']['precision'],\n",
    "             sgd_scores['Non-safe Driver']['precision'],\n",
    "             svc_2_scores['Non-safe Driver']['precision'],\n",
    "             ridge_scores['Non-safe Driver']['precision'],\n",
    "             GB_scores['Non-safe Driver']['precision'],\n",
    "             XGB_scores['Non-safe Driver']['precision'])\n",
    "\n",
    "recall = (decision_tree['Non-safe Driver']['recall'],\n",
    "          svc_scores['Non-safe Driver']['recall'],\n",
    "          sgd_scores['Non-safe Driver']['recall'],\n",
    "          svc_2_scores['Non-safe Driver']['recall'],\n",
    "          ridge_scores['Non-safe Driver']['recall'],\n",
    "          GB_scores['Non-safe Driver']['recall'],\n",
    "          XGB_scores['Non-safe Driver']['recall'])\n",
    "\n",
    "fig, ax = plt.subplots()\n",
    "\n",
    "index = np.arange(n_groups)\n",
    "bar_width = 0.35\n",
    "\n",
    "opacity = 0.4\n",
    "error_config = {'ecolor': '0.3'}\n",
    "\n",
    "rects1 = ax.bar(index, precision, bar_width,\n",
    "                alpha=opacity, color='g',\n",
    "                error_kw=error_config,\n",
    "                label='Precision')\n",
    "\n",
    "rects2 = ax.bar(index + bar_width, recall, bar_width,\n",
    "                alpha=opacity, color='m',\n",
    "                error_kw=error_config,\n",
    "                label='Recall')\n",
    "\n",
    "ax.set_xlabel('Model')\n",
    "ax.set_ylabel('Scores')\n",
    "ax.set_title('Non-safe Driver scores by model and classification')\n",
    "ax.set_xticks(index + bar_width / 2)\n",
    "ax.set_xticklabels(('D-Tree', 'SVC', 'SGD', 'SVC-2', 'Ridge', 'GB', 'XGB'))\n",
    "ax.legend()\n",
    "\n",
    "fig.tight_layout()\n",
    "plt.show()"
   ]
  },
  {
   "cell_type": "code",
   "execution_count": 60,
   "metadata": {},
   "outputs": [
    {
     "data": {
      "image/png": "[encoded data removed]",
      "text/plain": [
       "<Figure size 432x288 with 1 Axes>"
      ]
     },
     "metadata": {},
     "output_type": "display_data"
    }
   ],
   "source": [
    "# Cross Validation scores that can be plotted for visuals\n",
    "\n",
    "import numpy as np\n",
    "import matplotlib.pyplot as plt\n",
    "from matplotlib.ticker import MaxNLocator\n",
    "from collections import namedtuple\n",
    "\n",
    "n_groups = 7\n",
    "\n",
    "cv_train = (dt_train_scores[0],\n",
    "            svc_train_score[0],\n",
    "            sgd_train_score[0],\n",
    "            svc_2_train_score[0],\n",
    "            ridge_train_score[0],\n",
    "            CLF_score[0],\n",
    "            XGB_train_score[0])\n",
    "\n",
    "cv_test = (dt_test_scores[0],\n",
    "           svc_test_score[0],\n",
    "           sgd_test_score[0],\n",
    "           svc_2_test_score[0],\n",
    "           ridge_test_score[0],\n",
    "           CLF_test_score[0],\n",
    "           XGB_test_score[0])\n",
    "\n",
    "fig, ax = plt.subplots()\n",
    "\n",
    "index = np.arange(n_groups)\n",
    "bar_width = 0.35\n",
    "\n",
    "opacity = 0.4\n",
    "error_config = {'ecolor': '0.3'}\n",
    "\n",
    "rects1 = ax.bar(index, cv_train, bar_width,\n",
    "                alpha=opacity, color='k',\n",
    "                error_kw=error_config,\n",
    "                label='CV on Training')\n",
    "\n",
    "rects2 = ax.bar(index + bar_width, cv_test, bar_width,\n",
    "                alpha=opacity, color='c',\n",
    "                error_kw=error_config,\n",
    "                label='CV on Test')\n",
    "\n",
    "ax.set_xlabel('Model')\n",
    "ax.set_ylabel('CV Scores')\n",
    "ax.set_title('CV scores by model')\n",
    "ax.set_xticks(index + bar_width / 2)\n",
    "ax.set_xticklabels(('D-Tree', 'SVC', 'SGD', 'SVC-2', 'Ridge', 'GB', 'XGB'))\n",
    "ax.legend()\n",
    "\n",
    "fig.tight_layout()\n",
    "plt.show()"
   ]
  },
  {
   "cell_type": "markdown",
   "metadata": {},
   "source": [
    "<h2>Conclusion</h2><br>\n",
    "This Capstone Project has allowed me the opportunity to explore some of the features that may explain how to rate drivers, who purchase insurance, based on their driving habits (miles driven annually), the type of vehicle they drive(Vehicle_Type), and other variables. I chose a dataset from Kaggle that was not tested or tried in any competition mainly because I did not wanted to be influenced by previous results.<br>\n",
    "\n",
    "This project allowed me to learn about and use data analysis. Data analysis is very useful for strengthening a model and avoiding a dataset's bias by combining their features.<br>\n",
    "\n",
    "All the models I tired were returning results in line with the sample dataset's distribution which, after balancing, had 50% each of my success and failure classes. The one exception is the GradientBoostingClassifier that is experiencing some overfitting.<br>\n",
    "\n",
    "With this project I got a good insight into how actuaries may be using the driver's data to find out good drivers and give them a discount in premium or penalize bad drivers with a higher premium. But the project is still incomplete and needs a lot more training data and a lot more tuning to arrive at better results. Hopefully, with the remaining modules in the boot camp, I may be able to gather better data on the same topic and tune it better.\n"
   ]
  }
 ],
 "metadata": {
  "kernelspec": {
   "display_name": "Python 3",
   "language": "python",
   "name": "python3"
  },
  "language_info": {
   "codemirror_mode": {
    "name": "ipython",
    "version": 3
   },
   "file_extension": ".py",
   "mimetype": "text/x-python",
   "name": "python",
   "nbconvert_exporter": "python",
   "pygments_lexer": "ipython3",
   "version": "3.7.1"
  }
 },
 "nbformat": 4,
 "nbformat_minor": 2
}
