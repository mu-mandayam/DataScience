{
 "cells": [
  {
   "cell_type": "code",
   "execution_count": 1,
   "metadata": {},
   "outputs": [],
   "source": [
    "import math\n",
    "import warnings\n",
    "\n",
    "from IPython.display import display\n",
    "from matplotlib import pyplot as plt\n",
    "import numpy as np\n",
    "import pandas as pd\n",
    "import seaborn as sns\n",
    "from sklearn import linear_model\n",
    "import statsmodels.formula.api as smf\n",
    "from scipy import stats\n",
    "\n",
    "# Display preferences.\n",
    "%matplotlib inline\n",
    "pd.options.display.float_format = '{:.3f}'.format\n",
    "\n",
    "# Suppress annoying harmless error.\n",
    "warnings.filterwarnings(\n",
    "    action=\"ignore\",\n",
    "    module=\"scipy\",\n",
    "    message=\"^internal gelsd\"\n",
    ")"
   ]
  },
  {
   "cell_type": "code",
   "execution_count": 2,
   "metadata": {},
   "outputs": [],
   "source": [
    "df = pd.read_excel('CA_Offenses_by_city_2013.xls', skip_rows=[0, 1, 2, 3], header=4, nrows=462)"
   ]
  },
  {
   "cell_type": "code",
   "execution_count": 3,
   "metadata": {},
   "outputs": [],
   "source": [
    "df.rename(columns={df.columns[10]: \"Larceny\"}, inplace=True)\n",
    "df.rename(columns={df.columns[11]: \"Auto\"}, inplace=True)\n",
    "df.rename(columns={df.columns[8]: \"Property crime\"}, inplace=True)\n",
    "df.fillna(0)\n",
    "df.drop(df.columns[[4]], axis=1, inplace=True)\n",
    "df['City'] = df['City'].astype(str)"
   ]
  },
  {
   "cell_type": "code",
   "execution_count": 4,
   "metadata": {},
   "outputs": [],
   "source": [
    "city = pd.get_dummies(df.City)\n",
    "df.drop(['City'], inplace=True, axis=1)\n",
    "df_merge = pd.concat([df, city], axis=1)\n",
    "df_merge.drop(df_merge.columns[3], axis=1, inplace=True)\n",
    "df_merge['Larceny'] = pd.to_numeric(df_merge['Larceny'])\n",
    "#df_merge.loc[df_merge.Murder1 > 0, 'Murder1'] = 1\n",
    "#df_merge.loc[df_merge.Robbery > 0, 'Robbery'] = 1"
   ]
  },
  {
   "cell_type": "code",
   "execution_count": 5,
   "metadata": {},
   "outputs": [],
   "source": [
    "df['Population**2'] = df['Population']**2"
   ]
  },
  {
   "cell_type": "code",
   "execution_count": 22,
   "metadata": {},
   "outputs": [
    {
     "name": "stdout",
     "output_type": "stream",
     "text": [
      "<class 'pandas.core.frame.DataFrame'>\n",
      "RangeIndex: 462 entries, 0 to 461\n",
      "Data columns (total 4 columns):\n",
      "Population       462 non-null int64\n",
      "Population**2    462 non-null int64\n",
      "Larceny          462 non-null int64\n",
      "Auto             462 non-null int64\n",
      "dtypes: int64(4)\n",
      "memory usage: 14.5 KB\n",
      "\n",
      "Coefficients: \n",
      " [[ 1.72822974e-03 -1.95093174e-10  1.07713929e+00  1.51947880e+00]]\n",
      "\n",
      "Intercept: \n",
      " [55.58128267]\n",
      "\n",
      "R-squared:\n",
      "0.9980677277384818\n"
     ]
    }
   ],
   "source": [
    "# Instantiate and fit our model.\n",
    "# Instantiate and fit our model.\n",
    "regr = linear_model.LinearRegression()\n",
    "Y = df['Property crime'].values.reshape(-1, 1)\n",
    "X = df[['Population','Population**2','Larceny', 'Auto']]\n",
    "regr.fit(X, Y)\n",
    "\n",
    "# Inspect the results.\n",
    "print('\\nCoefficients: \\n', regr.coef_)\n",
    "print('\\nIntercept: \\n', regr.intercept_)\n",
    "print('\\nR-squared:')\n",
    "print(regr.score(X, Y))"
   ]
  },
  {
   "cell_type": "code",
   "execution_count": 23,
   "metadata": {},
   "outputs": [],
   "source": [
    "from sklearn.cross_decomposition import PLSRegression"
   ]
  },
  {
   "cell_type": "code",
   "execution_count": 28,
   "metadata": {},
   "outputs": [
    {
     "name": "stdout",
     "output_type": "stream",
     "text": [
      "R-squared regression: 1.0\n",
      "R-squared PLSR: 0.9995131602720463\n"
     ]
    },
    {
     "data": {
      "image/png": "[encoded data removed]",
      "text/plain": [
       "<Figure size 432x288 with 1 Axes>"
      ]
     },
     "metadata": {
      "needs_background": "light"
     },
     "output_type": "display_data"
    }
   ],
   "source": [
    "y = X.iloc[:, 0] + 2 * X.iloc[:, 1] + np.random.normal(size=462 * 1) + 5\n",
    "\n",
    "# Fit a linear model with all 10 features.\n",
    "regr = linear_model.LinearRegression()\n",
    "regr.fit(X, y)\n",
    "\n",
    "# Save predicted values.\n",
    "Y_pred = regr.predict(X)\n",
    "print('R-squared regression:', regr.score(X, y))\n",
    "\n",
    "# Fit a linear model using Partial Least Squares Regression.\n",
    "# Reduce feature space to 3 dimensions.\n",
    "pls1 = PLSRegression(n_components=3)\n",
    "\n",
    "# Reduce X to R(X) and regress on y.\n",
    "pls1.fit(X, y)\n",
    "\n",
    "# Save predicted values.\n",
    "Y_PLS_pred = pls1.predict(X)\n",
    "print('R-squared PLSR:', pls1.score(X, y))\n",
    "\n",
    "# Compare the predictions of the two models\n",
    "#plt.xlim(0,1)\n",
    "plt.scatter(Y_pred,Y_PLS_pred) \n",
    "plt.xlabel('Predicted by original 4 features')\n",
    "plt.ylabel('Predicted by 2 features')\n",
    "plt.title('Comparing LR and PLSR predictions')\n",
    "plt.show()"
   ]
  },
  {
   "cell_type": "code",
   "execution_count": null,
   "metadata": {},
   "outputs": [],
   "source": []
  }
 ],
 "metadata": {
  "kernelspec": {
   "display_name": "Python 3",
   "language": "python",
   "name": "python3"
  },
  "language_info": {
   "codemirror_mode": {
    "name": "ipython",
    "version": 3
   },
   "file_extension": ".py",
   "mimetype": "text/x-python",
   "name": "python",
   "nbconvert_exporter": "python",
   "pygments_lexer": "ipython3",
   "version": "3.7.1"
  }
 },
 "nbformat": 4,
 "nbformat_minor": 2
}
