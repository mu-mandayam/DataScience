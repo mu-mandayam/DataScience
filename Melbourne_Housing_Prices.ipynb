{
 "cells": [
  {
   "cell_type": "code",
   "execution_count": 11,
   "metadata": {},
   "outputs": [],
   "source": [
    "import numpy as np\n",
    "import pandas as pd\n",
    "import scipy\n",
    "import matplotlib.pyplot as plt\n",
    "import seaborn as sns\n",
    "%matplotlib inline"
   ]
  },
  {
   "cell_type": "code",
   "execution_count": 12,
   "metadata": {},
   "outputs": [],
   "source": [
    "raw_data = pd.read_csv('MELBOURNE_HOUSE_PRICES_LESS.csv')"
   ]
  },
  {
   "cell_type": "code",
   "execution_count": 13,
   "metadata": {},
   "outputs": [
    {
     "name": "stdout",
     "output_type": "stream",
     "text": [
      "<class 'pandas.core.frame.DataFrame'>\n",
      "RangeIndex: 63023 entries, 0 to 63022\n",
      "Data columns (total 13 columns):\n",
      "Suburb           63023 non-null object\n",
      "Address          63023 non-null object\n",
      "Rooms            63023 non-null int64\n",
      "Type             63023 non-null object\n",
      "Price            48433 non-null float64\n",
      "Method           63023 non-null object\n",
      "SellerG          63023 non-null object\n",
      "Date             63023 non-null object\n",
      "Postcode         63023 non-null int64\n",
      "Regionname       63023 non-null object\n",
      "Propertycount    63023 non-null int64\n",
      "Distance         63023 non-null float64\n",
      "CouncilArea      63023 non-null object\n",
      "dtypes: float64(2), int64(3), object(8)\n",
      "memory usage: 6.3+ MB\n"
     ]
    }
   ],
   "source": [
    "raw_data.info()"
   ]
  },
  {
   "cell_type": "code",
   "execution_count": 14,
   "metadata": {},
   "outputs": [],
   "source": [
    "# Drop columns such as Address that really do not play any role in the price of the house\n",
    "\n",
    "columns_to_drop = ['Address', 'SellerG', 'Postcode', 'Method', 'Regionname', 'CouncilArea', 'Type', 'Date']\n",
    "raw_data.drop(columns_to_drop, axis=1, inplace=True)"
   ]
  },
  {
   "cell_type": "code",
   "execution_count": 15,
   "metadata": {},
   "outputs": [],
   "source": [
    "# Looking at the data we can model the housing prices with the following linear equation:\n",
    "#\n",
    "#   Housing Price = function(Suburb, Rooms, Propertycount, Distance)\n",
    "#\n",
    "# Distance ----> because the farther away from CBD the price will be less\n",
    "# Propertycount -----> because the more number of unsold properties the price will be lower\n",
    "# But, Distance and Propertycount can be treated as a categorical data\n",
    "#\n",
    "\n",
    "# Columns to keep:\n",
    "#     Suburb - converted to numeric with dummies\n",
    "#     Rooms\n",
    "#     Price\n",
    "#     Propertycount\n",
    "#     Distance\n",
    "\n",
    "\n",
    "# Rows with NaN must be dropped, as they may give skewed results, especially in the Price column"
   ]
  },
  {
   "cell_type": "code",
   "execution_count": 16,
   "metadata": {},
   "outputs": [],
   "source": [
    "raw_data['Suburb'] = raw_data['Suburb'].astype(str)\n",
    "suburb = pd.get_dummies(raw_data.Suburb)\n",
    "raw_data.drop(['Suburb'], inplace=True, axis=1)\n",
    "raw_data = pd.concat([raw_data, suburb], axis=1)\n",
    "raw_data.drop(raw_data.columns[0], axis=1, inplace=True)"
   ]
  },
  {
   "cell_type": "code",
   "execution_count": 17,
   "metadata": {},
   "outputs": [],
   "source": [
    "# Fill any NaN values to zeros\n",
    "\n",
    "raw_data.fillna(0, inplace=True)"
   ]
  },
  {
   "cell_type": "code",
   "execution_count": 18,
   "metadata": {},
   "outputs": [],
   "source": [
    "# Create our feature set and label data\n",
    "\n",
    "# Try first with 10,000 rows of X and Y as I am running out of capacity on my local machine\n",
    "\n",
    "X = raw_data.drop(['Price'], axis=1).head(10000)\n",
    "y = raw_data['Price'].head(10000)"
   ]
  },
  {
   "cell_type": "code",
   "execution_count": 19,
   "metadata": {},
   "outputs": [],
   "source": [
    "from sklearn.model_selection import train_test_split\n",
    "\n",
    "# test_size: The split between test and train is 75-25 approximately\n",
    "\n",
    "X_train, X_test, y_train, y_test = train_test_split(X, y, test_size=1/4, random_state=0)"
   ]
  },
  {
   "cell_type": "code",
   "execution_count": 27,
   "metadata": {},
   "outputs": [
    {
     "name": "stdout",
     "output_type": "stream",
     "text": [
      "\n",
      "Coefficients: \n",
      " [-4.38912661e+00 -1.13954698e+04 -2.40961953e+04  3.85673084e+05\n",
      " -3.83916448e+04 -6.18043833e+05  5.46223905e+05 -1.37281021e+05\n",
      "  5.90061925e+05  1.19480138e+05 -1.70465775e+05 -1.66339615e+05\n",
      " -1.64497544e+05  4.23701914e+05  8.94479469e+04  5.85123568e+05\n",
      "  5.91443721e+04  7.41237988e+04  3.58157050e+05 -2.02247064e+05\n",
      " -6.69523969e+04  0.00000000e+00  0.00000000e+00  1.69372347e+05\n",
      "  6.82373357e+05  4.37111823e+05  1.45368440e+04 -2.31862671e+05\n",
      "  1.40343403e+05  0.00000000e+00  6.28272550e+05  0.00000000e+00\n",
      "  0.00000000e+00  0.00000000e+00 -3.96853532e+05  3.30225443e+05\n",
      "  1.79553308e+05  9.62035156e+04  4.88849947e+05  3.35179602e+05\n",
      "  2.01927559e+05  2.21181985e+04  5.42610036e+04 -2.16774417e+04\n",
      "  0.00000000e+00  2.00920616e+05 -2.01957579e+05  4.03036556e+03\n",
      "  5.61719642e+05  3.30237586e+05 -2.59104097e+05  0.00000000e+00\n",
      " -3.06162015e+05  9.04698703e+04 -3.43546949e+04 -1.23633264e+05\n",
      "  0.00000000e+00  2.87712749e+05  0.00000000e+00 -1.70946740e+05\n",
      "  3.13206203e+05 -1.22109082e+05 -2.34929008e+05  8.73462577e+04\n",
      "  1.83515229e+05 -2.01988384e+05  3.70420271e+05 -2.74234503e+05\n",
      "  2.86237083e+05  2.05380575e+05  2.38534743e+05 -1.04846815e+05\n",
      " -1.83328195e+05  1.52653268e+05 -3.55228203e+04  0.00000000e+00\n",
      " -1.85187566e+04  3.60408507e+05  9.94936878e+04  1.24038182e+05\n",
      " -5.76265137e+04 -6.69580348e+04 -4.42517484e+02  2.32687560e+05\n",
      " -3.61464422e+05 -2.68967730e+05  3.96339667e+03 -3.06472843e+04\n",
      " -3.42415151e+04 -4.82984125e+04  3.22358348e+05 -1.39337751e+04\n",
      " -9.00773157e+04  0.00000000e+00  0.00000000e+00 -7.31657285e+04\n",
      " -9.93508092e+04 -1.45483954e+05 -4.85174014e+04  7.55808491e+04\n",
      " -1.55521246e+05  0.00000000e+00  6.00353359e+04  2.47562755e+05\n",
      " -5.44944037e+04  2.95263904e+05  2.93194862e+04  1.58740528e+04\n",
      " -3.19587473e+05 -1.64907113e+05 -1.33480037e+05  0.00000000e+00\n",
      "  1.19379062e+06 -3.80014668e+05 -1.88289717e+05  4.83876963e+04\n",
      " -1.76755219e+05 -1.01714123e+05  3.23102878e+05 -8.30952085e+05\n",
      "  0.00000000e+00  3.82938499e+05  2.95232933e+05  4.94044039e+05\n",
      " -2.80692641e+04 -1.00119048e+05  1.06779339e+05  8.42286139e+05\n",
      "  2.07925928e+05  1.90252690e+05 -4.38117824e+04  2.89011188e+04\n",
      " -2.22658965e+05 -2.06157490e+05 -2.04870770e+04 -1.17205278e+05\n",
      "  2.17749887e+05 -1.03194032e+05  1.18781468e+05  9.99964661e+03\n",
      " -9.99908264e+04  2.19307856e+05 -8.63755855e+04 -8.06322500e+03\n",
      "  1.54502029e+05 -1.80658212e+05  2.96369592e+05 -1.43733966e+05\n",
      " -1.99193707e+05  5.45611932e+04  7.07824589e+04 -2.64747104e+04\n",
      "  1.92242050e+05 -7.80924185e+05 -3.25677118e+05  3.80679393e+05\n",
      "  3.50009548e+05 -9.08955205e+04  5.11259545e+04  4.91396154e+05\n",
      "  1.61812873e+05 -1.03948025e+05 -1.06425547e+05 -6.93388917e+04\n",
      "  5.38983696e+04  0.00000000e+00 -9.91461842e+04  1.83620976e+05\n",
      "  6.11055857e+05  2.54606159e+03 -4.52609589e+05  0.00000000e+00\n",
      "  1.88664777e+05  3.05274714e+05 -3.19870272e+05 -4.96291641e+04\n",
      " -3.73986046e+04 -1.22755644e+05 -2.09193703e+05  6.62833576e+04\n",
      " -4.09035107e+04  0.00000000e+00 -1.74048939e+05  2.16345028e+05\n",
      " -1.66405234e+05  0.00000000e+00  3.29141958e+05  7.75590006e+05\n",
      " -2.46821416e+05  0.00000000e+00  0.00000000e+00  0.00000000e+00\n",
      " -2.41253054e+05  0.00000000e+00 -5.89466254e+04 -6.62819714e+04\n",
      " -3.59558778e+05 -7.84910431e+04 -1.22518410e+05  3.33477823e+05\n",
      "  3.72708561e+05 -1.02838059e+04  5.39384790e+03  3.16189192e+05\n",
      " -2.52419606e+05 -2.82036327e+05 -7.42011949e+04  1.12975952e+05\n",
      " -7.96352774e+05 -2.12234403e+05 -1.52945138e+05  2.19673033e+05\n",
      " -2.84089770e+05 -1.10668215e+05  1.91561439e+05  1.18543069e+05\n",
      "  0.00000000e+00  0.00000000e+00  0.00000000e+00  1.20855998e+04\n",
      "  0.00000000e+00  0.00000000e+00 -1.88176540e+05  4.28827321e+05\n",
      "  4.48285302e+05 -2.40736357e+05 -6.04291167e+04  5.39613730e+05\n",
      " -3.04024099e+05 -2.33554452e+05 -1.40590614e+05 -2.32477008e+05\n",
      " -2.34771417e+05  2.55231937e+05  0.00000000e+00 -6.15616404e+04\n",
      " -2.97003612e+04  6.43271156e+05 -9.04791076e+04  9.78721854e+04\n",
      "  0.00000000e+00  5.62210091e+05  7.81550548e+04 -5.26183739e+05\n",
      "  2.08285742e+05  1.85458242e+05 -1.50393444e+05  2.03684824e+05\n",
      "  0.00000000e+00  0.00000000e+00  2.43353722e+05 -4.14965695e+04\n",
      "  6.53195014e+04  8.03726089e+04  5.52199770e+05  8.43837588e+04\n",
      "  1.52729204e+05 -2.24070169e+05  1.60547168e+04  4.50522747e+05\n",
      "  1.46442534e+05  4.86577309e+05  2.32897833e+05 -1.58918946e+05\n",
      "  0.00000000e+00 -1.06231308e+05  6.57780223e+04 -3.65809245e+04\n",
      "  0.00000000e+00  0.00000000e+00  3.56950067e+05  1.27757603e+05\n",
      "  0.00000000e+00  0.00000000e+00  1.34950210e+05  4.66603705e+05\n",
      " -4.91357384e+04 -9.73540788e+03  5.16018831e+05 -6.32856068e+05\n",
      "  6.93661785e+03 -2.80273650e+05  2.51268137e+05  5.11150405e+04\n",
      "  9.87417220e+04  3.32909689e+05 -3.59079905e+05 -4.22035888e+04\n",
      "  1.47802083e+05  5.70538676e+04  5.90448904e+04  1.25605571e+05\n",
      " -1.65348764e+05 -9.19145061e+04 -9.74183069e+03 -3.04696882e+05\n",
      "  1.42923684e+04 -2.59794495e+05  5.86611266e+04  4.63794396e+05\n",
      "  2.30546481e+05 -2.42940876e+05  0.00000000e+00  3.36899342e+05\n",
      "  1.74948515e+05  0.00000000e+00  0.00000000e+00  6.04538727e+04\n",
      " -8.66778815e+04  1.71784247e+05 -1.10668964e+05  4.33294795e+04\n",
      " -3.08761536e+05 -4.51080469e+04 -5.32573837e+04 -1.92256699e+05\n",
      " -2.75783032e+05 -1.02832247e+05 -6.56862936e+04  1.38202097e+05\n",
      " -8.79984723e+04  0.00000000e+00 -1.73014543e+03 -1.31632243e+05\n",
      " -2.66796408e+05  2.87432394e+05 -1.15874331e+05 -2.26755717e+05\n",
      " -1.11940730e+05  2.89739301e+04  3.30921071e+05  5.81839355e+05\n",
      "  2.84762230e+05 -1.87005354e+03 -2.01702113e+05 -4.86846584e+04\n",
      "  0.00000000e+00  2.86963344e+05 -8.11697480e+05 -3.10946003e+05\n",
      " -1.58597240e+05 -5.20055870e+05  1.38114580e+05 -5.58611527e+04\n",
      "  4.39988148e+04  5.31182395e+04  6.81764888e+05  1.33895242e+04\n",
      " -1.02162605e+05  0.00000000e+00  0.00000000e+00  2.67120471e+05\n",
      "  0.00000000e+00 -1.48794856e+05  0.00000000e+00  3.96099762e+04\n",
      " -3.55814429e+05  5.37435545e+05 -2.26717705e+05  0.00000000e+00\n",
      " -9.11062299e+03 -1.22795403e+05 -2.01812363e+05  1.55014053e+05\n",
      "  0.00000000e+00  0.00000000e+00 -1.45981229e+05  7.32125179e+05\n",
      " -2.62306087e+05  2.71236287e+04 -5.84143499e+04  0.00000000e+00\n",
      "  0.00000000e+00 -1.45547210e+05  2.09249152e+05  0.00000000e+00\n",
      "  0.00000000e+00  0.00000000e+00  0.00000000e+00  8.63253012e+04\n",
      "  0.00000000e+00  0.00000000e+00]\n",
      "\n",
      "Intercept: \n",
      " 869815.3613308143\n",
      "\n",
      "R-squared:\n",
      "0.15504910087989876\n"
     ]
    }
   ],
   "source": [
    "from sklearn import linear_model\n",
    "\n",
    "# Fit Lasso regression model\n",
    "\n",
    "regr = linear_model.Lasso(alpha=0.6, copy_X=True, fit_intercept=True, max_iter=30000,\n",
    "   normalize=False, positive=False, precompute=False, random_state=None,\n",
    "   selection='cyclic', tol=0.0001, warm_start=False)\n",
    "\n",
    "regr.fit(X_train, y_train)\n",
    "\n",
    "# Inspect the results.\n",
    "print('\\nCoefficients: \\n', regr.coef_)\n",
    "print('\\nIntercept: \\n', regr.intercept_)\n",
    "print('\\nR-squared:')\n",
    "print(regr.score(X_train, y_train))"
   ]
  },
  {
   "cell_type": "code",
   "execution_count": 29,
   "metadata": {},
   "outputs": [],
   "source": [
    "# Predict values for training data set\n",
    "\n",
    "predict_train = regr.predict(X_train)\n",
    "\n",
    "# Residual values on training set\n",
    "\n",
    "residual_train = y_train - predict_train"
   ]
  },
  {
   "cell_type": "code",
   "execution_count": 34,
   "metadata": {},
   "outputs": [
    {
     "data": {
      "text/plain": [
       "<matplotlib.collections.PathCollection at 0x123525b70>"
      ]
     },
     "execution_count": 34,
     "metadata": {},
     "output_type": "execute_result"
    },
    {
     "data": {
      "image/png": "[encoded data removed]",
      "text/plain": [
       "<Figure size 432x288 with 1 Axes>"
      ]
     },
     "metadata": {
      "needs_background": "light"
     },
     "output_type": "display_data"
    }
   ],
   "source": [
    "# Plot original and predicted values on training dataset\n",
    "\n",
    "plt.xlabel('Predicted Data')\n",
    "plt.ylabel('Residual Data')\n",
    "plt.title('Housing Price Analysis - Training Dataset')\n",
    "plt.scatter(predict_train, residual_train)"
   ]
  },
  {
   "cell_type": "code",
   "execution_count": 31,
   "metadata": {},
   "outputs": [],
   "source": [
    "# Predict on test data\n",
    "\n",
    "predict_test = regr.predict(X_test)\n",
    "\n",
    "# Residual on test set\n",
    "residual_test = y_test - predict_test"
   ]
  },
  {
   "cell_type": "code",
   "execution_count": 33,
   "metadata": {},
   "outputs": [
    {
     "data": {
      "text/plain": [
       "<matplotlib.collections.PathCollection at 0x1234c5588>"
      ]
     },
     "execution_count": 33,
     "metadata": {},
     "output_type": "execute_result"
    },
    {
     "data": {
      "image/png": "[encoded data removed]",
      "text/plain": [
       "<Figure size 432x288 with 1 Axes>"
      ]
     },
     "metadata": {
      "needs_background": "light"
     },
     "output_type": "display_data"
    }
   ],
   "source": [
    "# Plot original and predicted values for test set\n",
    "\n",
    "plt.xlabel('Fitted Data')\n",
    "plt.ylabel('Residual Data')\n",
    "plt.title('Housing Price Analysis - Test dataset')\n",
    "plt.scatter(predict_test, residual_test)"
   ]
  },
  {
   "cell_type": "code",
   "execution_count": 40,
   "metadata": {},
   "outputs": [
    {
     "data": {
      "text/plain": [
       "<matplotlib.axes._subplots.AxesSubplot at 0x1289bc9b0>"
      ]
     },
     "execution_count": 40,
     "metadata": {},
     "output_type": "execute_result"
    },
    {
     "data": {
      "image/png": "[encoded data removed]",
      "text/plain": [
       "<Figure size 432x288 with 1 Axes>"
      ]
     },
     "metadata": {
      "needs_background": "light"
     },
     "output_type": "display_data"
    }
   ],
   "source": [
    "sns.distplot((y_train-predict_train),bins=20)"
   ]
  },
  {
   "cell_type": "code",
   "execution_count": 41,
   "metadata": {},
   "outputs": [
    {
     "data": {
      "text/plain": [
       "<matplotlib.axes._subplots.AxesSubplot at 0x128b60438>"
      ]
     },
     "execution_count": 41,
     "metadata": {},
     "output_type": "execute_result"
    },
    {
     "data": {
      "image/png": "[encoded data removed]",
      "text/plain": [
       "<Figure size 432x288 with 1 Axes>"
      ]
     },
     "metadata": {
      "needs_background": "light"
     },
     "output_type": "display_data"
    }
   ],
   "source": [
    "sns.distplot((y_test-predict_test),bins=20)"
   ]
  },
  {
   "cell_type": "code",
   "execution_count": null,
   "metadata": {},
   "outputs": [],
   "source": []
  }
 ],
 "metadata": {
  "kernelspec": {
   "display_name": "Python 3",
   "language": "python",
   "name": "python3"
  },
  "language_info": {
   "codemirror_mode": {
    "name": "ipython",
    "version": 3
   },
   "file_extension": ".py",
   "mimetype": "text/x-python",
   "name": "python",
   "nbconvert_exporter": "python",
   "pygments_lexer": "ipython3",
   "version": "3.7.1"
  }
 },
 "nbformat": 4,
 "nbformat_minor": 2
}
