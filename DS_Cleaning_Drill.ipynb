{
 "cells": [
  {
   "cell_type": "code",
   "execution_count": 483,
   "metadata": {},
   "outputs": [],
   "source": [
    "import pandas as pd\n",
    "import numpy as np\n",
    "import re \n",
    "pd.set_option('display.max_columns', None)\n",
    "pd.set_option('display.max_rows', None)"
   ]
  },
  {
   "cell_type": "code",
   "execution_count": 484,
   "metadata": {},
   "outputs": [],
   "source": [
    "#\n",
    "# Read the data from CSV. Due to encoding discrepancies between UTF-8 and UTF-16 in the file\n",
    "# use the 'engine=\"python\"' parameter to read the data with proper encoding\n",
    "#\n",
    "journals_df = pd.read_csv('apcspend2013.csv', engine='python')"
   ]
  },
  {
   "cell_type": "code",
   "execution_count": 485,
   "metadata": {},
   "outputs": [
    {
     "name": "stdout",
     "output_type": "stream",
     "text": [
      "<class 'pandas.core.frame.DataFrame'>\n",
      "RangeIndex: 2127 entries, 0 to 2126\n",
      "Data columns (total 5 columns):\n",
      "PMID/PMCID                                             1928 non-null object\n",
      "Publisher                                              2127 non-null object\n",
      "Journal title                                          2126 non-null object\n",
      "Article title                                          2127 non-null object\n",
      "COST (�) charged to Wellcome (inc VAT when charged)    2127 non-null object\n",
      "dtypes: object(5)\n",
      "memory usage: 83.2+ KB\n"
     ]
    }
   ],
   "source": [
    "# \n",
    "#Check how many records are there in the dataset and how many are NULL records\n",
    "#\n",
    "journals_df.info()"
   ]
  },
  {
   "cell_type": "code",
   "execution_count": 486,
   "metadata": {},
   "outputs": [],
   "source": [
    "#\n",
    "# Since we are aggregating based on the 'Journal title' column we drop any record with a NULL value in that column\n",
    "#\n",
    "journals_df.dropna(subset=['Journal title'], inplace=True)"
   ]
  },
  {
   "cell_type": "code",
   "execution_count": 487,
   "metadata": {},
   "outputs": [],
   "source": [
    "#\n",
    "# Convert all the columns to upper case to get uniformity in names\n",
    "#\n",
    "journals_upper_case = journals_df.apply(lambda x: x.astype(str).str.upper())\n",
    "#\n",
    "# Renaming the long key name of cost to a shorter 'COST'\n",
    "#\n",
    "journals_upper_case.rename(index=str, \\\n",
    "                           columns={\"COST (�) charged to Wellcome (inc VAT when charged)\": \"Cost\"}, inplace=True)\n",
    "#\n",
    "# Remove the currency character to calculate the median and other values\n",
    "#"
   ]
  },
  {
   "cell_type": "code",
   "execution_count": 488,
   "metadata": {},
   "outputs": [],
   "source": [
    "#\n",
    "# Create a new column called 'currency' to extract the leading currency character and convert the amount to a float\n",
    "#sub = '£'\n",
    "#journals_upper_case['indexes'] = journals_upper_case['Cost'].str.find(sub)\n",
    "#sub = '$'\n",
    "#journals_upper_case['indexes'] = journals_upper_case['Cost'].str.find(sub)\n",
    "#journals_upper_case['currency'] = journals_upper_case['Cost'].astype(str).str[0]\n",
    "#journals_upper_case['Cost'] = journals_upper_case['Cost'].str[1:]"
   ]
  },
  {
   "cell_type": "code",
   "execution_count": 489,
   "metadata": {},
   "outputs": [],
   "source": [
    "#\n",
    "# Create a new column called 'currency' to extract the leading or trainling currency character\n",
    "#\n",
    "journals_upper_case['currency'] = journals_upper_case['Cost'].apply(lambda x: re.findall(r'[^0-9\\.]', x))"
   ]
  },
  {
   "cell_type": "code",
   "execution_count": 490,
   "metadata": {},
   "outputs": [],
   "source": [
    "#\n",
    "# Strip the digits only, from the Cost column\n",
    "#\n",
    "journals_upper_case['Cost'] = journals_upper_case['Cost'].apply\\\n",
    "                              (lambda x: ''.join(list(filter(str.isdigit, str(x)))))"
   ]
  },
  {
   "cell_type": "code",
   "execution_count": 491,
   "metadata": {},
   "outputs": [],
   "source": [
    "#\n",
    "# and convert the amount to a float\n",
    "#\n",
    "journals_upper_case['Cost'] = pd.to_numeric(journals_upper_case['Cost'], downcast='float')\n",
    "#\n",
    "# The .isdigit method extracts all digits from Cost column and ignores the decimal places. To take it to \n",
    "# original cost values the converted column must be divided by 100\n",
    "journals_upper_case['Cost'] = journals_upper_case['Cost'].div(100.0).round(2)"
   ]
  },
  {
   "cell_type": "code",
   "execution_count": 492,
   "metadata": {},
   "outputs": [],
   "source": [
    "# Sort the 'Journal title' column by its value\n",
    "#\n",
    "#journals_upper_case.sort_values(\"Journal title\", inplace=True)"
   ]
  },
  {
   "cell_type": "code",
   "execution_count": 493,
   "metadata": {},
   "outputs": [],
   "source": [
    "#\n",
    "# Count the occurences of each journal title. The first 5 entries in the new array are the 5 most common journal \n",
    "# The occurence count will tells us total articles published by each journal title\n",
    "#\n",
    "jl_title_occurence = journals_upper_case[\"Journal title\"].value_counts().head()\n",
    "#\n",
    "# Use the entries from the occurences count list and index it to our journals_upper_case array to aggregate the \n",
    "# cost and calculate median, mode and SD. \n",
    "# Make sure to check if the cost is in USD or GBP from the newly added column 'currency', use an exchange rate and\n",
    "# convert the costs to a signle currency of your choice"
   ]
  },
  {
   "cell_type": "code",
   "execution_count": 499,
   "metadata": {},
   "outputs": [],
   "source": [
    "# Store the key values of the journal title in a list to iterate\n",
    "top_5 = jl_title_occurence.keys()"
   ]
  },
  {
   "cell_type": "code",
   "execution_count": 495,
   "metadata": {},
   "outputs": [],
   "source": [
    "#\n",
    "# Use the groupby function to aggregate the cost value\n",
    "#\n",
    "journal_title = journals_upper_case.groupby(['Journal title'])"
   ]
  },
  {
   "cell_type": "code",
   "execution_count": 522,
   "metadata": {},
   "outputs": [],
   "source": [
    "#\n",
    "# Create a new dataframe to calculate and store the mean, median and std. deviation of the top 5 titles\n",
    "columns = ['Mean', 'Median', 'Std. Deviation']\n",
    "df_final_values = pd.DataFrame(index=top_5, columns=columns)\n",
    "# Convert the data type to float\n",
    "df_final_values = df_final_values.apply(pd.to_numeric)"
   ]
  },
  {
   "cell_type": "code",
   "execution_count": 531,
   "metadata": {},
   "outputs": [],
   "source": [
    "#\n",
    "# Iterate with the keys from top_5 titles and calculate the values\n",
    "for keys in top_5:\n",
    "    df_final_values.at[keys, 'Mean'] = journal_title.get_group(keys).mean()\n",
    "    df_final_values.at[keys, 'Median'] = journal_title.get_group(keys).median()\n",
    "    df_final_values.at[keys, 'Std. Deviation'] = journal_title.get_group(keys).std()"
   ]
  },
  {
   "cell_type": "code",
   "execution_count": 532,
   "metadata": {},
   "outputs": [
    {
     "data": {
      "text/html": [
       "<div>\n",
       "<style scoped>\n",
       "    .dataframe tbody tr th:only-of-type {\n",
       "        vertical-align: middle;\n",
       "    }\n",
       "\n",
       "    .dataframe tbody tr th {\n",
       "        vertical-align: top;\n",
       "    }\n",
       "\n",
       "    .dataframe thead th {\n",
       "        text-align: right;\n",
       "    }\n",
       "</style>\n",
       "<table border=\"1\" class=\"dataframe\">\n",
       "  <thead>\n",
       "    <tr style=\"text-align: right;\">\n",
       "      <th></th>\n",
       "      <th>Mean</th>\n",
       "      <th>Median</th>\n",
       "      <th>Std. Deviation</th>\n",
       "    </tr>\n",
       "  </thead>\n",
       "  <tbody>\n",
       "    <tr>\n",
       "      <th>PLOS ONE</th>\n",
       "      <td>38751.285156</td>\n",
       "      <td>898.474976</td>\n",
       "      <td>189009.515625</td>\n",
       "    </tr>\n",
       "    <tr>\n",
       "      <th>JOURNAL OF BIOLOGICAL CHEMISTRY</th>\n",
       "      <td>20264.634766</td>\n",
       "      <td>1314.530029</td>\n",
       "      <td>137165.500000</td>\n",
       "    </tr>\n",
       "    <tr>\n",
       "      <th>NEUROIMAGE</th>\n",
       "      <td>2215.168457</td>\n",
       "      <td>2326.429932</td>\n",
       "      <td>266.653961</td>\n",
       "    </tr>\n",
       "    <tr>\n",
       "      <th>PLOS PATHOGENS</th>\n",
       "      <td>84660.882812</td>\n",
       "      <td>1600.520020</td>\n",
       "      <td>281921.031250</td>\n",
       "    </tr>\n",
       "    <tr>\n",
       "      <th>PLOS GENETICS</th>\n",
       "      <td>84839.445312</td>\n",
       "      <td>1718.390015</td>\n",
       "      <td>281865.718750</td>\n",
       "    </tr>\n",
       "  </tbody>\n",
       "</table>\n",
       "</div>"
      ],
      "text/plain": [
       "                                         Mean       Median  Std. Deviation\n",
       "PLOS ONE                         38751.285156   898.474976   189009.515625\n",
       "JOURNAL OF BIOLOGICAL CHEMISTRY  20264.634766  1314.530029   137165.500000\n",
       "NEUROIMAGE                        2215.168457  2326.429932      266.653961\n",
       "PLOS PATHOGENS                   84660.882812  1600.520020   281921.031250\n",
       "PLOS GENETICS                    84839.445312  1718.390015   281865.718750"
      ]
     },
     "execution_count": 532,
     "metadata": {},
     "output_type": "execute_result"
    }
   ],
   "source": [
    "df_final_values"
   ]
  },
  {
   "cell_type": "code",
   "execution_count": null,
   "metadata": {},
   "outputs": [],
   "source": []
  }
 ],
 "metadata": {
  "kernelspec": {
   "display_name": "Python 3",
   "language": "python",
   "name": "python3"
  },
  "language_info": {
   "codemirror_mode": {
    "name": "ipython",
    "version": 3
   },
   "file_extension": ".py",
   "mimetype": "text/x-python",
   "name": "python",
   "nbconvert_exporter": "python",
   "pygments_lexer": "ipython3",
   "version": "3.7.1"
  }
 },
 "nbformat": 4,
 "nbformat_minor": 2
}
