{
 "cells": [
  {
   "cell_type": "code",
   "execution_count": 107,
   "metadata": {},
   "outputs": [],
   "source": [
    "import pandas as pd\n",
    "import numpy as np\n",
    "import matplotlib.pyplot as plt\n",
    "%matplotlib inline\n",
    "from sklearn.model_selection import train_test_split"
   ]
  },
  {
   "cell_type": "code",
   "execution_count": 108,
   "metadata": {},
   "outputs": [],
   "source": [
    "# Replace the path with the correct path for your data.\n",
    "safe_driver = pd.read_excel(\n",
    "    'IT_3.xlsx')"
   ]
  },
  {
   "cell_type": "code",
   "execution_count": 109,
   "metadata": {},
   "outputs": [
    {
     "name": "stdout",
     "output_type": "stream",
     "text": [
      "<class 'pandas.core.frame.DataFrame'>\n",
      "RangeIndex: 30240 entries, 0 to 30239\n",
      "Data columns (total 17 columns):\n",
      "ID                              30240 non-null int64\n",
      "target                          30240 non-null int64\n",
      "Gender                          30240 non-null object\n",
      "EngineHP                        30240 non-null int64\n",
      "credit_history                  30240 non-null int64\n",
      "Years_Experience                30240 non-null int64\n",
      "annual_claims                   30240 non-null int64\n",
      "Marital_Status                  30240 non-null object\n",
      "Vehicle_Type                    30240 non-null object\n",
      "Miles_driven_annually           30232 non-null float64\n",
      "size_of_family                  30240 non-null int64\n",
      "Age_bucket                      30240 non-null object\n",
      "EngineHP_bucket                 30240 non-null object\n",
      "Years_Experience_bucket         30240 non-null object\n",
      "Miles_driven_annually_bucket    30232 non-null object\n",
      "credit_history_bucket           30240 non-null object\n",
      "State                           30240 non-null object\n",
      "dtypes: float64(1), int64(7), object(9)\n",
      "memory usage: 3.9+ MB\n"
     ]
    }
   ],
   "source": [
    "safe_driver.info()"
   ]
  },
  {
   "cell_type": "code",
   "execution_count": 110,
   "metadata": {},
   "outputs": [
    {
     "name": "stdout",
     "output_type": "stream",
     "text": [
      "Gender\n",
      "2\n",
      "Marital_Status\n",
      "2\n",
      "Vehicle_Type\n",
      "4\n",
      "Age_bucket\n",
      "5\n",
      "EngineHP_bucket\n",
      "4\n",
      "Years_Experience_bucket\n",
      "5\n",
      "Miles_driven_annually_bucket\n",
      "3\n",
      "credit_history_bucket\n",
      "5\n",
      "State\n",
      "50\n"
     ]
    }
   ],
   "source": [
    "categorical = safe_driver.select_dtypes(include=['object'])\n",
    "for i in categorical:\n",
    "    column = categorical[i]\n",
    "    print(i)\n",
    "    print(column.nunique())"
   ]
  },
  {
   "cell_type": "code",
   "execution_count": 111,
   "metadata": {},
   "outputs": [],
   "source": [
    "# Drop other columns with many unique variables\n",
    "safe_driver.drop(['Age_bucket', 'EngineHP_bucket', 'Years_Experience_bucket', \\\n",
    "            'Miles_driven_annually_bucket'], 1, inplace=True)"
   ]
  },
  {
   "cell_type": "code",
   "execution_count": 112,
   "metadata": {},
   "outputs": [
    {
     "data": {
      "text/html": [
       "<div>\n",
       "<style scoped>\n",
       "    .dataframe tbody tr th:only-of-type {\n",
       "        vertical-align: middle;\n",
       "    }\n",
       "\n",
       "    .dataframe tbody tr th {\n",
       "        vertical-align: top;\n",
       "    }\n",
       "\n",
       "    .dataframe thead th {\n",
       "        text-align: right;\n",
       "    }\n",
       "</style>\n",
       "<table border=\"1\" class=\"dataframe\">\n",
       "  <thead>\n",
       "    <tr style=\"text-align: right;\">\n",
       "      <th></th>\n",
       "      <th>ID</th>\n",
       "      <th>target</th>\n",
       "      <th>Gender</th>\n",
       "      <th>EngineHP</th>\n",
       "      <th>credit_history</th>\n",
       "      <th>Years_Experience</th>\n",
       "      <th>annual_claims</th>\n",
       "      <th>Marital_Status</th>\n",
       "      <th>Vehicle_Type</th>\n",
       "      <th>Miles_driven_annually</th>\n",
       "      <th>size_of_family</th>\n",
       "      <th>credit_history_bucket</th>\n",
       "      <th>State</th>\n",
       "    </tr>\n",
       "  </thead>\n",
       "  <tbody>\n",
       "    <tr>\n",
       "      <th>30235</th>\n",
       "      <td>30236</td>\n",
       "      <td>1</td>\n",
       "      <td>F</td>\n",
       "      <td>398</td>\n",
       "      <td>491</td>\n",
       "      <td>6</td>\n",
       "      <td>3</td>\n",
       "      <td>Single</td>\n",
       "      <td>Truck</td>\n",
       "      <td>14509.0</td>\n",
       "      <td>2</td>\n",
       "      <td>Very Poor</td>\n",
       "      <td>VT</td>\n",
       "    </tr>\n",
       "    <tr>\n",
       "      <th>30236</th>\n",
       "      <td>30237</td>\n",
       "      <td>0</td>\n",
       "      <td>M</td>\n",
       "      <td>128</td>\n",
       "      <td>745</td>\n",
       "      <td>22</td>\n",
       "      <td>4</td>\n",
       "      <td>Single</td>\n",
       "      <td>Utility</td>\n",
       "      <td>8597.0</td>\n",
       "      <td>6</td>\n",
       "      <td>Very Good</td>\n",
       "      <td>OK</td>\n",
       "    </tr>\n",
       "    <tr>\n",
       "      <th>30237</th>\n",
       "      <td>30238</td>\n",
       "      <td>0</td>\n",
       "      <td>M</td>\n",
       "      <td>89</td>\n",
       "      <td>523</td>\n",
       "      <td>4</td>\n",
       "      <td>1</td>\n",
       "      <td>Married</td>\n",
       "      <td>Truck</td>\n",
       "      <td>49747.0</td>\n",
       "      <td>2</td>\n",
       "      <td>Very Poor</td>\n",
       "      <td>NY</td>\n",
       "    </tr>\n",
       "    <tr>\n",
       "      <th>30238</th>\n",
       "      <td>30239</td>\n",
       "      <td>1</td>\n",
       "      <td>F</td>\n",
       "      <td>129</td>\n",
       "      <td>703</td>\n",
       "      <td>14</td>\n",
       "      <td>1</td>\n",
       "      <td>Married</td>\n",
       "      <td>Truck</td>\n",
       "      <td>7553.0</td>\n",
       "      <td>1</td>\n",
       "      <td>Good</td>\n",
       "      <td>NJ</td>\n",
       "    </tr>\n",
       "    <tr>\n",
       "      <th>30239</th>\n",
       "      <td>30240</td>\n",
       "      <td>1</td>\n",
       "      <td>M</td>\n",
       "      <td>167</td>\n",
       "      <td>830</td>\n",
       "      <td>6</td>\n",
       "      <td>2</td>\n",
       "      <td>Married</td>\n",
       "      <td>Truck</td>\n",
       "      <td>23249.0</td>\n",
       "      <td>3</td>\n",
       "      <td>Exceptional</td>\n",
       "      <td>SD</td>\n",
       "    </tr>\n",
       "  </tbody>\n",
       "</table>\n",
       "</div>"
      ],
      "text/plain": [
       "          ID  target Gender  EngineHP  credit_history  Years_Experience  \\\n",
       "30235  30236       1      F       398             491                 6   \n",
       "30236  30237       0      M       128             745                22   \n",
       "30237  30238       0      M        89             523                 4   \n",
       "30238  30239       1      F       129             703                14   \n",
       "30239  30240       1      M       167             830                 6   \n",
       "\n",
       "       annual_claims Marital_Status Vehicle_Type  Miles_driven_annually  \\\n",
       "30235              3         Single        Truck                14509.0   \n",
       "30236              4         Single      Utility                 8597.0   \n",
       "30237              1        Married        Truck                49747.0   \n",
       "30238              1        Married        Truck                 7553.0   \n",
       "30239              2        Married        Truck                23249.0   \n",
       "\n",
       "       size_of_family credit_history_bucket State  \n",
       "30235               2             Very Poor    VT  \n",
       "30236               6             Very Good    OK  \n",
       "30237               2             Very Poor    NY  \n",
       "30238               1                  Good    NJ  \n",
       "30239               3           Exceptional    SD  "
      ]
     },
     "execution_count": 112,
     "metadata": {},
     "output_type": "execute_result"
    }
   ],
   "source": [
    "safe_driver.tail(5)"
   ]
  },
  {
   "cell_type": "code",
   "execution_count": 113,
   "metadata": {},
   "outputs": [],
   "source": [
    "X = safe_driver.drop('target', 1)\n",
    "y = safe_driver['target']\n",
    "X = pd.get_dummies(X)\n",
    "X = X.dropna(axis=1)\n",
    "\n",
    "X_train, X_test, y_train, y_test = train_test_split(X, y, test_size=0.33, random_state=42)"
   ]
  },
  {
   "cell_type": "code",
   "execution_count": 114,
   "metadata": {},
   "outputs": [
    {
     "name": "stderr",
     "output_type": "stream",
     "text": [
      "/usr/local/lib/python3.7/site-packages/sklearn/preprocessing/data.py:625: DataConversionWarning: Data with input dtype uint8, int64 were all converted to float64 by StandardScaler.\n",
      "  return self.partial_fit(X, y)\n",
      "/usr/local/lib/python3.7/site-packages/ipykernel_launcher.py:6: DataConversionWarning: Data with input dtype uint8, int64 were all converted to float64 by StandardScaler.\n",
      "  \n",
      "/usr/local/lib/python3.7/site-packages/ipykernel_launcher.py:7: DataConversionWarning: Data with input dtype uint8, int64 were all converted to float64 by StandardScaler.\n",
      "  import sys\n"
     ]
    }
   ],
   "source": [
    "from sklearn.preprocessing import StandardScaler\n",
    "scaler = StandardScaler()\n",
    "# Fit on training set only.\n",
    "scaler.fit(X_train)\n",
    "# Apply transform to both the training set and the test set.\n",
    "X_train = scaler.transform(X_train)\n",
    "X_test = scaler.transform(X_test)"
   ]
  },
  {
   "cell_type": "code",
   "execution_count": 115,
   "metadata": {},
   "outputs": [],
   "source": [
    "from sklearn.decomposition import PCA\n",
    "# Make an instance of the Model\n",
    "pca = PCA(.95)"
   ]
  },
  {
   "cell_type": "code",
   "execution_count": 116,
   "metadata": {},
   "outputs": [
    {
     "name": "stderr",
     "output_type": "stream",
     "text": [
      "/usr/local/lib/python3.7/site-packages/sklearn/linear_model/logistic.py:433: FutureWarning: Default solver will be changed to 'lbfgs' in 0.22. Specify a solver to silence this warning.\n",
      "  FutureWarning)\n"
     ]
    },
    {
     "name": "stdout",
     "output_type": "stream",
     "text": [
      "Prediction with one observation =  [1]\n",
      "Prediction with multiple observation =  [1 1 1 1 1 1 1 1 1]\n"
     ]
    },
    {
     "data": {
      "text/plain": [
       "0.7102204408817635"
      ]
     },
     "execution_count": 116,
     "metadata": {},
     "output_type": "execute_result"
    }
   ],
   "source": [
    "pca.fit(X_train)\n",
    "\n",
    "X_train = pca.transform(X_train)\n",
    "X_test = pca.transform(X_test)\n",
    "\n",
    "from sklearn.linear_model import LogisticRegression\n",
    "\n",
    "logisticRegr = LogisticRegression()\n",
    "\n",
    "logisticRegr.fit(X_train, y_train)\n",
    "\n",
    "# Predict for One Observation\n",
    "predict_lbl = logisticRegr.predict(X_test[72].reshape(1,-1))\n",
    "\n",
    "print('Prediction with one observation = ', predict_lbl)\n",
    "# Predict for One Observation\n",
    "predict_lbl_2 = logisticRegr.predict(X_test[81:90])\n",
    "print('Prediction with multiple observation = ', predict_lbl_2)\n",
    "\n",
    "logisticRegr.score(X_test, y_test)"
   ]
  },
  {
   "cell_type": "code",
   "execution_count": 117,
   "metadata": {},
   "outputs": [
    {
     "name": "stdout",
     "output_type": "stream",
     "text": [
      "[0.05364236 0.03756255 0.02851454 0.02318921 0.0210552  0.01894562\n",
      " 0.01736303 0.01708604 0.01655975 0.01579959 0.01561168 0.01532788\n",
      " 0.0152475  0.01505491 0.01496176 0.01482373 0.0146818  0.01465773\n",
      " 0.01463959 0.01463285 0.01462589 0.01462461 0.01462342 0.01462171\n",
      " 0.01462044 0.01461962 0.01461784 0.01461714 0.0146156  0.01461442\n",
      " 0.01461277 0.01461199 0.01460976 0.01460959 0.01460947 0.01460892\n",
      " 0.01460822 0.01460802 0.01460722 0.01460618 0.01460494 0.01460424\n",
      " 0.01460345 0.01460297 0.01460161 0.01459999 0.01459906 0.0145981\n",
      " 0.0145965  0.01458145 0.01457639 0.0145672  0.01454778 0.01449781\n",
      " 0.01446979 0.01415205 0.01373416 0.01364222]\n"
     ]
    }
   ],
   "source": [
    "print(pca.explained_variance_ratio_)"
   ]
  },
  {
   "cell_type": "code",
   "execution_count": null,
   "metadata": {},
   "outputs": [],
   "source": []
  }
 ],
 "metadata": {
  "kernelspec": {
   "display_name": "Python 3",
   "language": "python",
   "name": "python3"
  },
  "language_info": {
   "codemirror_mode": {
    "name": "ipython",
    "version": 3
   },
   "file_extension": ".py",
   "mimetype": "text/x-python",
   "name": "python",
   "nbconvert_exporter": "python",
   "pygments_lexer": "ipython3",
   "version": "3.7.1"
  }
 },
 "nbformat": 4,
 "nbformat_minor": 2
}
