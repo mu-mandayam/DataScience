{
 "cells": [
  {
   "cell_type": "code",
   "execution_count": 1,
   "metadata": {},
   "outputs": [],
   "source": [
    "import numpy as np\n",
    "import pandas as pd\n",
    "import scipy\n",
    "import matplotlib.pyplot as plt\n",
    "import seaborn as sns\n",
    "%matplotlib inline"
   ]
  },
  {
   "cell_type": "code",
   "execution_count": 2,
   "metadata": {},
   "outputs": [],
   "source": [
    "airline_data = pd.read_csv('2008.csv')"
   ]
  },
  {
   "cell_type": "code",
   "execution_count": 3,
   "metadata": {},
   "outputs": [
    {
     "name": "stdout",
     "output_type": "stream",
     "text": [
      "(7009728, 29)\n"
     ]
    },
    {
     "data": {
      "text/html": [
       "<div>\n",
       "<style scoped>\n",
       "    .dataframe tbody tr th:only-of-type {\n",
       "        vertical-align: middle;\n",
       "    }\n",
       "\n",
       "    .dataframe tbody tr th {\n",
       "        vertical-align: top;\n",
       "    }\n",
       "\n",
       "    .dataframe thead th {\n",
       "        text-align: right;\n",
       "    }\n",
       "</style>\n",
       "<table border=\"1\" class=\"dataframe\">\n",
       "  <thead>\n",
       "    <tr style=\"text-align: right;\">\n",
       "      <th></th>\n",
       "      <th>Year</th>\n",
       "      <th>Month</th>\n",
       "      <th>DayofMonth</th>\n",
       "      <th>DayOfWeek</th>\n",
       "      <th>DepTime</th>\n",
       "      <th>CRSDepTime</th>\n",
       "      <th>ArrTime</th>\n",
       "      <th>CRSArrTime</th>\n",
       "      <th>UniqueCarrier</th>\n",
       "      <th>FlightNum</th>\n",
       "      <th>...</th>\n",
       "      <th>TaxiIn</th>\n",
       "      <th>TaxiOut</th>\n",
       "      <th>Cancelled</th>\n",
       "      <th>CancellationCode</th>\n",
       "      <th>Diverted</th>\n",
       "      <th>CarrierDelay</th>\n",
       "      <th>WeatherDelay</th>\n",
       "      <th>NASDelay</th>\n",
       "      <th>SecurityDelay</th>\n",
       "      <th>LateAircraftDelay</th>\n",
       "    </tr>\n",
       "  </thead>\n",
       "  <tbody>\n",
       "    <tr>\n",
       "      <th>0</th>\n",
       "      <td>2008</td>\n",
       "      <td>1</td>\n",
       "      <td>3</td>\n",
       "      <td>4</td>\n",
       "      <td>2003.0</td>\n",
       "      <td>1955</td>\n",
       "      <td>2211.0</td>\n",
       "      <td>2225</td>\n",
       "      <td>WN</td>\n",
       "      <td>335</td>\n",
       "      <td>...</td>\n",
       "      <td>4.0</td>\n",
       "      <td>8.0</td>\n",
       "      <td>0</td>\n",
       "      <td>NaN</td>\n",
       "      <td>0</td>\n",
       "      <td>NaN</td>\n",
       "      <td>NaN</td>\n",
       "      <td>NaN</td>\n",
       "      <td>NaN</td>\n",
       "      <td>NaN</td>\n",
       "    </tr>\n",
       "    <tr>\n",
       "      <th>1</th>\n",
       "      <td>2008</td>\n",
       "      <td>1</td>\n",
       "      <td>3</td>\n",
       "      <td>4</td>\n",
       "      <td>754.0</td>\n",
       "      <td>735</td>\n",
       "      <td>1002.0</td>\n",
       "      <td>1000</td>\n",
       "      <td>WN</td>\n",
       "      <td>3231</td>\n",
       "      <td>...</td>\n",
       "      <td>5.0</td>\n",
       "      <td>10.0</td>\n",
       "      <td>0</td>\n",
       "      <td>NaN</td>\n",
       "      <td>0</td>\n",
       "      <td>NaN</td>\n",
       "      <td>NaN</td>\n",
       "      <td>NaN</td>\n",
       "      <td>NaN</td>\n",
       "      <td>NaN</td>\n",
       "    </tr>\n",
       "    <tr>\n",
       "      <th>2</th>\n",
       "      <td>2008</td>\n",
       "      <td>1</td>\n",
       "      <td>3</td>\n",
       "      <td>4</td>\n",
       "      <td>628.0</td>\n",
       "      <td>620</td>\n",
       "      <td>804.0</td>\n",
       "      <td>750</td>\n",
       "      <td>WN</td>\n",
       "      <td>448</td>\n",
       "      <td>...</td>\n",
       "      <td>3.0</td>\n",
       "      <td>17.0</td>\n",
       "      <td>0</td>\n",
       "      <td>NaN</td>\n",
       "      <td>0</td>\n",
       "      <td>NaN</td>\n",
       "      <td>NaN</td>\n",
       "      <td>NaN</td>\n",
       "      <td>NaN</td>\n",
       "      <td>NaN</td>\n",
       "    </tr>\n",
       "    <tr>\n",
       "      <th>3</th>\n",
       "      <td>2008</td>\n",
       "      <td>1</td>\n",
       "      <td>3</td>\n",
       "      <td>4</td>\n",
       "      <td>926.0</td>\n",
       "      <td>930</td>\n",
       "      <td>1054.0</td>\n",
       "      <td>1100</td>\n",
       "      <td>WN</td>\n",
       "      <td>1746</td>\n",
       "      <td>...</td>\n",
       "      <td>3.0</td>\n",
       "      <td>7.0</td>\n",
       "      <td>0</td>\n",
       "      <td>NaN</td>\n",
       "      <td>0</td>\n",
       "      <td>NaN</td>\n",
       "      <td>NaN</td>\n",
       "      <td>NaN</td>\n",
       "      <td>NaN</td>\n",
       "      <td>NaN</td>\n",
       "    </tr>\n",
       "    <tr>\n",
       "      <th>4</th>\n",
       "      <td>2008</td>\n",
       "      <td>1</td>\n",
       "      <td>3</td>\n",
       "      <td>4</td>\n",
       "      <td>1829.0</td>\n",
       "      <td>1755</td>\n",
       "      <td>1959.0</td>\n",
       "      <td>1925</td>\n",
       "      <td>WN</td>\n",
       "      <td>3920</td>\n",
       "      <td>...</td>\n",
       "      <td>3.0</td>\n",
       "      <td>10.0</td>\n",
       "      <td>0</td>\n",
       "      <td>NaN</td>\n",
       "      <td>0</td>\n",
       "      <td>2.0</td>\n",
       "      <td>0.0</td>\n",
       "      <td>0.0</td>\n",
       "      <td>0.0</td>\n",
       "      <td>32.0</td>\n",
       "    </tr>\n",
       "  </tbody>\n",
       "</table>\n",
       "<p>5 rows × 29 columns</p>\n",
       "</div>"
      ],
      "text/plain": [
       "   Year  Month  DayofMonth  DayOfWeek  DepTime  CRSDepTime  ArrTime  \\\n",
       "0  2008      1           3          4   2003.0        1955   2211.0   \n",
       "1  2008      1           3          4    754.0         735   1002.0   \n",
       "2  2008      1           3          4    628.0         620    804.0   \n",
       "3  2008      1           3          4    926.0         930   1054.0   \n",
       "4  2008      1           3          4   1829.0        1755   1959.0   \n",
       "\n",
       "   CRSArrTime UniqueCarrier  FlightNum        ...         TaxiIn  TaxiOut  \\\n",
       "0        2225            WN        335        ...            4.0      8.0   \n",
       "1        1000            WN       3231        ...            5.0     10.0   \n",
       "2         750            WN        448        ...            3.0     17.0   \n",
       "3        1100            WN       1746        ...            3.0      7.0   \n",
       "4        1925            WN       3920        ...            3.0     10.0   \n",
       "\n",
       "   Cancelled  CancellationCode  Diverted  CarrierDelay WeatherDelay NASDelay  \\\n",
       "0          0               NaN         0           NaN          NaN      NaN   \n",
       "1          0               NaN         0           NaN          NaN      NaN   \n",
       "2          0               NaN         0           NaN          NaN      NaN   \n",
       "3          0               NaN         0           NaN          NaN      NaN   \n",
       "4          0               NaN         0           2.0          0.0      0.0   \n",
       "\n",
       "   SecurityDelay  LateAircraftDelay  \n",
       "0            NaN                NaN  \n",
       "1            NaN                NaN  \n",
       "2            NaN                NaN  \n",
       "3            NaN                NaN  \n",
       "4            0.0               32.0  \n",
       "\n",
       "[5 rows x 29 columns]"
      ]
     },
     "execution_count": 3,
     "metadata": {},
     "output_type": "execute_result"
    }
   ],
   "source": [
    "print(airline_data.shape)\n",
    "airline_data.head()"
   ]
  },
  {
   "cell_type": "code",
   "execution_count": 4,
   "metadata": {},
   "outputs": [],
   "source": [
    "airline_data.fillna(0, inplace=True)"
   ]
  },
  {
   "cell_type": "code",
   "execution_count": 5,
   "metadata": {},
   "outputs": [
    {
     "data": {
      "text/plain": [
       "float64    14\n",
       "int64      10\n",
       "object      5\n",
       "dtype: int64"
      ]
     },
     "execution_count": 5,
     "metadata": {},
     "output_type": "execute_result"
    }
   ],
   "source": [
    "# Check for non-numeric data types. Many of the non-numeric data types like carrier code etc. \n",
    "# do not really add any valueto the ArrDelay\n",
    "\n",
    "airline_data.dtypes.value_counts()"
   ]
  },
  {
   "cell_type": "code",
   "execution_count": 6,
   "metadata": {},
   "outputs": [],
   "source": [
    "# Drop all of the object type columns\n",
    "airline_data.drop(airline_data.select_dtypes(['object']), inplace=True, axis=1)"
   ]
  },
  {
   "cell_type": "code",
   "execution_count": 7,
   "metadata": {},
   "outputs": [
    {
     "name": "stdout",
     "output_type": "stream",
     "text": [
      "<class 'pandas.core.frame.DataFrame'>\n",
      "RangeIndex: 7009728 entries, 0 to 7009727\n",
      "Data columns (total 24 columns):\n",
      "Year                 int64\n",
      "Month                int64\n",
      "DayofMonth           int64\n",
      "DayOfWeek            int64\n",
      "DepTime              float64\n",
      "CRSDepTime           int64\n",
      "ArrTime              float64\n",
      "CRSArrTime           int64\n",
      "FlightNum            int64\n",
      "ActualElapsedTime    float64\n",
      "CRSElapsedTime       float64\n",
      "AirTime              float64\n",
      "ArrDelay             float64\n",
      "DepDelay             float64\n",
      "Distance             int64\n",
      "TaxiIn               float64\n",
      "TaxiOut              float64\n",
      "Cancelled            int64\n",
      "Diverted             int64\n",
      "CarrierDelay         float64\n",
      "WeatherDelay         float64\n",
      "NASDelay             float64\n",
      "SecurityDelay        float64\n",
      "LateAircraftDelay    float64\n",
      "dtypes: float64(14), int64(10)\n",
      "memory usage: 1.3 GB\n"
     ]
    }
   ],
   "source": [
    "airline_data.info()"
   ]
  },
  {
   "cell_type": "code",
   "execution_count": 8,
   "metadata": {},
   "outputs": [
    {
     "data": {
      "text/plain": [
       "Year                       0\n",
       "Month                      0\n",
       "DayofMonth                 0\n",
       "DayOfWeek                  0\n",
       "DepTime                    0\n",
       "CRSDepTime                 0\n",
       "ArrTime                    0\n",
       "CRSArrTime                 0\n",
       "FlightNum                  0\n",
       "ActualElapsedTime          0\n",
       "CRSElapsedTime            15\n",
       "AirTime                    0\n",
       "ArrDelay             3690606\n",
       "DepDelay             3642076\n",
       "Distance                   0\n",
       "TaxiIn                     0\n",
       "TaxiOut                    0\n",
       "Cancelled                  0\n",
       "Diverted                   0\n",
       "CarrierDelay               0\n",
       "WeatherDelay               0\n",
       "NASDelay                   0\n",
       "SecurityDelay              0\n",
       "LateAircraftDelay          0\n",
       "dtype: int64"
      ]
     },
     "execution_count": 8,
     "metadata": {},
     "output_type": "execute_result"
    }
   ],
   "source": [
    "# Check if there are any negative values in the time columns\n",
    "\n",
    "airline_data.lt(0).sum()"
   ]
  },
  {
   "cell_type": "code",
   "execution_count": 9,
   "metadata": {},
   "outputs": [
    {
     "data": {
      "text/html": [
       "<div>\n",
       "<style scoped>\n",
       "    .dataframe tbody tr th:only-of-type {\n",
       "        vertical-align: middle;\n",
       "    }\n",
       "\n",
       "    .dataframe tbody tr th {\n",
       "        vertical-align: top;\n",
       "    }\n",
       "\n",
       "    .dataframe thead th {\n",
       "        text-align: right;\n",
       "    }\n",
       "</style>\n",
       "<table border=\"1\" class=\"dataframe\">\n",
       "  <thead>\n",
       "    <tr style=\"text-align: right;\">\n",
       "      <th></th>\n",
       "      <th>Year</th>\n",
       "      <th>Month</th>\n",
       "      <th>DayofMonth</th>\n",
       "      <th>DayOfWeek</th>\n",
       "      <th>DepTime</th>\n",
       "      <th>CRSDepTime</th>\n",
       "      <th>ArrTime</th>\n",
       "      <th>CRSArrTime</th>\n",
       "      <th>FlightNum</th>\n",
       "      <th>ActualElapsedTime</th>\n",
       "      <th>...</th>\n",
       "      <th>Distance</th>\n",
       "      <th>TaxiIn</th>\n",
       "      <th>TaxiOut</th>\n",
       "      <th>Cancelled</th>\n",
       "      <th>Diverted</th>\n",
       "      <th>CarrierDelay</th>\n",
       "      <th>WeatherDelay</th>\n",
       "      <th>NASDelay</th>\n",
       "      <th>SecurityDelay</th>\n",
       "      <th>LateAircraftDelay</th>\n",
       "    </tr>\n",
       "  </thead>\n",
       "  <tbody>\n",
       "    <tr>\n",
       "      <th>count</th>\n",
       "      <td>7009728.0</td>\n",
       "      <td>7009728.0</td>\n",
       "      <td>7009728.0</td>\n",
       "      <td>7009728.0</td>\n",
       "      <td>7009728.0</td>\n",
       "      <td>7009728.0</td>\n",
       "      <td>7009728.0</td>\n",
       "      <td>7009728.0</td>\n",
       "      <td>7009728.0</td>\n",
       "      <td>7009728.0</td>\n",
       "      <td>...</td>\n",
       "      <td>7009728.0</td>\n",
       "      <td>7009728.0</td>\n",
       "      <td>7009728.0</td>\n",
       "      <td>7009728.0</td>\n",
       "      <td>7009728.0</td>\n",
       "      <td>7009728.0</td>\n",
       "      <td>7009728.0</td>\n",
       "      <td>7009728.0</td>\n",
       "      <td>7009728.0</td>\n",
       "      <td>7009728.0</td>\n",
       "    </tr>\n",
       "    <tr>\n",
       "      <th>mean</th>\n",
       "      <td>2008.0</td>\n",
       "      <td>6.4</td>\n",
       "      <td>15.7</td>\n",
       "      <td>3.9</td>\n",
       "      <td>1307.9</td>\n",
       "      <td>1326.1</td>\n",
       "      <td>1449.2</td>\n",
       "      <td>1494.8</td>\n",
       "      <td>2224.2</td>\n",
       "      <td>124.5</td>\n",
       "      <td>...</td>\n",
       "      <td>726.4</td>\n",
       "      <td>6.7</td>\n",
       "      <td>16.1</td>\n",
       "      <td>0.0</td>\n",
       "      <td>0.0</td>\n",
       "      <td>3.4</td>\n",
       "      <td>0.7</td>\n",
       "      <td>3.7</td>\n",
       "      <td>0.0</td>\n",
       "      <td>4.5</td>\n",
       "    </tr>\n",
       "    <tr>\n",
       "      <th>std</th>\n",
       "      <td>0.0</td>\n",
       "      <td>3.4</td>\n",
       "      <td>8.8</td>\n",
       "      <td>2.0</td>\n",
       "      <td>508.0</td>\n",
       "      <td>464.3</td>\n",
       "      <td>544.2</td>\n",
       "      <td>482.7</td>\n",
       "      <td>1961.7</td>\n",
       "      <td>71.9</td>\n",
       "      <td>...</td>\n",
       "      <td>562.1</td>\n",
       "      <td>5.0</td>\n",
       "      <td>11.5</td>\n",
       "      <td>0.1</td>\n",
       "      <td>0.0</td>\n",
       "      <td>19.8</td>\n",
       "      <td>9.2</td>\n",
       "      <td>16.5</td>\n",
       "      <td>0.9</td>\n",
       "      <td>20.2</td>\n",
       "    </tr>\n",
       "    <tr>\n",
       "      <th>min</th>\n",
       "      <td>2008.0</td>\n",
       "      <td>1.0</td>\n",
       "      <td>1.0</td>\n",
       "      <td>1.0</td>\n",
       "      <td>0.0</td>\n",
       "      <td>0.0</td>\n",
       "      <td>0.0</td>\n",
       "      <td>0.0</td>\n",
       "      <td>1.0</td>\n",
       "      <td>0.0</td>\n",
       "      <td>...</td>\n",
       "      <td>11.0</td>\n",
       "      <td>0.0</td>\n",
       "      <td>0.0</td>\n",
       "      <td>0.0</td>\n",
       "      <td>0.0</td>\n",
       "      <td>0.0</td>\n",
       "      <td>0.0</td>\n",
       "      <td>0.0</td>\n",
       "      <td>0.0</td>\n",
       "      <td>0.0</td>\n",
       "    </tr>\n",
       "    <tr>\n",
       "      <th>25%</th>\n",
       "      <td>2008.0</td>\n",
       "      <td>3.0</td>\n",
       "      <td>8.0</td>\n",
       "      <td>2.0</td>\n",
       "      <td>914.0</td>\n",
       "      <td>925.0</td>\n",
       "      <td>1051.0</td>\n",
       "      <td>1115.0</td>\n",
       "      <td>622.0</td>\n",
       "      <td>75.0</td>\n",
       "      <td>...</td>\n",
       "      <td>325.0</td>\n",
       "      <td>4.0</td>\n",
       "      <td>10.0</td>\n",
       "      <td>0.0</td>\n",
       "      <td>0.0</td>\n",
       "      <td>0.0</td>\n",
       "      <td>0.0</td>\n",
       "      <td>0.0</td>\n",
       "      <td>0.0</td>\n",
       "      <td>0.0</td>\n",
       "    </tr>\n",
       "    <tr>\n",
       "      <th>50%</th>\n",
       "      <td>2008.0</td>\n",
       "      <td>6.0</td>\n",
       "      <td>16.0</td>\n",
       "      <td>4.0</td>\n",
       "      <td>1316.0</td>\n",
       "      <td>1320.0</td>\n",
       "      <td>1501.0</td>\n",
       "      <td>1517.0</td>\n",
       "      <td>1571.0</td>\n",
       "      <td>108.0</td>\n",
       "      <td>...</td>\n",
       "      <td>581.0</td>\n",
       "      <td>6.0</td>\n",
       "      <td>13.0</td>\n",
       "      <td>0.0</td>\n",
       "      <td>0.0</td>\n",
       "      <td>0.0</td>\n",
       "      <td>0.0</td>\n",
       "      <td>0.0</td>\n",
       "      <td>0.0</td>\n",
       "      <td>0.0</td>\n",
       "    </tr>\n",
       "    <tr>\n",
       "      <th>75%</th>\n",
       "      <td>2008.0</td>\n",
       "      <td>9.0</td>\n",
       "      <td>23.0</td>\n",
       "      <td>6.0</td>\n",
       "      <td>1723.0</td>\n",
       "      <td>1715.0</td>\n",
       "      <td>1903.0</td>\n",
       "      <td>1907.0</td>\n",
       "      <td>3518.0</td>\n",
       "      <td>156.0</td>\n",
       "      <td>...</td>\n",
       "      <td>954.0</td>\n",
       "      <td>8.0</td>\n",
       "      <td>19.0</td>\n",
       "      <td>0.0</td>\n",
       "      <td>0.0</td>\n",
       "      <td>0.0</td>\n",
       "      <td>0.0</td>\n",
       "      <td>0.0</td>\n",
       "      <td>0.0</td>\n",
       "      <td>0.0</td>\n",
       "    </tr>\n",
       "    <tr>\n",
       "      <th>max</th>\n",
       "      <td>2008.0</td>\n",
       "      <td>12.0</td>\n",
       "      <td>31.0</td>\n",
       "      <td>7.0</td>\n",
       "      <td>2400.0</td>\n",
       "      <td>2359.0</td>\n",
       "      <td>2400.0</td>\n",
       "      <td>2400.0</td>\n",
       "      <td>9743.0</td>\n",
       "      <td>1379.0</td>\n",
       "      <td>...</td>\n",
       "      <td>4962.0</td>\n",
       "      <td>308.0</td>\n",
       "      <td>429.0</td>\n",
       "      <td>1.0</td>\n",
       "      <td>1.0</td>\n",
       "      <td>2436.0</td>\n",
       "      <td>1352.0</td>\n",
       "      <td>1357.0</td>\n",
       "      <td>392.0</td>\n",
       "      <td>1316.0</td>\n",
       "    </tr>\n",
       "  </tbody>\n",
       "</table>\n",
       "<p>8 rows × 24 columns</p>\n",
       "</div>"
      ],
      "text/plain": [
       "            Year      Month  DayofMonth  DayOfWeek    DepTime  CRSDepTime  \\\n",
       "count  7009728.0  7009728.0   7009728.0  7009728.0  7009728.0   7009728.0   \n",
       "mean      2008.0        6.4        15.7        3.9     1307.9      1326.1   \n",
       "std          0.0        3.4         8.8        2.0      508.0       464.3   \n",
       "min       2008.0        1.0         1.0        1.0        0.0         0.0   \n",
       "25%       2008.0        3.0         8.0        2.0      914.0       925.0   \n",
       "50%       2008.0        6.0        16.0        4.0     1316.0      1320.0   \n",
       "75%       2008.0        9.0        23.0        6.0     1723.0      1715.0   \n",
       "max       2008.0       12.0        31.0        7.0     2400.0      2359.0   \n",
       "\n",
       "         ArrTime  CRSArrTime  FlightNum  ActualElapsedTime        ...          \\\n",
       "count  7009728.0   7009728.0  7009728.0          7009728.0        ...           \n",
       "mean      1449.2      1494.8     2224.2              124.5        ...           \n",
       "std        544.2       482.7     1961.7               71.9        ...           \n",
       "min          0.0         0.0        1.0                0.0        ...           \n",
       "25%       1051.0      1115.0      622.0               75.0        ...           \n",
       "50%       1501.0      1517.0     1571.0              108.0        ...           \n",
       "75%       1903.0      1907.0     3518.0              156.0        ...           \n",
       "max       2400.0      2400.0     9743.0             1379.0        ...           \n",
       "\n",
       "        Distance     TaxiIn    TaxiOut  Cancelled   Diverted  CarrierDelay  \\\n",
       "count  7009728.0  7009728.0  7009728.0  7009728.0  7009728.0     7009728.0   \n",
       "mean       726.4        6.7       16.1        0.0        0.0           3.4   \n",
       "std        562.1        5.0       11.5        0.1        0.0          19.8   \n",
       "min         11.0        0.0        0.0        0.0        0.0           0.0   \n",
       "25%        325.0        4.0       10.0        0.0        0.0           0.0   \n",
       "50%        581.0        6.0       13.0        0.0        0.0           0.0   \n",
       "75%        954.0        8.0       19.0        0.0        0.0           0.0   \n",
       "max       4962.0      308.0      429.0        1.0        1.0        2436.0   \n",
       "\n",
       "       WeatherDelay   NASDelay  SecurityDelay  LateAircraftDelay  \n",
       "count     7009728.0  7009728.0      7009728.0          7009728.0  \n",
       "mean            0.7        3.7            0.0                4.5  \n",
       "std             9.2       16.5            0.9               20.2  \n",
       "min             0.0        0.0            0.0                0.0  \n",
       "25%             0.0        0.0            0.0                0.0  \n",
       "50%             0.0        0.0            0.0                0.0  \n",
       "75%             0.0        0.0            0.0                0.0  \n",
       "max          1352.0     1357.0          392.0             1316.0  \n",
       "\n",
       "[8 rows x 24 columns]"
      ]
     },
     "execution_count": 9,
     "metadata": {},
     "output_type": "execute_result"
    }
   ],
   "source": [
    "round(airline_data.describe(), 1)"
   ]
  },
  {
   "cell_type": "code",
   "execution_count": 10,
   "metadata": {},
   "outputs": [],
   "source": [
    "# Drop those rows where ArrDelay or DepDelay or CRSElapsedTime are < 0\n",
    "\n",
    "airline_data = airline_data[airline_data.CRSElapsedTime > 0]\n",
    "airline_data = airline_data[airline_data.ArrDelay > 0]\n",
    "airline_data = airline_data[airline_data.DepDelay > 0]\n"
   ]
  },
  {
   "cell_type": "code",
   "execution_count": 11,
   "metadata": {},
   "outputs": [
    {
     "data": {
      "image/png": "[encoded data removed]",
      "text/plain": [
       "<Figure size 1080x1080 with 2 Axes>"
      ]
     },
     "metadata": {
      "needs_background": "light"
     },
     "output_type": "display_data"
    }
   ],
   "source": [
    "corr_cols = ['ArrDelay','Month', 'DayofMonth','DayOfWeek','CRSDepTime','CRSArrTime','CRSElapsedTime']\n",
    "plt.figure(figsize=(15,15))\n",
    "sns.heatmap(airline_data[corr_cols].corr(), square=True, annot=True, center=0, cmap='RdBu_r')\n",
    "plt.show()"
   ]
  },
  {
   "cell_type": "code",
   "execution_count": 12,
   "metadata": {},
   "outputs": [],
   "source": [
    "# Drop CRSArrTime as it is highly coorelated with CRSDepTime\n",
    "\n",
    "airline_data.drop('CRSArrTime', axis=1, inplace=True)"
   ]
  },
  {
   "cell_type": "code",
   "execution_count": 13,
   "metadata": {},
   "outputs": [
    {
     "name": "stdout",
     "output_type": "stream",
     "text": [
      "Delayed Arrivals are 849331\n",
      "Total of all arrivals 2048999\n",
      "The percentage of delayed arrivals is 41.0%\n"
     ]
    }
   ],
   "source": [
    "# Calculate the percentage of success data (ArrDelay > 30 minutes) with respect to the failure data (normal arrivals)\n",
    "\n",
    "delayed_arrivals = (airline_data['ArrDelay'] > 30).sum()\n",
    "print('Delayed Arrivals are {}'.format(delayed_arrivals))\n",
    "\n",
    "total_records = len(airline_data['ArrDelay'])\n",
    "print('Total of all arrivals {}'.format(total_records))\n",
    "\n",
    "print('The percentage of delayed arrivals is {}%'.format(round(delayed_arrivals / total_records * 100), 2))"
   ]
  },
  {
   "cell_type": "code",
   "execution_count": 14,
   "metadata": {},
   "outputs": [
    {
     "data": {
      "text/plain": [
       "Year                 0\n",
       "Month                0\n",
       "DayofMonth           0\n",
       "DayOfWeek            0\n",
       "DepTime              0\n",
       "CRSDepTime           0\n",
       "ArrTime              0\n",
       "FlightNum            0\n",
       "ActualElapsedTime    0\n",
       "CRSElapsedTime       0\n",
       "AirTime              0\n",
       "ArrDelay             0\n",
       "DepDelay             0\n",
       "Distance             0\n",
       "TaxiIn               0\n",
       "TaxiOut              0\n",
       "Cancelled            0\n",
       "Diverted             0\n",
       "CarrierDelay         0\n",
       "WeatherDelay         0\n",
       "NASDelay             0\n",
       "SecurityDelay        0\n",
       "LateAircraftDelay    0\n",
       "dtype: int64"
      ]
     },
     "execution_count": 14,
     "metadata": {},
     "output_type": "execute_result"
    }
   ],
   "source": [
    "airline_data.isnull().sum()"
   ]
  },
  {
   "cell_type": "code",
   "execution_count": 15,
   "metadata": {},
   "outputs": [],
   "source": [
    "# Drop the rows such as CarrierDelay, WeatherDelay, NASDelay, SecurityDelay and LateAircraftDelay\n",
    "\n",
    "airline_data.drop(['CarrierDelay'], axis=1, inplace=True)\n",
    "airline_data.drop(['WeatherDelay'], axis=1, inplace=True)\n",
    "airline_data.drop(['NASDelay'], axis=1, inplace=True)\n",
    "airline_data.drop(['SecurityDelay'], axis=1, inplace=True)\n",
    "airline_data.drop(['LateAircraftDelay'], axis=1, inplace=True)"
   ]
  },
  {
   "cell_type": "code",
   "execution_count": 16,
   "metadata": {},
   "outputs": [],
   "source": [
    "# Drop the columns Cancelled, Diverted and FlightNum\n",
    "\n",
    "airline_data.drop(['Cancelled'], axis=1, inplace=True)\n",
    "airline_data.drop(['Diverted'], axis=1, inplace=True)\n",
    "airline_data.drop(['FlightNum'], axis=1, inplace=True)"
   ]
  },
  {
   "cell_type": "code",
   "execution_count": 17,
   "metadata": {},
   "outputs": [],
   "source": [
    "# Create our feature set and label data\n",
    "\n",
    "X = airline_data.drop(['ArrDelay'], axis=1)\n",
    "y = airline_data['ArrDelay']"
   ]
  },
  {
   "cell_type": "code",
   "execution_count": 18,
   "metadata": {},
   "outputs": [
    {
     "name": "stdout",
     "output_type": "stream",
     "text": [
      "(2048999, 15)\n"
     ]
    }
   ],
   "source": [
    "print(airline_data.shape)"
   ]
  },
  {
   "cell_type": "markdown",
   "metadata": {},
   "source": [
    "#Undersample our majority data using RandomUnderSampler due to imbalance in the data sets\n",
    "\n",
    "from imblearn.under_sampling import RandomUnderSampler\n",
    "under_sample = RandomUnderSampler(random_state=0)\n",
    "X_resampled, y_resampled = under_sample.fit_resample(X, y)"
   ]
  },
  {
   "cell_type": "markdown",
   "metadata": {},
   "source": [
    "#Print the dataset statistis after resampling\n",
    "\n",
    "delayed_arrivals = (y_resampled > 30).sum()\n",
    "print('Delayed Arrivals after resampling are {}'.format(delayed_arrivals))\n",
    "\n",
    "total_records = len(y_resampled)\n",
    "print('Total of all arrivals, after resampling is {}'.format(total_records))\n",
    "\n",
    "print('The percentage of delayed arrivals, after resampling, is {}%'.\n",
    "      format(round(delayed_arrivals / total_records * 100), 2))"
   ]
  },
  {
   "cell_type": "code",
   "execution_count": 19,
   "metadata": {},
   "outputs": [],
   "source": [
    "# Split the resampled data set\n",
    "\n",
    "from sklearn.model_selection import train_test_split\n",
    "\n",
    "# test_size: The split between test and train is 2/3 to 1/3 approximately\n",
    "\n",
    "X_train, X_test, y_train, y_test = train_test_split(X, y, test_size=0.33, random_state=0)"
   ]
  },
  {
   "cell_type": "code",
   "execution_count": 20,
   "metadata": {},
   "outputs": [
    {
     "data": {
      "text/plain": [
       "Year                 0\n",
       "Month                0\n",
       "DayofMonth           0\n",
       "DayOfWeek            0\n",
       "DepTime              0\n",
       "CRSDepTime           0\n",
       "ArrTime              0\n",
       "ActualElapsedTime    0\n",
       "CRSElapsedTime       0\n",
       "AirTime              0\n",
       "DepDelay             0\n",
       "Distance             0\n",
       "TaxiIn               0\n",
       "TaxiOut              0\n",
       "dtype: int64"
      ]
     },
     "execution_count": 20,
     "metadata": {},
     "output_type": "execute_result"
    }
   ],
   "source": [
    "X_train.isnull().sum()"
   ]
  },
  {
   "cell_type": "code",
   "execution_count": 21,
   "metadata": {},
   "outputs": [
    {
     "name": "stdout",
     "output_type": "stream",
     "text": [
      "Length of training feature set is 1372829\n",
      "Length of testing feature set is 676170\n",
      "Delayed Arrivals after split are: 569355\n"
     ]
    }
   ],
   "source": [
    "# Check the length of training and testing sets\n",
    "\n",
    "print('Length of training feature set is {}'.format(len(X_train)))\n",
    "print('Length of testing feature set is {}'.format(len(X_test)))\n",
    "delayed_arrivals = (y > 30).sum()\n",
    "print('Delayed Arrivals after split are: {}'.format((y_train > 30).sum()))"
   ]
  },
  {
   "cell_type": "code",
   "execution_count": 22,
   "metadata": {},
   "outputs": [
    {
     "data": {
      "text/html": [
       "<div>\n",
       "<style scoped>\n",
       "    .dataframe tbody tr th:only-of-type {\n",
       "        vertical-align: middle;\n",
       "    }\n",
       "\n",
       "    .dataframe tbody tr th {\n",
       "        vertical-align: top;\n",
       "    }\n",
       "\n",
       "    .dataframe thead th {\n",
       "        text-align: right;\n",
       "    }\n",
       "</style>\n",
       "<table border=\"1\" class=\"dataframe\">\n",
       "  <thead>\n",
       "    <tr style=\"text-align: right;\">\n",
       "      <th></th>\n",
       "      <th>Year</th>\n",
       "      <th>Month</th>\n",
       "      <th>DayofMonth</th>\n",
       "      <th>DayOfWeek</th>\n",
       "      <th>DepTime</th>\n",
       "      <th>CRSDepTime</th>\n",
       "      <th>ArrTime</th>\n",
       "      <th>ActualElapsedTime</th>\n",
       "      <th>CRSElapsedTime</th>\n",
       "      <th>AirTime</th>\n",
       "      <th>DepDelay</th>\n",
       "      <th>Distance</th>\n",
       "      <th>TaxiIn</th>\n",
       "      <th>TaxiOut</th>\n",
       "    </tr>\n",
       "  </thead>\n",
       "  <tbody>\n",
       "    <tr>\n",
       "      <th>count</th>\n",
       "      <td>1372829.0</td>\n",
       "      <td>1.372829e+06</td>\n",
       "      <td>1.372829e+06</td>\n",
       "      <td>1.372829e+06</td>\n",
       "      <td>1.372829e+06</td>\n",
       "      <td>1.372829e+06</td>\n",
       "      <td>1.372829e+06</td>\n",
       "      <td>1.372829e+06</td>\n",
       "      <td>1.372829e+06</td>\n",
       "      <td>1.372829e+06</td>\n",
       "      <td>1.372829e+06</td>\n",
       "      <td>1.372829e+06</td>\n",
       "      <td>1.372829e+06</td>\n",
       "      <td>1.372829e+06</td>\n",
       "    </tr>\n",
       "    <tr>\n",
       "      <th>mean</th>\n",
       "      <td>2008.0</td>\n",
       "      <td>6.095780e+00</td>\n",
       "      <td>1.573754e+01</td>\n",
       "      <td>3.970632e+00</td>\n",
       "      <td>1.496122e+03</td>\n",
       "      <td>1.448474e+03</td>\n",
       "      <td>1.593330e+03</td>\n",
       "      <td>1.334670e+02</td>\n",
       "      <td>1.313946e+02</td>\n",
       "      <td>1.074285e+02</td>\n",
       "      <td>3.998201e+01</td>\n",
       "      <td>7.467934e+02</td>\n",
       "      <td>7.019452e+00</td>\n",
       "      <td>1.901909e+01</td>\n",
       "    </tr>\n",
       "    <tr>\n",
       "      <th>std</th>\n",
       "      <td>0.0</td>\n",
       "      <td>3.471077e+00</td>\n",
       "      <td>8.769653e+00</td>\n",
       "      <td>1.990298e+00</td>\n",
       "      <td>4.578738e+02</td>\n",
       "      <td>4.323821e+02</td>\n",
       "      <td>5.455156e+02</td>\n",
       "      <td>7.270957e+01</td>\n",
       "      <td>7.045672e+01</td>\n",
       "      <td>6.900309e+01</td>\n",
       "      <td>5.310055e+01</td>\n",
       "      <td>5.670576e+02</td>\n",
       "      <td>5.504882e+00</td>\n",
       "      <td>1.471082e+01</td>\n",
       "    </tr>\n",
       "    <tr>\n",
       "      <th>min</th>\n",
       "      <td>2008.0</td>\n",
       "      <td>1.000000e+00</td>\n",
       "      <td>1.000000e+00</td>\n",
       "      <td>1.000000e+00</td>\n",
       "      <td>1.000000e+00</td>\n",
       "      <td>0.000000e+00</td>\n",
       "      <td>1.000000e+00</td>\n",
       "      <td>1.400000e+01</td>\n",
       "      <td>9.000000e+00</td>\n",
       "      <td>0.000000e+00</td>\n",
       "      <td>1.000000e+00</td>\n",
       "      <td>1.100000e+01</td>\n",
       "      <td>0.000000e+00</td>\n",
       "      <td>0.000000e+00</td>\n",
       "    </tr>\n",
       "    <tr>\n",
       "      <th>25%</th>\n",
       "      <td>2008.0</td>\n",
       "      <td>3.000000e+00</td>\n",
       "      <td>8.000000e+00</td>\n",
       "      <td>2.000000e+00</td>\n",
       "      <td>1.142000e+03</td>\n",
       "      <td>1.116000e+03</td>\n",
       "      <td>1.257000e+03</td>\n",
       "      <td>8.000000e+01</td>\n",
       "      <td>8.000000e+01</td>\n",
       "      <td>5.700000e+01</td>\n",
       "      <td>9.000000e+00</td>\n",
       "      <td>3.340000e+02</td>\n",
       "      <td>4.000000e+00</td>\n",
       "      <td>1.100000e+01</td>\n",
       "    </tr>\n",
       "    <tr>\n",
       "      <th>50%</th>\n",
       "      <td>2008.0</td>\n",
       "      <td>6.000000e+00</td>\n",
       "      <td>1.600000e+01</td>\n",
       "      <td>4.000000e+00</td>\n",
       "      <td>1.530000e+03</td>\n",
       "      <td>1.456000e+03</td>\n",
       "      <td>1.701000e+03</td>\n",
       "      <td>1.150000e+02</td>\n",
       "      <td>1.140000e+02</td>\n",
       "      <td>8.900000e+01</td>\n",
       "      <td>2.200000e+01</td>\n",
       "      <td>5.940000e+02</td>\n",
       "      <td>6.000000e+00</td>\n",
       "      <td>1.500000e+01</td>\n",
       "    </tr>\n",
       "    <tr>\n",
       "      <th>75%</th>\n",
       "      <td>2008.0</td>\n",
       "      <td>9.000000e+00</td>\n",
       "      <td>2.300000e+01</td>\n",
       "      <td>6.000000e+00</td>\n",
       "      <td>1.853000e+03</td>\n",
       "      <td>1.810000e+03</td>\n",
       "      <td>2.023000e+03</td>\n",
       "      <td>1.650000e+02</td>\n",
       "      <td>1.610000e+02</td>\n",
       "      <td>1.360000e+02</td>\n",
       "      <td>5.000000e+01</td>\n",
       "      <td>9.800000e+02</td>\n",
       "      <td>8.000000e+00</td>\n",
       "      <td>2.200000e+01</td>\n",
       "    </tr>\n",
       "    <tr>\n",
       "      <th>max</th>\n",
       "      <td>2008.0</td>\n",
       "      <td>1.200000e+01</td>\n",
       "      <td>3.100000e+01</td>\n",
       "      <td>7.000000e+00</td>\n",
       "      <td>2.400000e+03</td>\n",
       "      <td>2.359000e+03</td>\n",
       "      <td>2.400000e+03</td>\n",
       "      <td>1.114000e+03</td>\n",
       "      <td>6.600000e+02</td>\n",
       "      <td>1.091000e+03</td>\n",
       "      <td>2.467000e+03</td>\n",
       "      <td>4.962000e+03</td>\n",
       "      <td>2.250000e+02</td>\n",
       "      <td>4.220000e+02</td>\n",
       "    </tr>\n",
       "  </tbody>\n",
       "</table>\n",
       "</div>"
      ],
      "text/plain": [
       "            Year         Month    DayofMonth     DayOfWeek       DepTime  \\\n",
       "count  1372829.0  1.372829e+06  1.372829e+06  1.372829e+06  1.372829e+06   \n",
       "mean      2008.0  6.095780e+00  1.573754e+01  3.970632e+00  1.496122e+03   \n",
       "std          0.0  3.471077e+00  8.769653e+00  1.990298e+00  4.578738e+02   \n",
       "min       2008.0  1.000000e+00  1.000000e+00  1.000000e+00  1.000000e+00   \n",
       "25%       2008.0  3.000000e+00  8.000000e+00  2.000000e+00  1.142000e+03   \n",
       "50%       2008.0  6.000000e+00  1.600000e+01  4.000000e+00  1.530000e+03   \n",
       "75%       2008.0  9.000000e+00  2.300000e+01  6.000000e+00  1.853000e+03   \n",
       "max       2008.0  1.200000e+01  3.100000e+01  7.000000e+00  2.400000e+03   \n",
       "\n",
       "         CRSDepTime       ArrTime  ActualElapsedTime  CRSElapsedTime  \\\n",
       "count  1.372829e+06  1.372829e+06       1.372829e+06    1.372829e+06   \n",
       "mean   1.448474e+03  1.593330e+03       1.334670e+02    1.313946e+02   \n",
       "std    4.323821e+02  5.455156e+02       7.270957e+01    7.045672e+01   \n",
       "min    0.000000e+00  1.000000e+00       1.400000e+01    9.000000e+00   \n",
       "25%    1.116000e+03  1.257000e+03       8.000000e+01    8.000000e+01   \n",
       "50%    1.456000e+03  1.701000e+03       1.150000e+02    1.140000e+02   \n",
       "75%    1.810000e+03  2.023000e+03       1.650000e+02    1.610000e+02   \n",
       "max    2.359000e+03  2.400000e+03       1.114000e+03    6.600000e+02   \n",
       "\n",
       "            AirTime      DepDelay      Distance        TaxiIn       TaxiOut  \n",
       "count  1.372829e+06  1.372829e+06  1.372829e+06  1.372829e+06  1.372829e+06  \n",
       "mean   1.074285e+02  3.998201e+01  7.467934e+02  7.019452e+00  1.901909e+01  \n",
       "std    6.900309e+01  5.310055e+01  5.670576e+02  5.504882e+00  1.471082e+01  \n",
       "min    0.000000e+00  1.000000e+00  1.100000e+01  0.000000e+00  0.000000e+00  \n",
       "25%    5.700000e+01  9.000000e+00  3.340000e+02  4.000000e+00  1.100000e+01  \n",
       "50%    8.900000e+01  2.200000e+01  5.940000e+02  6.000000e+00  1.500000e+01  \n",
       "75%    1.360000e+02  5.000000e+01  9.800000e+02  8.000000e+00  2.200000e+01  \n",
       "max    1.091000e+03  2.467000e+03  4.962000e+03  2.250000e+02  4.220000e+02  "
      ]
     },
     "execution_count": 22,
     "metadata": {},
     "output_type": "execute_result"
    }
   ],
   "source": [
    "X_train.describe()"
   ]
  },
  {
   "cell_type": "code",
   "execution_count": 28,
   "metadata": {},
   "outputs": [
    {
     "name": "stdout",
     "output_type": "stream",
     "text": [
      "184.85\n"
     ]
    }
   ],
   "source": [
    "# Run SGDRegressor model with a linear kernel on the reduced training data set\n",
    "from time import time\n",
    "\n",
    "start = time()\n",
    "\n",
    "from sklearn import linear_model\n",
    "\n",
    "sgd = linear_model.SGDRegressor(penalty='l1', learning_rate='optimal', alpha=0.1, max_iter=5000, tol=1e-3)\n",
    "\n",
    "sgd.fit(X_train, y_train)\n",
    "\n",
    "predicted_values = sgd.predict(X_train)\n",
    "\n",
    "sgd.score(X_train, y_train)\n",
    "\n",
    "from sklearn.model_selection import cross_val_score\n",
    "cross_val_score(sgd, X_train, y_train, cv=5)\n",
    "\n",
    "print(round(time()-start, 2))"
   ]
  },
  {
   "cell_type": "code",
   "execution_count": 31,
   "metadata": {},
   "outputs": [
    {
     "data": {
      "text/plain": [
       "[<matplotlib.lines.Line2D at 0x122cd68d0>]"
      ]
     },
     "execution_count": 31,
     "metadata": {},
     "output_type": "execute_result"
    },
    {
     "data": {
      "image/png": "[encoded data removed]",
      "text/plain": [
       "<Figure size 432x288 with 1 Axes>"
      ]
     },
     "metadata": {
      "needs_background": "light"
     },
     "output_type": "display_data"
    }
   ],
   "source": [
    "#Plot the training data versus predicted values\n",
    "\n",
    "plt.xlabel('Original Data')\n",
    "plt.ylabel('Predicted Data')\n",
    "plt.title('Arrival Delays Analysis')\n",
    "plt.plot(y_train, predicted_values)"
   ]
  },
  {
   "cell_type": "code",
   "execution_count": 29,
   "metadata": {},
   "outputs": [
    {
     "data": {
      "text/plain": [
       "array([12.00683796,  6.01413268, 38.99316782, ...,  3.01843251,\n",
       "       13.99592446,  5.00572639])"
      ]
     },
     "execution_count": 29,
     "metadata": {},
     "output_type": "execute_result"
    }
   ],
   "source": [
    "predicted_values"
   ]
  },
  {
   "cell_type": "code",
   "execution_count": 30,
   "metadata": {},
   "outputs": [
    {
     "data": {
      "text/plain": [
       "array([0.99999994, 0.9999999 , 0.99999984, 0.99999995, 0.99999994])"
      ]
     },
     "execution_count": 30,
     "metadata": {},
     "output_type": "execute_result"
    }
   ],
   "source": [
    "cross_val_score(sgd, X_train, y_train, cv=5)"
   ]
  },
  {
   "cell_type": "code",
   "execution_count": null,
   "metadata": {},
   "outputs": [],
   "source": []
  }
 ],
 "metadata": {
  "kernelspec": {
   "display_name": "Python 3",
   "language": "python",
   "name": "python3"
  },
  "language_info": {
   "codemirror_mode": {
    "name": "ipython",
    "version": 3
   },
   "file_extension": ".py",
   "mimetype": "text/x-python",
   "name": "python",
   "nbconvert_exporter": "python",
   "pygments_lexer": "ipython3",
   "version": "3.7.1"
  }
 },
 "nbformat": 4,
 "nbformat_minor": 2
}
